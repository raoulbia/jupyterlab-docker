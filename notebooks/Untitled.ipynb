{
 "cells": [
  {
   "cell_type": "code",
   "execution_count": 2,
   "metadata": {},
   "outputs": [
    {
     "name": "stdout",
     "output_type": "stream",
     "text": [
      "5.7.0\n"
     ]
    }
   ],
   "source": [
    "!jupyter notebook --version"
   ]
  },
  {
   "cell_type": "code",
   "execution_count": 2,
   "metadata": {},
   "outputs": [],
   "source": [
    "# !jupyter labextension install @jupyter-widgets/jupyterlab-manager"
   ]
  },
  {
   "cell_type": "code",
   "execution_count": 2,
   "metadata": {},
   "outputs": [],
   "source": [
    "# !jupyter nbextension enable --py widgetsnbextension"
   ]
  },
  {
   "cell_type": "code",
   "execution_count": 3,
   "metadata": {},
   "outputs": [
    {
     "name": "stdout",
     "output_type": "stream",
     "text": [
      "JupyterLab v0.35.3\n",
      "Known labextensions:\n",
      "   app dir: /usr/local/share/jupyter/lab\n",
      "        @jupyter-widgets/jupyterlab-manager v0.38.1 \u001b[32m enabled \u001b[0m \u001b[32mOK\u001b[0m\n",
      "        @lean-data-science/jupyterlab_publisher v0.1.0 \u001b[32m enabled \u001b[0m \u001b[32mOK\u001b[0m\n"
     ]
    }
   ],
   "source": [
    "!jupyter labextension list"
   ]
  },
  {
   "cell_type": "code",
   "execution_count": 1,
   "metadata": {},
   "outputs": [
    {
     "name": "stdout",
     "output_type": "stream",
     "text": [
      "v8.10.0\n"
     ]
    }
   ],
   "source": [
    "!node --version"
   ]
  },
  {
   "cell_type": "code",
   "execution_count": 1,
   "metadata": {},
   "outputs": [
    {
     "name": "stdout",
     "output_type": "stream",
     "text": [
      "Enabling notebook extension jupyter-js-widgets/extension...\n",
      "      - Validating: \u001b[32mOK\u001b[0m\n"
     ]
    }
   ],
   "source": [
    "!jupyter nbextension enable --py --sys-prefix widgetsnbextension"
   ]
  },
  {
   "cell_type": "code",
   "execution_count": 12,
   "metadata": {},
   "outputs": [
    {
     "data": {
      "application/vnd.jupyter.widget-view+json": {
       "model_id": "144a181055214eb3bc4b7f3cd0d59cc0",
       "version_major": 2,
       "version_minor": 0
      },
      "text/plain": [
       "IntSlider(value=0)"
      ]
     },
     "metadata": {},
     "output_type": "display_data"
    }
   ],
   "source": [
    "from ipywidgets import widgets\n",
    "widgets.IntSlider()"
   ]
  },
  {
   "cell_type": "code",
   "execution_count": 1,
   "metadata": {},
   "outputs": [],
   "source": [
    "from pivottablejs import pivot_ui"
   ]
  },
  {
   "cell_type": "code",
   "execution_count": 5,
   "metadata": {},
   "outputs": [
    {
     "name": "stdout",
     "output_type": "stream",
     "text": [
      "/bin/sh: 1: git: not found\n",
      "\u001b[31mjupyter-drive should either be a path to a local project or a VCS url beginning with svn+, git+, hg+, or bzr+\u001b[0m\n",
      "\u001b[33mYou are using pip version 18.1, however version 19.0.2 is available.\n",
      "You should consider upgrading via the 'pip install --upgrade pip' command.\u001b[0m\n",
      "/usr/bin/python: No module named jupyterdrive\n"
     ]
    }
   ],
   "source": [
    "!git clone git://github.com/jupyter/jupyter-drive.git\n",
    "!pip install -e jupyter-drive\n",
    "!python -m jupyterdrive\n",
    "# python -m jupyterdrive --deactivate"
   ]
  },
  {
   "cell_type": "code",
   "execution_count": 1,
   "metadata": {},
   "outputs": [
    {
     "name": "stdout",
     "output_type": "stream",
     "text": [
      "\u001b[0m\u001b[01;32mPREDICATION_OBJ_GENE_test.csv\u001b[0m*  \u001b[01;32msemmeddb_stats_obj-Copy1.ipynb\u001b[0m*\n",
      "\u001b[01;32mUntitled.ipynb\u001b[0m*                 \u001b[01;32msemmeddb_stats_obj.ipynb\u001b[0m*\n",
      "\u001b[01;32minteractive_widget_test.ipynb\u001b[0m*  \u001b[01;32msemmeddb_stats_subj_v0.ipynb\u001b[0m*\n",
      "\u001b[01;32mmatplotlib_test.ipynb\u001b[0m*          \u001b[01;32msemmeddb_stats_subj_v1.ipynb\u001b[0m*\n",
      "\u001b[01;32mplotly_FigureWidget.ipynb\u001b[0m*      \u001b[01;32mtemp-plot.html\u001b[0m*\n",
      "\u001b[01;32mplotly_test.ipynb\u001b[0m*              \u001b[01;32muntitled.pub\u001b[0m*\n"
     ]
    }
   ],
   "source": [
    "%ls"
   ]
  },
  {
   "cell_type": "code",
   "execution_count": 12,
   "metadata": {},
   "outputs": [
    {
     "data": {
      "text/html": [
       "<div>\n",
       "<style scoped>\n",
       "    .dataframe tbody tr th:only-of-type {\n",
       "        vertical-align: middle;\n",
       "    }\n",
       "\n",
       "    .dataframe tbody tr th {\n",
       "        vertical-align: top;\n",
       "    }\n",
       "\n",
       "    .dataframe thead th {\n",
       "        text-align: right;\n",
       "    }\n",
       "</style>\n",
       "<table border=\"1\" class=\"dataframe\">\n",
       "  <thead>\n",
       "    <tr style=\"text-align: right;\">\n",
       "      <th></th>\n",
       "      <th>50877070</th>\n",
       "      <th>89092132</th>\n",
       "      <th>15935022</th>\n",
       "      <th>COEXISTS_WITH</th>\n",
       "      <th>4810</th>\n",
       "      <th>NHS</th>\n",
       "      <th>gngm</th>\n",
       "      <th>1</th>\n",
       "      <th>C1332077</th>\n",
       "      <th>ALF Gene</th>\n",
       "      <th>gngm.1</th>\n",
       "      <th>1.1</th>\n",
       "      <th>1050068560</th>\n",
       "      <th>C1332077.1</th>\n",
       "      <th>173,11036</th>\n",
       "      <th>AFM,GTF2A1L</th>\n",
       "    </tr>\n",
       "  </thead>\n",
       "  <tbody>\n",
       "    <tr>\n",
       "      <th>0</th>\n",
       "      <td>50877201</td>\n",
       "      <td>89092352</td>\n",
       "      <td>15935022</td>\n",
       "      <td>COEXISTS_WITH</td>\n",
       "      <td>4810</td>\n",
       "      <td>NHS</td>\n",
       "      <td>gngm</td>\n",
       "      <td>1</td>\n",
       "      <td>C1332077</td>\n",
       "      <td>ALF Gene</td>\n",
       "      <td>gngm</td>\n",
       "      <td>1</td>\n",
       "      <td>1050068560</td>\n",
       "      <td>C1332077</td>\n",
       "      <td>173,11036</td>\n",
       "      <td>AFM,GTF2A1L</td>\n",
       "    </tr>\n",
       "    <tr>\n",
       "      <th>1</th>\n",
       "      <td>76431582</td>\n",
       "      <td>139633894</td>\n",
       "      <td>25388544</td>\n",
       "      <td>compared_with</td>\n",
       "      <td>4810</td>\n",
       "      <td>NHS</td>\n",
       "      <td>gngm</td>\n",
       "      <td>1</td>\n",
       "      <td>C1332077</td>\n",
       "      <td>ALF Gene</td>\n",
       "      <td>gngm</td>\n",
       "      <td>1</td>\n",
       "      <td>1050068560</td>\n",
       "      <td>C1332077</td>\n",
       "      <td>173,11036</td>\n",
       "      <td>AFM,GTF2A1L</td>\n",
       "    </tr>\n",
       "    <tr>\n",
       "      <th>2</th>\n",
       "      <td>17004053</td>\n",
       "      <td>30378324</td>\n",
       "      <td>8600505</td>\n",
       "      <td>STIMULATES</td>\n",
       "      <td>2678|653590|728226|728441|729838</td>\n",
       "      <td>GGT1|GGTLC5P|GGTLC3|GGT2|GGTLC4P</td>\n",
       "      <td>gngm</td>\n",
       "      <td>1</td>\n",
       "      <td>C0022457</td>\n",
       "      <td>K-ras Oncogene</td>\n",
       "      <td>gngm</td>\n",
       "      <td>1</td>\n",
       "      <td>1050078931</td>\n",
       "      <td>C0022457</td>\n",
       "      <td>3845</td>\n",
       "      <td>KRAS</td>\n",
       "    </tr>\n",
       "    <tr>\n",
       "      <th>3</th>\n",
       "      <td>18541926</td>\n",
       "      <td>32841416</td>\n",
       "      <td>1652570</td>\n",
       "      <td>compared_with</td>\n",
       "      <td>C0086661|4609</td>\n",
       "      <td>MYC gene|MYC</td>\n",
       "      <td>gngm</td>\n",
       "      <td>1</td>\n",
       "      <td>C0022457</td>\n",
       "      <td>K-ras Oncogene</td>\n",
       "      <td>gngm</td>\n",
       "      <td>1</td>\n",
       "      <td>1050078931</td>\n",
       "      <td>C0022457</td>\n",
       "      <td>3845</td>\n",
       "      <td>KRAS</td>\n",
       "    </tr>\n",
       "  </tbody>\n",
       "</table>\n",
       "</div>"
      ],
      "text/plain": [
       "   50877070   89092132  15935022  COEXISTS_WITH  \\\n",
       "0  50877201   89092352  15935022  COEXISTS_WITH   \n",
       "1  76431582  139633894  25388544  compared_with   \n",
       "2  17004053   30378324   8600505     STIMULATES   \n",
       "3  18541926   32841416   1652570  compared_with   \n",
       "\n",
       "                               4810                               NHS  gngm  \\\n",
       "0                              4810                               NHS  gngm   \n",
       "1                              4810                               NHS  gngm   \n",
       "2  2678|653590|728226|728441|729838  GGT1|GGTLC5P|GGTLC3|GGT2|GGTLC4P  gngm   \n",
       "3                     C0086661|4609                      MYC gene|MYC  gngm   \n",
       "\n",
       "   1  C1332077        ALF Gene gngm.1  1.1  1050068560 C1332077.1  173,11036  \\\n",
       "0  1  C1332077        ALF Gene   gngm    1  1050068560   C1332077  173,11036   \n",
       "1  1  C1332077        ALF Gene   gngm    1  1050068560   C1332077  173,11036   \n",
       "2  1  C0022457  K-ras Oncogene   gngm    1  1050078931   C0022457       3845   \n",
       "3  1  C0022457  K-ras Oncogene   gngm    1  1050078931   C0022457       3845   \n",
       "\n",
       "   AFM,GTF2A1L  \n",
       "0  AFM,GTF2A1L  \n",
       "1  AFM,GTF2A1L  \n",
       "2         KRAS  \n",
       "3         KRAS  "
      ]
     },
     "execution_count": 12,
     "metadata": {},
     "output_type": "execute_result"
    }
   ],
   "source": [
    "import pandas as pd\n",
    "test = pd.read_csv('../data/PREDICATION_OBJ_GENE_test.csv')\n",
    "test.head()\n"
   ]
  }
 ],
 "metadata": {
  "kernelspec": {
   "display_name": "Python 3",
   "language": "python",
   "name": "python3"
  },
  "language_info": {
   "codemirror_mode": {
    "name": "ipython",
    "version": 3
   },
   "file_extension": ".py",
   "mimetype": "text/x-python",
   "name": "python",
   "nbconvert_exporter": "python",
   "pygments_lexer": "ipython3",
   "version": "3.7.0"
  }
 },
 "nbformat": 4,
 "nbformat_minor": 2
}
