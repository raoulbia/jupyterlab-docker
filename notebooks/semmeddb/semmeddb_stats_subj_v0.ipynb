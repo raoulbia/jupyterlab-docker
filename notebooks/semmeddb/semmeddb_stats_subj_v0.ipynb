{
 "cells": [
  {
   "cell_type": "code",
   "execution_count": 1,
   "metadata": {},
   "outputs": [],
   "source": [
    "# https://blog.ouseful.info/2016/12/29/simple-view-controls-for-pandas-dataframes-using-ipython-widgets/\n",
    "# https://towardsdatascience.com/the-next-level-of-data-visualization-in-python-dd6e99039d5e\n",
    "\n",
    "import pandas as pd\n",
    "import numpy as np\n",
    "import csv\n",
    "\n",
    "# %matplotlib widget\n",
    "# import matplotlib.pyplot as plt\n",
    "\n",
    "# import widgets\n",
    "from ipywidgets import interact, interact_manual, interactive\n",
    "from ipywidgets import HBox, Label\n",
    "import ipywidgets as widgets"
   ]
  },
  {
   "cell_type": "code",
   "execution_count": 2,
   "metadata": {},
   "outputs": [
    {
     "name": "stdout",
     "output_type": "stream",
     "text": [
      "/usr/local/bin/data/semmeddb/output\n"
     ]
    }
   ],
   "source": [
    "%cd ../../data/semmeddb/output\n",
    "# !ls"
   ]
  },
  {
   "cell_type": "markdown",
   "metadata": {},
   "source": [
    "## The Raw Data"
   ]
  },
  {
   "cell_type": "code",
   "execution_count": 3,
   "metadata": {},
   "outputs": [
    {
     "name": "stdout",
     "output_type": "stream",
     "text": [
      "267786\n"
     ]
    },
    {
     "data": {
      "text/html": [
       "<div>\n",
       "<style scoped>\n",
       "    .dataframe tbody tr th:only-of-type {\n",
       "        vertical-align: middle;\n",
       "    }\n",
       "\n",
       "    .dataframe tbody tr th {\n",
       "        vertical-align: top;\n",
       "    }\n",
       "\n",
       "    .dataframe thead th {\n",
       "        text-align: right;\n",
       "    }\n",
       "</style>\n",
       "<table border=\"1\" class=\"dataframe\">\n",
       "  <thead>\n",
       "    <tr style=\"text-align: right;\">\n",
       "      <th></th>\n",
       "      <th>SUBJECT</th>\n",
       "      <th>RELATION</th>\n",
       "      <th>OBJECT</th>\n",
       "      <th>ENTREZ_ID</th>\n",
       "      <th>UNIPROT_Protein names</th>\n",
       "      <th>UNIPROT_Gene name_primary</th>\n",
       "      <th>UNIPROT_Gene name_synonym</th>\n",
       "      <th>Organism</th>\n",
       "      <th>IS_MASTER_GENE</th>\n",
       "      <th>PMID</th>\n",
       "    </tr>\n",
       "  </thead>\n",
       "  <tbody>\n",
       "    <tr>\n",
       "      <th>0</th>\n",
       "      <td>DUX4</td>\n",
       "      <td>AFFECTS</td>\n",
       "      <td>Allelic exclusion</td>\n",
       "      <td>100288687</td>\n",
       "      <td>DUX4 (Double homeodomain protein DUX4-fl)</td>\n",
       "      <td>DUX4</td>\n",
       "      <td>DUX4L</td>\n",
       "      <td>Homo sapiens (Human)</td>\n",
       "      <td>subject</td>\n",
       "      <td>12055243</td>\n",
       "    </tr>\n",
       "    <tr>\n",
       "      <th>1</th>\n",
       "      <td>DUX4</td>\n",
       "      <td>AFFECTS</td>\n",
       "      <td>Antibody Diversity</td>\n",
       "      <td>100288687</td>\n",
       "      <td>DUX4 (Double homeodomain protein DUX4-fl)</td>\n",
       "      <td>DUX4</td>\n",
       "      <td>DUX4L</td>\n",
       "      <td>Homo sapiens (Human)</td>\n",
       "      <td>subject</td>\n",
       "      <td>6767191</td>\n",
       "    </tr>\n",
       "    <tr>\n",
       "      <th>2</th>\n",
       "      <td>DUX4</td>\n",
       "      <td>AFFECTS</td>\n",
       "      <td>Antibody Formation</td>\n",
       "      <td>100288687</td>\n",
       "      <td>DUX4 (Double homeodomain protein DUX4-fl)</td>\n",
       "      <td>DUX4</td>\n",
       "      <td>DUX4L</td>\n",
       "      <td>Homo sapiens (Human)</td>\n",
       "      <td>subject</td>\n",
       "      <td>3091695</td>\n",
       "    </tr>\n",
       "    <tr>\n",
       "      <th>3</th>\n",
       "      <td>DUX4</td>\n",
       "      <td>AFFECTS</td>\n",
       "      <td>B-Cell Development</td>\n",
       "      <td>100288687</td>\n",
       "      <td>DUX4 (Double homeodomain protein DUX4-fl)</td>\n",
       "      <td>DUX4</td>\n",
       "      <td>DUX4L</td>\n",
       "      <td>Homo sapiens (Human)</td>\n",
       "      <td>subject</td>\n",
       "      <td>7909357,21349430</td>\n",
       "    </tr>\n",
       "    <tr>\n",
       "      <th>4</th>\n",
       "      <td>DUX4</td>\n",
       "      <td>AFFECTS</td>\n",
       "      <td>Cell Line</td>\n",
       "      <td>100288687</td>\n",
       "      <td>DUX4 (Double homeodomain protein DUX4-fl)</td>\n",
       "      <td>DUX4</td>\n",
       "      <td>DUX4L</td>\n",
       "      <td>Homo sapiens (Human)</td>\n",
       "      <td>subject</td>\n",
       "      <td>10087940</td>\n",
       "    </tr>\n",
       "  </tbody>\n",
       "</table>\n",
       "</div>"
      ],
      "text/plain": [
       "  SUBJECT RELATION              OBJECT  ENTREZ_ID  \\\n",
       "0    DUX4  AFFECTS   Allelic exclusion  100288687   \n",
       "1    DUX4  AFFECTS  Antibody Diversity  100288687   \n",
       "2    DUX4  AFFECTS  Antibody Formation  100288687   \n",
       "3    DUX4  AFFECTS  B-Cell Development  100288687   \n",
       "4    DUX4  AFFECTS           Cell Line  100288687   \n",
       "\n",
       "                       UNIPROT_Protein names UNIPROT_Gene name_primary  \\\n",
       "0  DUX4 (Double homeodomain protein DUX4-fl)                      DUX4   \n",
       "1  DUX4 (Double homeodomain protein DUX4-fl)                      DUX4   \n",
       "2  DUX4 (Double homeodomain protein DUX4-fl)                      DUX4   \n",
       "3  DUX4 (Double homeodomain protein DUX4-fl)                      DUX4   \n",
       "4  DUX4 (Double homeodomain protein DUX4-fl)                      DUX4   \n",
       "\n",
       "  UNIPROT_Gene name_synonym              Organism IS_MASTER_GENE  \\\n",
       "0                     DUX4L  Homo sapiens (Human)        subject   \n",
       "1                     DUX4L  Homo sapiens (Human)        subject   \n",
       "2                     DUX4L  Homo sapiens (Human)        subject   \n",
       "3                     DUX4L  Homo sapiens (Human)        subject   \n",
       "4                     DUX4L  Homo sapiens (Human)        subject   \n",
       "\n",
       "               PMID  \n",
       "0          12055243  \n",
       "1           6767191  \n",
       "2           3091695  \n",
       "3  7909357,21349430  \n",
       "4          10087940  "
      ]
     },
     "execution_count": 3,
     "metadata": {},
     "output_type": "execute_result"
    }
   ],
   "source": [
    "triples_final = pd.read_csv('SEMMEDDB_TRIPLES_FINAL.csv', \n",
    "                            encoding='utf-8',\n",
    "                            sep=',',\n",
    "                            index_col = 0,\n",
    "                           header=0\n",
    "                          )\n",
    "triples_final = triples_final.astype('str') \n",
    "print(len(triples_final))\n",
    "triples_final.head()"
   ]
  },
  {
   "cell_type": "code",
   "execution_count": 4,
   "metadata": {},
   "outputs": [],
   "source": [
    "# test\n",
    "# df = triples_final.copy()\n",
    "# df = df[df['SUBJECT']=='LATS1']\n",
    "# df['RELATION'].unique().tolist()"
   ]
  },
  {
   "cell_type": "markdown",
   "metadata": {},
   "source": [
    "## The SUBJECT View"
   ]
  },
  {
   "cell_type": "code",
   "execution_count": 5,
   "metadata": {},
   "outputs": [],
   "source": [
    "# https://stackoverflow.com/questions/45754356/jupyter-notebook-widgets-create-dependent-dropdowns"
   ]
  },
  {
   "cell_type": "code",
   "execution_count": 6,
   "metadata": {},
   "outputs": [
    {
     "data": {
      "application/vnd.jupyter.widget-view+json": {
       "model_id": "4cca5b22d6c5493ea62a6ad05a718458",
       "version_major": 2,
       "version_minor": 0
      },
      "text/plain": [
       "interactive(children=(Dropdown(description='SUBJECT', options=('Select from List', 'ABL1', 'ACSL1', 'AFF4', 'A…"
      ]
     },
     "metadata": {},
     "output_type": "display_data"
    }
   ],
   "source": [
    "# Create the dataframe\n",
    "df1 = triples_final.copy()\n",
    "df1 = df1[df1['IS_MASTER_GENE']=='subject']\n",
    "df1 = df1[['SUBJECT', 'RELATION', 'OBJECT', 'PMID']].copy()\n",
    "\n",
    "# create the Subject drop down list\n",
    "items_sub = ['Select from List']+sorted(df1['SUBJECT'].unique().tolist())\n",
    "\n",
    "# set up widgets\n",
    "x_widget = widgets.Dropdown(options = items_sub, description='SUBJECT')\n",
    "y_widget = widgets.Dropdown(description='RELATION')\n",
    "\n",
    "# Define update function that updates the content of y based on what we select for x\n",
    "def update(*args):\n",
    "#     global df\n",
    "    df1_update = df1[df1['SUBJECT']==x_widget.value]\n",
    "    y_widget.options = ['All']+df1_update['RELATION'].unique().tolist()\n",
    "    df1_update = df1\n",
    "    \n",
    "x_widget.observe(update)\n",
    "\n",
    "# function to be executed\n",
    "def show_data(x, y):\n",
    "    if x=='All' and y=='ALL':  return df1\n",
    "    elif not x=='All' and y=='All': return df1[df1['SUBJECT']==x]\n",
    "    elif x=='All' and not y=='All': return df1[df1['RELATION']==y]\n",
    "    else: return df1[(df1['SUBJECT']==x) & (df1['RELATION']==y)]\n",
    "\n",
    "interact(show_data, x = x_widget, y = y_widget);"
   ]
  },
  {
   "cell_type": "code",
   "execution_count": 7,
   "metadata": {},
   "outputs": [],
   "source": [
    "# df = triples_final.copy()\n",
    "# df = df[df['IS_MASTER_GENE']=='subject']\n",
    "# df = df[['SUBJECT', 'RELATION', 'OBJECT', 'PMID']].copy()\n",
    "\n",
    "# rels = df.RELATION.value_counts()\n",
    "# rels = rels[rels > 1000]\n",
    "# rels"
   ]
  },
  {
   "cell_type": "markdown",
   "metadata": {},
   "source": [
    "### Most Common RELATION by OBJECT type\n",
    "\n",
    "* Frequency is based on RELATION-OBJECT combination and is measured in terms of\n",
    "  * count of SUBJECT\n",
    "  * count of Pubmed articles"
   ]
  },
  {
   "cell_type": "code",
   "execution_count": 8,
   "metadata": {},
   "outputs": [
    {
     "data": {
      "application/vnd.jupyter.widget-view+json": {
       "model_id": "4cf34624cf564d51860e54bbecfc9d20",
       "version_major": 2,
       "version_minor": 0
      },
      "text/plain": [
       "interactive(children=(Dropdown(description='RELATION', options=('All', 'ADMINISTERED_TO', 'AFFECTS', 'ASSOCIAT…"
      ]
     },
     "metadata": {},
     "output_type": "display_data"
    }
   ],
   "source": [
    "df2 = triples_final.copy()\n",
    "df2 = df2[df2['IS_MASTER_GENE']=='subject']\n",
    "df2 = df2[['SUBJECT', 'RELATION', 'OBJECT', 'PMID']].copy()\n",
    "df2['PMID'] = df2['PMID'].apply(lambda x: len(x.split(','))) \n",
    "# print(df.head())\n",
    "\n",
    "# groupby\n",
    "grouped = df2.groupby(['RELATION', 'OBJECT']).agg({'SUBJECT': ['count'], 'PMID': 'sum'})\n",
    "# print(grouped.head())\n",
    "\n",
    "# sort descending\n",
    "df2 = pd.DataFrame((grouped\n",
    " .reset_index()\n",
    " .sort_values(by=('SUBJECT', 'count'), ascending=False)\n",
    "))\n",
    "\n",
    "#flatten column header\n",
    "df2.columns = df2.columns.get_level_values(0)\n",
    "\n",
    "# rename columns\n",
    "df2.columns=(['RELATION', 'OBJECT', 'Subject_Count', 'PMID_Count'])\n",
    "\n",
    "# filter min 10 occurrences\n",
    "# df = df[df['Subject_Count'].astype(int)>10]\n",
    "\n",
    "\n",
    "###########\n",
    "# widgets #\n",
    "###########\n",
    "\n",
    "# create the Relation drop down list\n",
    "items_rels = ['All']+sorted(df2['RELATION'].unique().tolist())\n",
    "\n",
    "# set up drop down widget\n",
    "x_widget = widgets.Dropdown(options = items_rels, description='RELATION')\n",
    "\n",
    "# set up slider widget\n",
    "style = {'description_width': 'initial'}\n",
    "slider = widgets.IntSlider(min=0, max=100, step=1, value=0, \n",
    "                           description='Min. Subject Count', \n",
    "                           style=style)\n",
    "\n",
    "# updates the content of y based on what we select for x\n",
    "def update(*args):\n",
    "#     global df2_update\n",
    "    df2_update = df2[df2['RELATION']==x_widget.value]\n",
    "    \n",
    "x_widget.observe(update)\n",
    "\n",
    "# function to be executed\n",
    "def show_data(x, y):\n",
    "    global df2_update\n",
    "    df2_update = df2[df2['Subject_Count'].astype(int)>=y]\n",
    "    if x=='All':  \n",
    "        return df2_update\n",
    "    else:\n",
    "        return df2_update[(df2_update['RELATION']==x) ]\n",
    "    \n",
    "interact(show_data, x = x_widget, y=slider);\n",
    "\n"
   ]
  },
  {
   "cell_type": "markdown",
   "metadata": {},
   "source": [
    "### SUBJECTS for a given RELATION-OBJECT combination"
   ]
  },
  {
   "cell_type": "code",
   "execution_count": 44,
   "metadata": {},
   "outputs": [
    {
     "data": {
      "application/vnd.jupyter.widget-view+json": {
       "model_id": "a50e2f78a73941ca898c31f04345add6",
       "version_major": 2,
       "version_minor": 0
      },
      "text/plain": [
       "interactive(children=(Dropdown(description='RELATION', options=('Select from List', 'ADMINISTERED_TO', 'AFFECT…"
      ]
     },
     "metadata": {},
     "output_type": "display_data"
    }
   ],
   "source": [
    "# Create the dataframe\n",
    "df3 = triples_final.copy()\n",
    "df3 = df3[df3['IS_MASTER_GENE']=='subject']\n",
    "df3 = df3[['RELATION', 'OBJECT', 'SUBJECT', 'PMID']].copy()\n",
    "df3['PMID'] = df3['PMID'].apply(lambda x: x.split(','))\n",
    "df3['PMID_Count'] = df3['PMID'].apply(lambda x: len(x))\n",
    "\n",
    "# create the Relation drop down list\n",
    "items_rels = ['Select from List']+sorted(df3['RELATION'].unique().tolist())\n",
    "\n",
    "# create the Object drop down list\n",
    "items_obj = ['All']+sorted(df3['OBJECT'].unique().tolist())\n",
    "\n",
    "# set up widgets\n",
    "x_widget = widgets.Dropdown(options = items_rels, description='RELATION')\n",
    "y_widget = widgets.Dropdown(description='OBJECT')\n",
    "\n",
    "# Define update function that updates the content of y based on what we select for x\n",
    "def update(*args):\n",
    "#     global df\n",
    "    df3_update = df3[df3['RELATION']==x_widget.value]\n",
    "    y_widget.options = ['Select from List']+df3_update['OBJECT'].unique().tolist()\n",
    "    df3_update = df3\n",
    "    \n",
    "x_widget.observe(update)\n",
    "\n",
    "# function to be executed\n",
    "def show_data(x, y):\n",
    "    if x=='All' and y=='ALL':  return df3\n",
    "    elif not x=='All' and y=='All': return df3[df3['RELATION']==x]\n",
    "    elif x=='All' and not y=='All': return df3[df3['OBJECT']==y]\n",
    "    else: return (df3[(df3['RELATION']==x) & (df3['OBJECT']==y)]\n",
    "                  .sort_values(by='PMID_Count', ascending=False)\n",
    "                  [['SUBJECT', 'PMID_Count']]\n",
    "                 )\n",
    "\n",
    "interact(show_data, x = x_widget, y = y_widget);"
   ]
  },
  {
   "cell_type": "code",
   "execution_count": 10,
   "metadata": {},
   "outputs": [],
   "source": [
    "# # import plotly.plotly as py\n",
    "# import plotly.graph_objs as go\n",
    "# import numpy as np\n",
    "# from ipywidgets import *\n",
    "\n",
    "# df = triples_final[['SUBJECT', 'RELATION', 'OBJECT']].copy()\n",
    "\n",
    "# y = df.RELATION.value_counts()\n",
    "# # y = y[y > 1000]\n",
    "\n",
    "# # print(y.tail())\n",
    "# # print(y.index.tolist())\n",
    "\n",
    "# layout = go.Layout(\n",
    "#     xaxis=dict(\n",
    "#         autorange=True,\n",
    "#         showgrid=False,\n",
    "#         zeroline=False,\n",
    "#         showline=False,\n",
    "#         ticks='',\n",
    "#         showticklabels=False\n",
    "#     ),\n",
    "#     yaxis=dict(\n",
    "#         autorange=True,\n",
    "#         showgrid=False,\n",
    "#         zeroline=False,\n",
    "#         showline=False,\n",
    "#         ticks='',\n",
    "#         showticklabels=True\n",
    "#     )\n",
    "# )\n",
    "\n",
    "\n",
    "# items_sub = ['Select from List']+sorted(df['SUBJECT'].unique().tolist())\n",
    "# x_widget = widgets.Dropdown(options = items_sub, description='SUBJECT')\n",
    "\n",
    "# @interact(a=x_widget)\n",
    "# def update(a=''):\n",
    "#     with fig.batch_update():\n",
    "#         df2 = df[df['SUBJECT']==a]\n",
    "#         y = df2.RELATION.value_counts()\n",
    "#         bar = fig.data[0]\n",
    "#         bar.x = y.index.tolist()\n",
    "        \n",
    "        \n",
    "# fig = go.FigureWidget(layout=layout)\n",
    "# fig.add_bar(x=y.index.tolist(), y=y)\n",
    "# fig.layout.title = '\\nRelation Count'\n",
    "# fig"
   ]
  },
  {
   "cell_type": "code",
   "execution_count": null,
   "metadata": {},
   "outputs": [],
   "source": [
    "\n",
    "        "
   ]
  },
  {
   "cell_type": "code",
   "execution_count": null,
   "metadata": {},
   "outputs": [],
   "source": []
  }
 ],
 "metadata": {
  "kernelspec": {
   "display_name": "Python 3",
   "language": "python",
   "name": "python3"
  },
  "language_info": {
   "codemirror_mode": {
    "name": "ipython",
    "version": 3
   },
   "file_extension": ".py",
   "mimetype": "text/x-python",
   "name": "python",
   "nbconvert_exporter": "python",
   "pygments_lexer": "ipython3",
   "version": "3.7.0"
  }
 },
 "nbformat": 4,
 "nbformat_minor": 2
}
