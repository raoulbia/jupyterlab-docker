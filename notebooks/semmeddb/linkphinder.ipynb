{
 "cells": [
  {
   "cell_type": "code",
   "execution_count": 15,
   "metadata": {},
   "outputs": [],
   "source": [
    "import pandas as pd\n",
    "import numpy as np\n",
    "import csv\n",
    "pd.set_option('display.expand_frame_repr', False)"
   ]
  },
  {
   "cell_type": "code",
   "execution_count": 9,
   "metadata": {},
   "outputs": [
    {
     "name": "stdout",
     "output_type": "stream",
     "text": [
      "RESULTS-FINAL-SAMPLE.csv  output  pkinfam.tsv\n"
     ]
    }
   ],
   "source": [
    "# %cd ../../data/semmeddb\n",
    "!ls"
   ]
  },
  {
   "cell_type": "code",
   "execution_count": 10,
   "metadata": {},
   "outputs": [
    {
     "name": "stdout",
     "output_type": "stream",
     "text": [
      "  kinase_family kinase_name kinase_id\n",
      "0           AGC        AKT1    P31749\n",
      "1           AGC        AKT2    P31751\n",
      "2           AGC        AKT3    Q9Y243\n",
      "3           AGC       MRCKA    Q5VT25\n",
      "4           AGC       MRCKB    Q9Y5S2\n",
      "  ProteinKinase_ID KinaseLabel ProteinSubstrate_ID SubstrateLabel  Site     Score\n",
      "0           P22607       FGFR3              P46108            CRK  Y251  0.899359\n",
      "1           P22607       FGFR3              P46108            CRK  Y239  0.899359\n",
      "2           P22607       FGFR3              P46108            CRK  Y108  0.899359\n",
      "3           P22607       FGFR3              P46108            CRK   Y47  0.899359\n",
      "4           P22607       FGFR3              P46108            CRK  Y136  0.899359\n"
     ]
    }
   ],
   "source": [
    "pkinfam = pd.read_csv('pkinfam.tsv', sep='\\t')\n",
    "results = pd.read_csv('RESULTS-FINAL-SAMPLE.csv', sep='\\t',\n",
    "                      usecols=['ProteinKinase_ID', 'KinaseLabel', 'ProteinSubstrate_ID', 'SubstrateLabel', 'Site', 'Score'])\n",
    "\n",
    "print(pkinfam.head())\n",
    "print(results.head())\n",
    "\n",
    "\n"
   ]
  },
  {
   "cell_type": "code",
   "execution_count": null,
   "metadata": {},
   "outputs": [],
   "source": []
  },
  {
   "cell_type": "code",
   "execution_count": 52,
   "metadata": {},
   "outputs": [
    {
     "data": {
      "text/html": [
       "<div>\n",
       "<style scoped>\n",
       "    .dataframe tbody tr th:only-of-type {\n",
       "        vertical-align: middle;\n",
       "    }\n",
       "\n",
       "    .dataframe tbody tr th {\n",
       "        vertical-align: top;\n",
       "    }\n",
       "\n",
       "    .dataframe thead th {\n",
       "        text-align: right;\n",
       "    }\n",
       "</style>\n",
       "<table border=\"1\" class=\"dataframe\">\n",
       "  <thead>\n",
       "    <tr style=\"text-align: right;\">\n",
       "      <th></th>\n",
       "      <th>KinaseLabel</th>\n",
       "      <th>SubstrateLabel</th>\n",
       "      <th>Score Range</th>\n",
       "    </tr>\n",
       "  </thead>\n",
       "  <tbody>\n",
       "    <tr>\n",
       "      <th>0</th>\n",
       "      <td>AKT1</td>\n",
       "      <td>1433Z</td>\n",
       "      <td>0.733 - 0.794</td>\n",
       "    </tr>\n",
       "    <tr>\n",
       "      <th>1</th>\n",
       "      <td>AKT1</td>\n",
       "      <td>2A5A</td>\n",
       "      <td>0.729 - 0.76</td>\n",
       "    </tr>\n",
       "    <tr>\n",
       "      <th>2</th>\n",
       "      <td>AKT1</td>\n",
       "      <td>2A5D</td>\n",
       "      <td>0.732 - 0.75</td>\n",
       "    </tr>\n",
       "    <tr>\n",
       "      <th>3</th>\n",
       "      <td>AKT1</td>\n",
       "      <td>4ET</td>\n",
       "      <td>0.766 - 0.766</td>\n",
       "    </tr>\n",
       "    <tr>\n",
       "      <th>4</th>\n",
       "      <td>AKT1</td>\n",
       "      <td>AAKB1</td>\n",
       "      <td>0.711 - 0.741</td>\n",
       "    </tr>\n",
       "  </tbody>\n",
       "</table>\n",
       "</div>"
      ],
      "text/plain": [
       "  KinaseLabel SubstrateLabel    Score Range\n",
       "0        AKT1          1433Z  0.733 - 0.794\n",
       "1        AKT1           2A5A   0.729 - 0.76\n",
       "2        AKT1           2A5D   0.732 - 0.75\n",
       "3        AKT1            4ET  0.766 - 0.766\n",
       "4        AKT1          AAKB1  0.711 - 0.741"
      ]
     },
     "execution_count": 52,
     "metadata": {},
     "output_type": "execute_result"
    }
   ],
   "source": [
    "filter = 'AKT1'\n",
    "df_aux = results.loc[results['KinaseLabel']==filter].copy()\n",
    "df_aux['Score'] = df_aux['Score'].apply(lambda x: np.round(x, 3))\n",
    "grouped = df_aux.groupby(['KinaseLabel', 'SubstrateLabel']).agg({'Score': ['min','max']})\n",
    "grouped.columns = grouped.columns.map('_'.join)\n",
    "grouped['Score Range'] = grouped.apply(lambda row: str(row['Score_min']) + ' - ' + str(row['Score_max']), axis=1)\n",
    "grouped.drop(['Score_min', 'Score_max'], axis=1, inplace=True)\n",
    "grouped = grouped.reset_index()\n",
    "grouped.head()\n",
    "# grouped[grouped.SubstrateLabel=='ITA4']\n",
    "# len(grouped)\n",
    "# grouped.columns"
   ]
  },
  {
   "cell_type": "code",
   "execution_count": null,
   "metadata": {},
   "outputs": [],
   "source": []
  },
  {
   "cell_type": "code",
   "execution_count": 51,
   "metadata": {},
   "outputs": [
    {
     "data": {
      "text/html": [
       "<div>\n",
       "<style scoped>\n",
       "    .dataframe tbody tr th:only-of-type {\n",
       "        vertical-align: middle;\n",
       "    }\n",
       "\n",
       "    .dataframe tbody tr th {\n",
       "        vertical-align: top;\n",
       "    }\n",
       "\n",
       "    .dataframe thead th {\n",
       "        text-align: right;\n",
       "    }\n",
       "</style>\n",
       "<table border=\"1\" class=\"dataframe\">\n",
       "  <thead>\n",
       "    <tr style=\"text-align: right;\">\n",
       "      <th></th>\n",
       "      <th>KinaseLabel</th>\n",
       "      <th>SubstrateLabel</th>\n",
       "      <th>Score Range</th>\n",
       "    </tr>\n",
       "  </thead>\n",
       "  <tbody>\n",
       "    <tr>\n",
       "      <th>0</th>\n",
       "      <td>AKT1</td>\n",
       "      <td>AKT1</td>\n",
       "      <td>0.77 - 0.77</td>\n",
       "    </tr>\n",
       "    <tr>\n",
       "      <th>1</th>\n",
       "      <td>MK15</td>\n",
       "      <td>AKT1</td>\n",
       "      <td>0.768 - 0.768</td>\n",
       "    </tr>\n",
       "    <tr>\n",
       "      <th>2</th>\n",
       "      <td>MK12</td>\n",
       "      <td>AKT1</td>\n",
       "      <td>0.766 - 0.766</td>\n",
       "    </tr>\n",
       "    <tr>\n",
       "      <th>3</th>\n",
       "      <td>KAPCA</td>\n",
       "      <td>AKT1</td>\n",
       "      <td>0.758 - 0.78</td>\n",
       "    </tr>\n",
       "    <tr>\n",
       "      <th>4</th>\n",
       "      <td>KGP1</td>\n",
       "      <td>AKT1</td>\n",
       "      <td>0.758 - 0.768</td>\n",
       "    </tr>\n",
       "  </tbody>\n",
       "</table>\n",
       "</div>"
      ],
      "text/plain": [
       "  KinaseLabel SubstrateLabel    Score Range\n",
       "0        AKT1           AKT1    0.77 - 0.77\n",
       "1        MK15           AKT1  0.768 - 0.768\n",
       "2        MK12           AKT1  0.766 - 0.766\n",
       "3       KAPCA           AKT1   0.758 - 0.78\n",
       "4        KGP1           AKT1  0.758 - 0.768"
      ]
     },
     "execution_count": 51,
     "metadata": {},
     "output_type": "execute_result"
    }
   ],
   "source": [
    "filter = 'AKT1'\n",
    "df_aux = results.loc[results['SubstrateLabel']==filter].copy()\n",
    "# print(df_aux.head())\n",
    "df_aux['Score'] = df_aux['Score'].apply(lambda x: np.round(x, 3))\n",
    "grouped = df_aux.groupby(['KinaseLabel', 'SubstrateLabel']).agg({'Score': ['min','max']})\n",
    "grouped.columns = grouped.columns.map('_'.join)\n",
    "grouped = grouped.sort_values(by='Score_min', ascending=False).reset_index()\n",
    "grouped['Score Range'] = grouped.apply(lambda row: str(row['Score_min']) + ' - ' + str(row['Score_max']), axis=1)\n",
    "grouped.drop(['Score_min', 'Score_max'], axis=1, inplace=True)\n",
    "grouped.head()\n",
    "# len(grouped)\n",
    "# grouped[grouped.SubstrateLabel=='ITA4']\n",
    "# grouped.columns"
   ]
  }
 ],
 "metadata": {
  "kernelspec": {
   "display_name": "Python 3",
   "language": "python",
   "name": "python3"
  },
  "language_info": {
   "codemirror_mode": {
    "name": "ipython",
    "version": 3
   },
   "file_extension": ".py",
   "mimetype": "text/x-python",
   "name": "python",
   "nbconvert_exporter": "python",
   "pygments_lexer": "ipython3",
   "version": "3.7.0"
  }
 },
 "nbformat": 4,
 "nbformat_minor": 2
}
