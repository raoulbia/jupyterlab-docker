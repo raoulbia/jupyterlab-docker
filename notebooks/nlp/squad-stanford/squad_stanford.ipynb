{
 "cells": [
  {
   "cell_type": "markdown",
   "metadata": {},
   "source": [
    "# Converting from JSON to Tidy Data Pandas Dataframe\n",
    "\n",
    "In this notebook I share a script to convert the [Stanford Question Answering Dataset (SQuAD)](https://rajpurkar.github.io/SQuAD-explorer/) dataset from JSON format to a [Tidy Data](https://vita.had.co.nz/papers/tidy-data.pdf) Pandas Dataframe.\n",
    "\n",
    "**About the SQuAD dataset**\n",
    "\n",
    "The dataset is used in natural language processing (NLP) research in the field of machine learning and reading comprehension. The datset consists of questions posed by crowdworkers on a set of Wikipedia articles, where the answer to every question is a segment of text, or span, from the corresponding reading passage, or the question might be unanswerable. \n",
    "\n",
    "<br>\n"
   ]
  },
  {
   "cell_type": "code",
   "execution_count": 1,
   "metadata": {},
   "outputs": [],
   "source": [
    "import requests\n",
    "import pandas as pd\n",
    "from pandas.io.json import json_normalize"
   ]
  },
  {
   "cell_type": "markdown",
   "metadata": {},
   "source": [
    "### Load data"
   ]
  },
  {
   "cell_type": "code",
   "execution_count": 2,
   "metadata": {},
   "outputs": [],
   "source": [
    "# dev url\n",
    "url = \"https://raw.githubusercontent.com/aswalin/SQuAD/master/data/dev-v1.1.json\"\n",
    "\n",
    "# train url\n",
    "# url = \"https://raw.githubusercontent.com/aswalin/SQuAD/master/data/train-v1.1.json\"\n",
    "\n",
    "r = requests.get(url)\n",
    "json_dict = r.json()"
   ]
  },
  {
   "cell_type": "markdown",
   "metadata": {},
   "source": [
    "### Explore JSON file"
   ]
  },
  {
   "cell_type": "code",
   "execution_count": 3,
   "metadata": {},
   "outputs": [
    {
     "name": "stdout",
     "output_type": "stream",
     "text": [
      "top-level-keys: ['data', 'version']\n",
      "data keys: ['title', 'paragraphs']\n",
      "paragraphs keys: ['context', 'qas']\n",
      "qas keys: ['answers', 'question', 'id']\n",
      "answers keys: ['answer_start', 'text']\n"
     ]
    }
   ],
   "source": [
    "# Nested Keys\n",
    "print('top-level-keys: {}'.format(list(json_dict.keys())))\n",
    "print('data keys: {}'.format(list(json_dict['data'][0].keys())))\n",
    "print('paragraphs keys: {}'.format(list(json_dict['data'][0]['paragraphs'][0].keys())))\n",
    "print('qas keys: {}'.format(list(json_dict['data'][0]['paragraphs'][0]['qas'][0].keys())))\n",
    "print('answers keys: {}'.format(list(json_dict['data'][0]['paragraphs'][0]['qas'][0]['answers'][0].keys())))"
   ]
  },
  {
   "cell_type": "code",
   "execution_count": 4,
   "metadata": {},
   "outputs": [
    {
     "name": "stdout",
     "output_type": "stream",
     "text": [
      "Nbr Corpora: 48\n"
     ]
    }
   ],
   "source": [
    "# Count Corpora\n",
    "print('Nbr Corpora: {}'.format(len(json_dict['data'])))"
   ]
  },
  {
   "cell_type": "code",
   "execution_count": 5,
   "metadata": {},
   "outputs": [],
   "source": [
    "# Print Corpora Titles\n",
    "# print(list(json_normalize(json_dict,'data')['title']))"
   ]
  },
  {
   "cell_type": "markdown",
   "metadata": {},
   "source": [
    "### Convert to Tidy DF"
   ]
  },
  {
   "cell_type": "code",
   "execution_count": 6,
   "metadata": {},
   "outputs": [],
   "source": [
    "def convert_squad_to_tidy_df(json_dict, corpus):\n",
    "    \"\"\"This function converts the SQuAD JSON data to a Tidy Data Pandas Dataframe.\n",
    "    \n",
    "    :param obj json_dict: squad json data\n",
    "    :param str corpus: name of squad corpora to select subset from json object\n",
    "    \n",
    "    :returns: converted json data\n",
    "    :rtype: pandas dataframe\n",
    "    \n",
    "    \"\"\"\n",
    "    data = [c for c in json_dict['data'] if c['title']==corpus][0]\n",
    "    df = pd.DataFrame()\n",
    "    data_paragraphs = data['paragraphs']\n",
    "    for article_dict in data_paragraphs:\n",
    "        row = []\n",
    "        for answers_dict in article_dict['qas']:\n",
    "            for answer in answers_dict['answers']:\n",
    "                row.append((article_dict['context'][:50], \n",
    "                            answers_dict['question'], \n",
    "                            answers_dict['id'],\n",
    "                            answer['answer_start'],\n",
    "                            answer['text']\n",
    "                           ))\n",
    "        df = pd.concat([df, pd.DataFrame.from_records(row, columns=['context', 'question', 'id', 'answer_start', 'text'])], axis=0, ignore_index=True)\n",
    "        df.drop_duplicates(inplace=True)\n",
    "    return df"
   ]
  },
  {
   "cell_type": "code",
   "execution_count": 7,
   "metadata": {},
   "outputs": [
    {
     "name": "stdout",
     "output_type": "stream",
     "text": [
      "1370\n"
     ]
    },
    {
     "data": {
      "text/html": [
       "<div>\n",
       "<style scoped>\n",
       "    .dataframe tbody tr th:only-of-type {\n",
       "        vertical-align: middle;\n",
       "    }\n",
       "\n",
       "    .dataframe tbody tr th {\n",
       "        vertical-align: top;\n",
       "    }\n",
       "\n",
       "    .dataframe thead th {\n",
       "        text-align: right;\n",
       "    }\n",
       "</style>\n",
       "<table border=\"1\" class=\"dataframe\">\n",
       "  <thead>\n",
       "    <tr style=\"text-align: right;\">\n",
       "      <th></th>\n",
       "      <th>context</th>\n",
       "      <th>question</th>\n",
       "      <th>id</th>\n",
       "      <th>answer_start</th>\n",
       "      <th>text</th>\n",
       "    </tr>\n",
       "  </thead>\n",
       "  <tbody>\n",
       "    <tr>\n",
       "      <th>0</th>\n",
       "      <td>Super Bowl 50 was an American football game to...</td>\n",
       "      <td>Which NFL team represented the AFC at Super Bo...</td>\n",
       "      <td>56be4db0acb8001400a502ec</td>\n",
       "      <td>177</td>\n",
       "      <td>Denver Broncos</td>\n",
       "    </tr>\n",
       "    <tr>\n",
       "      <th>1</th>\n",
       "      <td>Super Bowl 50 was an American football game to...</td>\n",
       "      <td>Which NFL team represented the NFC at Super Bo...</td>\n",
       "      <td>56be4db0acb8001400a502ed</td>\n",
       "      <td>249</td>\n",
       "      <td>Carolina Panthers</td>\n",
       "    </tr>\n",
       "    <tr>\n",
       "      <th>2</th>\n",
       "      <td>Super Bowl 50 was an American football game to...</td>\n",
       "      <td>Where did Super Bowl 50 take place?</td>\n",
       "      <td>56be4db0acb8001400a502ee</td>\n",
       "      <td>403</td>\n",
       "      <td>Santa Clara, California</td>\n",
       "    </tr>\n",
       "    <tr>\n",
       "      <th>3</th>\n",
       "      <td>Super Bowl 50 was an American football game to...</td>\n",
       "      <td>Where did Super Bowl 50 take place?</td>\n",
       "      <td>56be4db0acb8001400a502ee</td>\n",
       "      <td>355</td>\n",
       "      <td>Levi's Stadium</td>\n",
       "    </tr>\n",
       "    <tr>\n",
       "      <th>4</th>\n",
       "      <td>Super Bowl 50 was an American football game to...</td>\n",
       "      <td>Where did Super Bowl 50 take place?</td>\n",
       "      <td>56be4db0acb8001400a502ee</td>\n",
       "      <td>355</td>\n",
       "      <td>Levi's Stadium in the San Francisco Bay Area a...</td>\n",
       "    </tr>\n",
       "  </tbody>\n",
       "</table>\n",
       "</div>"
      ],
      "text/plain": [
       "                                             context  \\\n",
       "0  Super Bowl 50 was an American football game to...   \n",
       "1  Super Bowl 50 was an American football game to...   \n",
       "2  Super Bowl 50 was an American football game to...   \n",
       "3  Super Bowl 50 was an American football game to...   \n",
       "4  Super Bowl 50 was an American football game to...   \n",
       "\n",
       "                                            question  \\\n",
       "0  Which NFL team represented the AFC at Super Bo...   \n",
       "1  Which NFL team represented the NFC at Super Bo...   \n",
       "2                Where did Super Bowl 50 take place?   \n",
       "3                Where did Super Bowl 50 take place?   \n",
       "4                Where did Super Bowl 50 take place?   \n",
       "\n",
       "                         id  answer_start  \\\n",
       "0  56be4db0acb8001400a502ec           177   \n",
       "1  56be4db0acb8001400a502ed           249   \n",
       "2  56be4db0acb8001400a502ee           403   \n",
       "3  56be4db0acb8001400a502ee           355   \n",
       "4  56be4db0acb8001400a502ee           355   \n",
       "\n",
       "                                                text  \n",
       "0                                     Denver Broncos  \n",
       "1                                  Carolina Panthers  \n",
       "2                            Santa Clara, California  \n",
       "3                                     Levi's Stadium  \n",
       "4  Levi's Stadium in the San Francisco Bay Area a...  "
      ]
     },
     "execution_count": 7,
     "metadata": {},
     "output_type": "execute_result"
    }
   ],
   "source": [
    "corpus = 'Super_Bowl_50' # only in dev dataset\n",
    "# corpus = 'Culture'\n",
    "df = convert_squad_to_tidy_df(json_dict, corpus)#.reset_index()\n",
    "print(len(df))\n",
    "df.head()"
   ]
  },
  {
   "cell_type": "markdown",
   "metadata": {},
   "source": [
    "#### Some useful Links\n",
    "\n",
    "* https://github.com/aswalin/SQuAD.git\n",
    "* https://github.com/priya-dwivedi/cs224n-Squad-Project\n",
    "* https://mindtrove.info/flatten-nested-json-with-pandas/"
   ]
  }
 ],
 "metadata": {
  "kernelspec": {
   "display_name": "Python 3",
   "language": "python",
   "name": "python3"
  },
  "language_info": {
   "codemirror_mode": {
    "name": "ipython",
    "version": 3
   },
   "file_extension": ".py",
   "mimetype": "text/x-python",
   "name": "python",
   "nbconvert_exporter": "python",
   "pygments_lexer": "ipython3",
   "version": "3.7.0"
  }
 },
 "nbformat": 4,
 "nbformat_minor": 2
}
