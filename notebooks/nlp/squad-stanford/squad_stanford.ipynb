{
 "cells": [
  {
   "cell_type": "markdown",
   "metadata": {},
   "source": [
    "# Converting from JSON to Tidy Data Pandas Dataframe\n",
    "\n",
    "In this notebook I share a script to convert the [Stanford Question Answering Dataset (SQuAD)](https://rajpurkar.github.io/SQuAD-explorer/) dataset from JSON format to a [Tidy Data](https://vita.had.co.nz/papers/tidy-data.pdf) Pandas Dataframe.\n",
    "\n",
    "**About the SQuAD dataset**\n",
    "\n",
    "The dataset is used in natural language processing (NLP) research in the field of machine learning and reading comprehension. The datset consists of questions posed by crowdworkers on a set of Wikipedia articles, where the answer to every question is a segment of text, or span, from the corresponding reading passage, or the question might be unanswerable. \n",
    "\n",
    "<br>\n"
   ]
  },
  {
   "cell_type": "code",
   "execution_count": 2,
   "metadata": {},
   "outputs": [],
   "source": [
    "import requests\n",
    "import pandas as pd\n",
    "from pprint import pprint\n",
    "from pandas.io.json import json_normalize\n",
    "pd.set_option('display.expand_frame_repr', False)"
   ]
  },
  {
   "cell_type": "markdown",
   "metadata": {},
   "source": [
    "### Load data"
   ]
  },
  {
   "cell_type": "code",
   "execution_count": 10,
   "metadata": {},
   "outputs": [],
   "source": [
    "url_dev = \"https://raw.githubusercontent.com/aswalin/SQuAD/master/data/dev-v1.1.json\"\n",
    "url_tr = \"https://raw.githubusercontent.com/aswalin/SQuAD/master/data/train-v1.1.json\"\n",
    "r = requests.get(url_tr)\n",
    "json_dict = r.json()"
   ]
  },
  {
   "cell_type": "markdown",
   "metadata": {},
   "source": [
    "### Explore JSON file"
   ]
  },
  {
   "cell_type": "code",
   "execution_count": 11,
   "metadata": {},
   "outputs": [
    {
     "name": "stdout",
     "output_type": "stream",
     "text": [
      "top-level-keys: ['data', 'version']\n",
      "data keys: ['title', 'paragraphs']\n",
      "paragraphs keys: ['context', 'qas']\n",
      "qas keys: ['answers', 'question', 'id']\n",
      "answers keys: ['answer_start', 'text']\n"
     ]
    }
   ],
   "source": [
    "# Nested Keys\n",
    "print('top-level-keys: {}'.format(list(json_dict.keys())))\n",
    "print('data keys: {}'.format(list(json_dict['data'][0].keys())))\n",
    "print('paragraphs keys: {}'.format(list(json_dict['data'][0]['paragraphs'][0].keys())))\n",
    "print('qas keys: {}'.format(list(json_dict['data'][0]['paragraphs'][0]['qas'][0].keys())))\n",
    "print('answers keys: {}'.format(list(json_dict['data'][0]['paragraphs'][0]['qas'][0]['answers'][0].keys())))"
   ]
  },
  {
   "cell_type": "code",
   "execution_count": 12,
   "metadata": {},
   "outputs": [
    {
     "name": "stdout",
     "output_type": "stream",
     "text": [
      "Nbr Corpora: 442\n"
     ]
    }
   ],
   "source": [
    "# Count Corpora\n",
    "\n",
    "print('Nbr Corpora: {}'.format(len(json_dict['data'])))"
   ]
  },
  {
   "cell_type": "code",
   "execution_count": 16,
   "metadata": {},
   "outputs": [],
   "source": [
    "# Print Corpora Titles\n",
    "# print(list(json_normalize(json_dict,'data')['title']))"
   ]
  },
  {
   "cell_type": "markdown",
   "metadata": {},
   "source": [
    "### Convert to Tidy DF"
   ]
  },
  {
   "cell_type": "code",
   "execution_count": 9,
   "metadata": {},
   "outputs": [],
   "source": [
    "def convert_squad_to_tidy_df(json_dict, corpus):\n",
    "    \"\"\"This function converts the SQuAD JSON data to a Tidy Data Pandas Dataframe.\n",
    "    \n",
    "    :param obj json_dict: squad json data\n",
    "    :param str corpus: name of squad corpora to select subset from json object\n",
    "    \n",
    "    :returns: converted json data\n",
    "    :rtype: pandas dataframe\n",
    "    \n",
    "    \"\"\"\n",
    "    data = [c for c in json_dict['data'] if c['title']==corpus][0]\n",
    "    df = pd.DataFrame()\n",
    "    data_paragraphs = data['paragraphs']\n",
    "    for article_dict in data_paragraphs:\n",
    "        row = []\n",
    "        for answers_dict in article_dict['qas']:\n",
    "            for answer in answers_dict['answers']:\n",
    "                row.append((article_dict['context'][:50], \n",
    "                            answers_dict['question'], \n",
    "                            answers_dict['id'],\n",
    "                            answer['answer_start'],\n",
    "                            answer['text']\n",
    "                           ))\n",
    "        df = pd.concat([df, pd.DataFrame.from_records(row, columns=['context', 'question', 'id', 'answer_start', 'text'])], axis=0, ignore_index=True)\n",
    "        df.drop_duplicates(inplace=True)\n",
    "    return df"
   ]
  },
  {
   "cell_type": "code",
   "execution_count": 15,
   "metadata": {},
   "outputs": [
    {
     "name": "stdout",
     "output_type": "stream",
     "text": [
      "79\n"
     ]
    },
    {
     "data": {
      "text/html": [
       "<div>\n",
       "<style scoped>\n",
       "    .dataframe tbody tr th:only-of-type {\n",
       "        vertical-align: middle;\n",
       "    }\n",
       "\n",
       "    .dataframe tbody tr th {\n",
       "        vertical-align: top;\n",
       "    }\n",
       "\n",
       "    .dataframe thead th {\n",
       "        text-align: right;\n",
       "    }\n",
       "</style>\n",
       "<table border=\"1\" class=\"dataframe\">\n",
       "  <thead>\n",
       "    <tr style=\"text-align: right;\">\n",
       "      <th></th>\n",
       "      <th>context</th>\n",
       "      <th>question</th>\n",
       "      <th>id</th>\n",
       "      <th>answer_start</th>\n",
       "      <th>text</th>\n",
       "    </tr>\n",
       "  </thead>\n",
       "  <tbody>\n",
       "    <tr>\n",
       "      <th>0</th>\n",
       "      <td>Cambridge English Dictionary states that cultu...</td>\n",
       "      <td>How does the Cambridge English Dictionary def...</td>\n",
       "      <td>5727b6064b864d1900163b0a</td>\n",
       "      <td>54</td>\n",
       "      <td>the way of life</td>\n",
       "    </tr>\n",
       "    <tr>\n",
       "      <th>1</th>\n",
       "      <td>Cambridge English Dictionary states that cultu...</td>\n",
       "      <td>What is the name of this theory that culture i...</td>\n",
       "      <td>5727b6064b864d1900163b0b</td>\n",
       "      <td>170</td>\n",
       "      <td>Terror Management Theory</td>\n",
       "    </tr>\n",
       "    <tr>\n",
       "      <th>2</th>\n",
       "      <td>Cambridge English Dictionary states that cultu...</td>\n",
       "      <td>What did Homo Sapiens acquire that allowed the...</td>\n",
       "      <td>5727b6064b864d1900163b0c</td>\n",
       "      <td>518</td>\n",
       "      <td>larger brain</td>\n",
       "    </tr>\n",
       "    <tr>\n",
       "      <th>3</th>\n",
       "      <td>As a defining aspect of what it means to be hu...</td>\n",
       "      <td>Around when were humans able to understand to ...</td>\n",
       "      <td>5727ba4b4b864d1900163b9c</td>\n",
       "      <td>430</td>\n",
       "      <td>50,000 years ago</td>\n",
       "    </tr>\n",
       "    <tr>\n",
       "      <th>4</th>\n",
       "      <td>As a defining aspect of what it means to be hu...</td>\n",
       "      <td>Name some cultural universals that exist with ...</td>\n",
       "      <td>5727ba4b4b864d1900163b9d</td>\n",
       "      <td>921</td>\n",
       "      <td>kinship, gender and marriage</td>\n",
       "    </tr>\n",
       "  </tbody>\n",
       "</table>\n",
       "</div>"
      ],
      "text/plain": [
       "                                             context                                           question                        id  answer_start                          text\n",
       "0  Cambridge English Dictionary states that cultu...   How does the Cambridge English Dictionary def...  5727b6064b864d1900163b0a            54               the way of life\n",
       "1  Cambridge English Dictionary states that cultu...  What is the name of this theory that culture i...  5727b6064b864d1900163b0b           170      Terror Management Theory\n",
       "2  Cambridge English Dictionary states that cultu...  What did Homo Sapiens acquire that allowed the...  5727b6064b864d1900163b0c           518                  larger brain\n",
       "3  As a defining aspect of what it means to be hu...  Around when were humans able to understand to ...  5727ba4b4b864d1900163b9c           430              50,000 years ago\n",
       "4  As a defining aspect of what it means to be hu...  Name some cultural universals that exist with ...  5727ba4b4b864d1900163b9d           921  kinship, gender and marriage"
      ]
     },
     "execution_count": 15,
     "metadata": {},
     "output_type": "execute_result"
    }
   ],
   "source": [
    "corpus = 'Super_Bowl_50' # only in dev dataset\n",
    "corpus = 'Culture'\n",
    "df = convert_squad_to_tidy_df(json_dict, corpus)#.reset_index()\n",
    "print(len(df))\n",
    "df.head()"
   ]
  },
  {
   "cell_type": "markdown",
   "metadata": {},
   "source": [
    "#### Some useful Links\n",
    "\n",
    "* https://github.com/aswalin/SQuAD.git\n",
    "* https://github.com/priya-dwivedi/cs224n-Squad-Project\n",
    "* https://mindtrove.info/flatten-nested-json-with-pandas/"
   ]
  }
 ],
 "metadata": {
  "kernelspec": {
   "display_name": "Python 3",
   "language": "python",
   "name": "python3"
  },
  "language_info": {
   "codemirror_mode": {
    "name": "ipython",
    "version": 3
   },
   "file_extension": ".py",
   "mimetype": "text/x-python",
   "name": "python",
   "nbconvert_exporter": "python",
   "pygments_lexer": "ipython3",
   "version": "3.7.0"
  }
 },
 "nbformat": 4,
 "nbformat_minor": 2
}
