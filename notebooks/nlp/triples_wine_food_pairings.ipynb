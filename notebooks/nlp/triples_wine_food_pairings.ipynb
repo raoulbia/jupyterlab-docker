{
 "cells": [
  {
   "cell_type": "code",
   "execution_count": 9,
   "metadata": {},
   "outputs": [],
   "source": [
    "# https://graphcms.com/blog/wine-db"
   ]
  },
  {
   "cell_type": "code",
   "execution_count": 2,
   "metadata": {},
   "outputs": [],
   "source": [
    "import pandas as pd"
   ]
  },
  {
   "cell_type": "code",
   "execution_count": 6,
   "metadata": {},
   "outputs": [
    {
     "data": {
      "text/html": [
       "<div>\n",
       "<style scoped>\n",
       "    .dataframe tbody tr th:only-of-type {\n",
       "        vertical-align: middle;\n",
       "    }\n",
       "\n",
       "    .dataframe tbody tr th {\n",
       "        vertical-align: top;\n",
       "    }\n",
       "\n",
       "    .dataframe thead th {\n",
       "        text-align: right;\n",
       "    }\n",
       "</style>\n",
       "<table border=\"1\" class=\"dataframe\">\n",
       "  <thead>\n",
       "    <tr style=\"text-align: right;\">\n",
       "      <th></th>\n",
       "      <th>kind</th>\n",
       "      <th>value</th>\n",
       "    </tr>\n",
       "  </thead>\n",
       "  <tbody>\n",
       "    <tr>\n",
       "      <th>0</th>\n",
       "      <td>Bold_Red</td>\n",
       "      <td>Malbec</td>\n",
       "    </tr>\n",
       "    <tr>\n",
       "      <th>1</th>\n",
       "      <td>Bold_Red</td>\n",
       "      <td>Syrah / Shiraz</td>\n",
       "    </tr>\n",
       "    <tr>\n",
       "      <th>2</th>\n",
       "      <td>Bold_Red</td>\n",
       "      <td>Mourvèdre</td>\n",
       "    </tr>\n",
       "    <tr>\n",
       "      <th>3</th>\n",
       "      <td>Bold_Red</td>\n",
       "      <td>Pinotage</td>\n",
       "    </tr>\n",
       "    <tr>\n",
       "      <th>4</th>\n",
       "      <td>Bold_Red</td>\n",
       "      <td>Petite Sirah</td>\n",
       "    </tr>\n",
       "  </tbody>\n",
       "</table>\n",
       "</div>"
      ],
      "text/plain": [
       "       kind            value\n",
       "0  Bold_Red           Malbec\n",
       "1  Bold_Red   Syrah / Shiraz\n",
       "2  Bold_Red        Mourvèdre\n",
       "3  Bold_Red         Pinotage\n",
       "4  Bold_Red     Petite Sirah"
      ]
     },
     "execution_count": 6,
     "metadata": {},
     "output_type": "execute_result"
    }
   ],
   "source": [
    "filename = 'https://gist.githubusercontent.com/motleydev/689ac7b59fdecf5f70579e700ffb9524/raw/65db79a2b50a42716e2123334337f0058cc1372c/wine.csv'\n",
    "wine = pd.read_csv(filename, encoding='utf-8', sep=',', header=0)\n",
    "wine.head()"
   ]
  },
  {
   "cell_type": "code",
   "execution_count": 7,
   "metadata": {},
   "outputs": [
    {
     "data": {
      "text/html": [
       "<div>\n",
       "<style scoped>\n",
       "    .dataframe tbody tr th:only-of-type {\n",
       "        vertical-align: middle;\n",
       "    }\n",
       "\n",
       "    .dataframe tbody tr th {\n",
       "        vertical-align: top;\n",
       "    }\n",
       "\n",
       "    .dataframe thead th {\n",
       "        text-align: right;\n",
       "    }\n",
       "</style>\n",
       "<table border=\"1\" class=\"dataframe\">\n",
       "  <thead>\n",
       "    <tr style=\"text-align: right;\">\n",
       "      <th></th>\n",
       "      <th>classification</th>\n",
       "      <th>kind</th>\n",
       "      <th>value</th>\n",
       "    </tr>\n",
       "  </thead>\n",
       "  <tbody>\n",
       "    <tr>\n",
       "      <th>0</th>\n",
       "      <td>Dairy</td>\n",
       "      <td>SOFT CHEESE &amp; CREAM</td>\n",
       "      <td>brie</td>\n",
       "    </tr>\n",
       "    <tr>\n",
       "      <th>1</th>\n",
       "      <td>Dairy</td>\n",
       "      <td>SOFT CHEESE &amp; CREAM</td>\n",
       "      <td>mascarpone</td>\n",
       "    </tr>\n",
       "    <tr>\n",
       "      <th>2</th>\n",
       "      <td>Dairy</td>\n",
       "      <td>SOFT CHEESE &amp; CREAM</td>\n",
       "      <td>créme fráiche</td>\n",
       "    </tr>\n",
       "    <tr>\n",
       "      <th>3</th>\n",
       "      <td>Dairy</td>\n",
       "      <td>PUNGENT CHEESE</td>\n",
       "      <td>bleu</td>\n",
       "    </tr>\n",
       "    <tr>\n",
       "      <th>4</th>\n",
       "      <td>Dairy</td>\n",
       "      <td>PUNGENT CHEESE</td>\n",
       "      <td>gorgonzola</td>\n",
       "    </tr>\n",
       "  </tbody>\n",
       "</table>\n",
       "</div>"
      ],
      "text/plain": [
       "  classification                  kind           value\n",
       "0          Dairy   SOFT CHEESE & CREAM            brie\n",
       "1          Dairy   SOFT CHEESE & CREAM      mascarpone\n",
       "2          Dairy   SOFT CHEESE & CREAM   créme fráiche\n",
       "3          Dairy        PUNGENT CHEESE            bleu\n",
       "4          Dairy        PUNGENT CHEESE      gorgonzola"
      ]
     },
     "execution_count": 7,
     "metadata": {},
     "output_type": "execute_result"
    }
   ],
   "source": [
    "filename = 'https://gist.githubusercontent.com/motleydev/0d32837213431fd7889d1f029ca58897/raw/9799c0e68f46fb05280d79fbb004777e89d5ca9e/food.csv'\n",
    "food = pd.read_csv(filename, encoding='utf-8', sep=',', header=0)\n",
    "food.head()"
   ]
  },
  {
   "cell_type": "code",
   "execution_count": 8,
   "metadata": {},
   "outputs": [
    {
     "data": {
      "text/html": [
       "<div>\n",
       "<style scoped>\n",
       "    .dataframe tbody tr th:only-of-type {\n",
       "        vertical-align: middle;\n",
       "    }\n",
       "\n",
       "    .dataframe tbody tr th {\n",
       "        vertical-align: top;\n",
       "    }\n",
       "\n",
       "    .dataframe thead th {\n",
       "        text-align: right;\n",
       "    }\n",
       "</style>\n",
       "<table border=\"1\" class=\"dataframe\">\n",
       "  <thead>\n",
       "    <tr style=\"text-align: right;\">\n",
       "      <th></th>\n",
       "      <th>classification</th>\n",
       "      <th>kind</th>\n",
       "      <th>pairing</th>\n",
       "      <th>wfpp</th>\n",
       "    </tr>\n",
       "  </thead>\n",
       "  <tbody>\n",
       "    <tr>\n",
       "      <th>0</th>\n",
       "      <td>Meat</td>\n",
       "      <td>RED MEAT</td>\n",
       "      <td>Bold_Red;Medium_Red</td>\n",
       "      <td>Bold_Red</td>\n",
       "    </tr>\n",
       "    <tr>\n",
       "      <th>1</th>\n",
       "      <td>Meat</td>\n",
       "      <td>CURED MEAT</td>\n",
       "      <td>Bold_Red;Medium_Red;Light_Red;Rose;Sparking;S...</td>\n",
       "      <td>Light_Red;Sweet_White</td>\n",
       "    </tr>\n",
       "    <tr>\n",
       "      <th>2</th>\n",
       "      <td>Meat</td>\n",
       "      <td>PORK</td>\n",
       "      <td>Bold_Red;Medium_Red;Rose;Sparking</td>\n",
       "      <td>Medium_Red</td>\n",
       "    </tr>\n",
       "    <tr>\n",
       "      <th>3</th>\n",
       "      <td>Meat</td>\n",
       "      <td>POULTRY</td>\n",
       "      <td>Medium_Red;Light_Red;Rose;Rich_White;Ligt_Whi...</td>\n",
       "      <td>Light_Red;Rich_White</td>\n",
       "    </tr>\n",
       "    <tr>\n",
       "      <th>4</th>\n",
       "      <td>Meat</td>\n",
       "      <td>MOLLUSK</td>\n",
       "      <td>Ligt_White;Sparking</td>\n",
       "      <td>Sparking</td>\n",
       "    </tr>\n",
       "  </tbody>\n",
       "</table>\n",
       "</div>"
      ],
      "text/plain": [
       "  classification         kind  \\\n",
       "0           Meat     RED MEAT   \n",
       "1           Meat   CURED MEAT   \n",
       "2           Meat         PORK   \n",
       "3           Meat      POULTRY   \n",
       "4           Meat      MOLLUSK   \n",
       "\n",
       "                                             pairing                    wfpp  \n",
       "0                                Bold_Red;Medium_Red                Bold_Red  \n",
       "1   Bold_Red;Medium_Red;Light_Red;Rose;Sparking;S...   Light_Red;Sweet_White  \n",
       "2                  Bold_Red;Medium_Red;Rose;Sparking              Medium_Red  \n",
       "3   Medium_Red;Light_Red;Rose;Rich_White;Ligt_Whi...    Light_Red;Rich_White  \n",
       "4                                Ligt_White;Sparking                Sparking  "
      ]
     },
     "execution_count": 8,
     "metadata": {},
     "output_type": "execute_result"
    }
   ],
   "source": [
    "filename = 'https://gist.githubusercontent.com/motleydev/709d3f8e1ea0aef6af67f613dfb8b635/raw/d3127a05520c72a89d498491ff078042b0936d8c/foodClasses.csv'\n",
    "foodClasses = pd.read_csv(filename, encoding='utf-8', sep=',', header=0)\n",
    "foodClasses.head()"
   ]
  }
 ],
 "metadata": {
  "kernelspec": {
   "display_name": "Python 3",
   "language": "python",
   "name": "python3"
  },
  "language_info": {
   "codemirror_mode": {
    "name": "ipython",
    "version": 3
   },
   "file_extension": ".py",
   "mimetype": "text/x-python",
   "name": "python",
   "nbconvert_exporter": "python",
   "pygments_lexer": "ipython3",
   "version": "3.7.0"
  }
 },
 "nbformat": 4,
 "nbformat_minor": 2
}
