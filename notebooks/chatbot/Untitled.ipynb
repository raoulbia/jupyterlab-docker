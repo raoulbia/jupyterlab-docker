{
 "cells": [
  {
   "cell_type": "code",
   "execution_count": 1,
   "metadata": {},
   "outputs": [
    {
     "name": "stdout",
     "output_type": "stream",
     "text": [
      "/usr/local/bin/notebooks/data/chatbot\n",
      "Consumer_Complaints.csv\t\t frames-data-v1.tar.gz\t   twcs.csv\n",
      "cl2017sample.tar.gz\t\t frames.json\t\t   twcs_tmobile.csv\n",
      "customer-support-on-twitter.zip  telco-customer-churn.zip\n"
     ]
    }
   ],
   "source": [
    "import pandas as pd\n",
    "%cd ../../data/chatbot\n",
    "!ls"
   ]
  },
  {
   "cell_type": "code",
   "execution_count": 14,
   "metadata": {},
   "outputs": [
    {
     "data": {
      "text/html": [
       "<div>\n",
       "<style scoped>\n",
       "    .dataframe tbody tr th:only-of-type {\n",
       "        vertical-align: middle;\n",
       "    }\n",
       "\n",
       "    .dataframe tbody tr th {\n",
       "        vertical-align: top;\n",
       "    }\n",
       "\n",
       "    .dataframe thead th {\n",
       "        text-align: right;\n",
       "    }\n",
       "</style>\n",
       "<table border=\"1\" class=\"dataframe\">\n",
       "  <thead>\n",
       "    <tr style=\"text-align: right;\">\n",
       "      <th></th>\n",
       "      <th>Unnamed: 0</th>\n",
       "      <th>tweet_id</th>\n",
       "      <th>author_id</th>\n",
       "      <th>inbound</th>\n",
       "      <th>created_at</th>\n",
       "      <th>text</th>\n",
       "      <th>response_tweet_id</th>\n",
       "      <th>in_response_to_tweet_id</th>\n",
       "    </tr>\n",
       "  </thead>\n",
       "  <tbody>\n",
       "    <tr>\n",
       "      <th>0</th>\n",
       "      <td>620</td>\n",
       "      <td>1066</td>\n",
       "      <td>TMobileHelp</td>\n",
       "      <td>False</td>\n",
       "      <td>Tue Oct 31 22:28:46 +0000 2017</td>\n",
       "      <td>@115910 Hey, Trevor! Send us a DM, and we'll t...</td>\n",
       "      <td>NaN</td>\n",
       "      <td>1067.0</td>\n",
       "    </tr>\n",
       "    <tr>\n",
       "      <th>1</th>\n",
       "      <td>627</td>\n",
       "      <td>1156</td>\n",
       "      <td>TMobileHelp</td>\n",
       "      <td>False</td>\n",
       "      <td>Tue Oct 31 22:24:01 +0000 2017</td>\n",
       "      <td>@115912 @115913 Thanks for getting that DM sen...</td>\n",
       "      <td>NaN</td>\n",
       "      <td>1157.0</td>\n",
       "    </tr>\n",
       "    <tr>\n",
       "      <th>2</th>\n",
       "      <td>630</td>\n",
       "      <td>1160</td>\n",
       "      <td>TMobileHelp</td>\n",
       "      <td>False</td>\n",
       "      <td>Tue Oct 31 22:23:40 +0000 2017</td>\n",
       "      <td>@115914 Yay for T-Mobile Tuesdays- lets's get ...</td>\n",
       "      <td>NaN</td>\n",
       "      <td>1161.0</td>\n",
       "    </tr>\n",
       "    <tr>\n",
       "      <th>3</th>\n",
       "      <td>631</td>\n",
       "      <td>1161</td>\n",
       "      <td>115914</td>\n",
       "      <td>True</td>\n",
       "      <td>Tue Oct 31 22:19:01 +0000 2017</td>\n",
       "      <td>@TMobileHelp trying to redeem a free tuesday c...</td>\n",
       "      <td>1160</td>\n",
       "      <td>NaN</td>\n",
       "    </tr>\n",
       "    <tr>\n",
       "      <th>4</th>\n",
       "      <td>632</td>\n",
       "      <td>1162</td>\n",
       "      <td>TMobileHelp</td>\n",
       "      <td>False</td>\n",
       "      <td>Tue Oct 31 22:22:53 +0000 2017</td>\n",
       "      <td>@115915 Well, we'd be happy to take a look at ...</td>\n",
       "      <td>NaN</td>\n",
       "      <td>1163.0</td>\n",
       "    </tr>\n",
       "  </tbody>\n",
       "</table>\n",
       "</div>"
      ],
      "text/plain": [
       "  Unnamed: 0  tweet_id    author_id inbound                      created_at  \\\n",
       "0        620      1066  TMobileHelp   False  Tue Oct 31 22:28:46 +0000 2017   \n",
       "1        627      1156  TMobileHelp   False  Tue Oct 31 22:24:01 +0000 2017   \n",
       "2        630      1160  TMobileHelp   False  Tue Oct 31 22:23:40 +0000 2017   \n",
       "3        631      1161       115914    True  Tue Oct 31 22:19:01 +0000 2017   \n",
       "4        632      1162  TMobileHelp   False  Tue Oct 31 22:22:53 +0000 2017   \n",
       "\n",
       "                                                text response_tweet_id  \\\n",
       "0  @115910 Hey, Trevor! Send us a DM, and we'll t...               NaN   \n",
       "1  @115912 @115913 Thanks for getting that DM sen...               NaN   \n",
       "2  @115914 Yay for T-Mobile Tuesdays- lets's get ...               NaN   \n",
       "3  @TMobileHelp trying to redeem a free tuesday c...              1160   \n",
       "4  @115915 Well, we'd be happy to take a look at ...               NaN   \n",
       "\n",
       "   in_response_to_tweet_id  \n",
       "0                   1067.0  \n",
       "1                   1157.0  \n",
       "2                   1161.0  \n",
       "3                      NaN  \n",
       "4                   1163.0  "
      ]
     },
     "execution_count": 14,
     "metadata": {},
     "output_type": "execute_result"
    }
   ],
   "source": [
    "df = pd.read_csv('twcs_tmobile.csv')\n",
    "df.head()\n",
    "# df.dtypes"
   ]
  },
  {
   "cell_type": "code",
   "execution_count": 9,
   "metadata": {},
   "outputs": [
    {
     "data": {
      "text/plain": [
       "3     @TMobileHelp trying to redeem a free tuesday c...\n",
       "7                 @TMobileHelp  https://t.co/tznFggbx3Y\n",
       "9     @TMobileHelp @115918 OK maybe my problem too l...\n",
       "11    @TMobileHelp Got it. One of them resized to 4x...\n",
       "13    @TMobileHelp @1247 The @10568 code is not work...\n",
       "Name: text, dtype: object"
      ]
     },
     "execution_count": 9,
     "metadata": {},
     "output_type": "execute_result"
    }
   ],
   "source": [
    "df_cust = df[df.author_id!='TMobileHelp']\n",
    "len(df_cust)\n",
    "df_cust.text[:5]"
   ]
  },
  {
   "cell_type": "code",
   "execution_count": 7,
   "metadata": {},
   "outputs": [
    {
     "data": {
      "text/plain": [
       "34317"
      ]
     },
     "execution_count": 7,
     "metadata": {},
     "output_type": "execute_result"
    }
   ],
   "source": [
    "df_tm = df[df.author_id=='TMobileHelp']\n",
    "len(df_tm)"
   ]
  },
  {
   "cell_type": "code",
   "execution_count": 58,
   "metadata": {},
   "outputs": [],
   "source": [
    "import re,string\n",
    "\n",
    "def strip_links(text):\n",
    "    link_regex    = re.compile('((https?):((//)|(\\\\\\\\))+([\\w\\d:#@%/;$()~_?\\+-=\\\\\\.&](#!)?)*)', re.DOTALL)\n",
    "    links         = re.findall(link_regex, text)\n",
    "    for link in links:\n",
    "        text = text.replace(link[0], ', ')    \n",
    "    return text\n",
    "\n",
    "def strip_all_entities(text):\n",
    "#     print(text)\n",
    "    entity_prefixes = ['@','#']\n",
    "#     for separator in  string.punctuation:\n",
    "#         if separator not in entity_prefixes :\n",
    "#             text = text.replace(separator,' ')\n",
    "    words = []\n",
    "    for word in text.split():\n",
    "        word = word.strip()\n",
    "#         print(word)\n",
    "#         if word:\n",
    "        if word[0] not in entity_prefixes:\n",
    "            words.append(word)\n",
    "    return ' '.join(words)\n",
    "\n",
    "\n",
    "# tests = [\n",
    "# #     \"@peter I really love that shirt at #Macy. http://bet.ly//WjdiW4\",\n",
    "# #     \"@shawn Titanic tragedy could have been prevented Economic Times: Telegraph.co.ukTitanic tragedy could have been preve... http://bet.ly/tuN2wx\",\n",
    "# #     \"I am at Starbucks http://4sh.com/samqUI (7419 3rd ave, at 75th, Brooklyn)\",\n",
    "#     '@TMobileHelp trying to redeem a free tuesday code and its not letting me telling me theres an error can i get help with this?'\n",
    "# ]\n",
    "# for t in tests:\n",
    "#     print(strip_all_entities(strip_links(t)))\n"
   ]
  },
  {
   "cell_type": "code",
   "execution_count": 59,
   "metadata": {},
   "outputs": [
    {
     "data": {
      "text/html": [
       "<div>\n",
       "<style scoped>\n",
       "    .dataframe tbody tr th:only-of-type {\n",
       "        vertical-align: middle;\n",
       "    }\n",
       "\n",
       "    .dataframe tbody tr th {\n",
       "        vertical-align: top;\n",
       "    }\n",
       "\n",
       "    .dataframe thead th {\n",
       "        text-align: right;\n",
       "    }\n",
       "</style>\n",
       "<table border=\"1\" class=\"dataframe\">\n",
       "  <thead>\n",
       "    <tr style=\"text-align: right;\">\n",
       "      <th></th>\n",
       "      <th>Unnamed: 0</th>\n",
       "      <th>tweet_id</th>\n",
       "      <th>author_id</th>\n",
       "      <th>inbound</th>\n",
       "      <th>created_at</th>\n",
       "      <th>text</th>\n",
       "      <th>response_tweet_id</th>\n",
       "      <th>in_response_to_tweet_id</th>\n",
       "    </tr>\n",
       "  </thead>\n",
       "  <tbody>\n",
       "    <tr>\n",
       "      <th>3</th>\n",
       "      <td>631</td>\n",
       "      <td>1161</td>\n",
       "      <td>115914</td>\n",
       "      <td>True</td>\n",
       "      <td>Tue Oct 31 22:19:01 +0000 2017</td>\n",
       "      <td>trying to redeem a free tuesday code and its n...</td>\n",
       "      <td>1160</td>\n",
       "      <td>NaN</td>\n",
       "    </tr>\n",
       "    <tr>\n",
       "      <th>7</th>\n",
       "      <td>637</td>\n",
       "      <td>1167</td>\n",
       "      <td>115917</td>\n",
       "      <td>True</td>\n",
       "      <td>Tue Oct 31 22:13:16 +0000 2017</td>\n",
       "      <td>,</td>\n",
       "      <td>1166</td>\n",
       "      <td>1168.0</td>\n",
       "    </tr>\n",
       "    <tr>\n",
       "      <th>9</th>\n",
       "      <td>639</td>\n",
       "      <td>1170</td>\n",
       "      <td>115917</td>\n",
       "      <td>True</td>\n",
       "      <td>Tue Oct 31 21:47:53 +0000 2017</td>\n",
       "      <td>OK maybe my problem too let me try that resizing.</td>\n",
       "      <td>1168</td>\n",
       "      <td>1171.0</td>\n",
       "    </tr>\n",
       "    <tr>\n",
       "      <th>11</th>\n",
       "      <td>641</td>\n",
       "      <td>1172</td>\n",
       "      <td>115918</td>\n",
       "      <td>True</td>\n",
       "      <td>Tue Oct 31 15:20:26 +0000 2017</td>\n",
       "      <td>Got it. One of them resized to 4x4. So instead...</td>\n",
       "      <td>1171</td>\n",
       "      <td>1173.0</td>\n",
       "    </tr>\n",
       "    <tr>\n",
       "      <th>13</th>\n",
       "      <td>643</td>\n",
       "      <td>1174</td>\n",
       "      <td>115918</td>\n",
       "      <td>True</td>\n",
       "      <td>Tue Oct 31 14:24:05 +0000 2017</td>\n",
       "      <td>The code is not working when applied at checko...</td>\n",
       "      <td>1173,1175</td>\n",
       "      <td>NaN</td>\n",
       "    </tr>\n",
       "  </tbody>\n",
       "</table>\n",
       "</div>"
      ],
      "text/plain": [
       "   Unnamed: 0  tweet_id author_id inbound                      created_at  \\\n",
       "3         631      1161    115914    True  Tue Oct 31 22:19:01 +0000 2017   \n",
       "7         637      1167    115917    True  Tue Oct 31 22:13:16 +0000 2017   \n",
       "9         639      1170    115917    True  Tue Oct 31 21:47:53 +0000 2017   \n",
       "11        641      1172    115918    True  Tue Oct 31 15:20:26 +0000 2017   \n",
       "13        643      1174    115918    True  Tue Oct 31 14:24:05 +0000 2017   \n",
       "\n",
       "                                                 text response_tweet_id  \\\n",
       "3   trying to redeem a free tuesday code and its n...              1160   \n",
       "7                                                   ,              1166   \n",
       "9   OK maybe my problem too let me try that resizing.              1168   \n",
       "11  Got it. One of them resized to 4x4. So instead...              1171   \n",
       "13  The code is not working when applied at checko...         1173,1175   \n",
       "\n",
       "    in_response_to_tweet_id  \n",
       "3                       NaN  \n",
       "7                    1168.0  \n",
       "9                    1171.0  \n",
       "11                   1173.0  \n",
       "13                      NaN  "
      ]
     },
     "execution_count": 59,
     "metadata": {},
     "output_type": "execute_result"
    }
   ],
   "source": [
    "df = df_cust.copy().head()\n",
    "df.text = df.text.apply(lambda x:strip_all_entities(strip_links(x)))\n",
    "df"
   ]
  },
  {
   "cell_type": "code",
   "execution_count": null,
   "metadata": {},
   "outputs": [],
   "source": []
  },
  {
   "cell_type": "code",
   "execution_count": null,
   "metadata": {},
   "outputs": [],
   "source": []
  }
 ],
 "metadata": {
  "kernelspec": {
   "display_name": "Python 3",
   "language": "python",
   "name": "python3"
  },
  "language_info": {
   "codemirror_mode": {
    "name": "ipython",
    "version": 3
   },
   "file_extension": ".py",
   "mimetype": "text/x-python",
   "name": "python",
   "nbconvert_exporter": "python",
   "pygments_lexer": "ipython3",
   "version": "3.7.0"
  }
 },
 "nbformat": 4,
 "nbformat_minor": 2
}
