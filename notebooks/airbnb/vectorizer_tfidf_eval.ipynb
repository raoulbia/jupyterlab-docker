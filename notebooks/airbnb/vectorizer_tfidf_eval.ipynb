{
 "cells": [
  {
   "cell_type": "code",
   "execution_count": 16,
   "metadata": {},
   "outputs": [],
   "source": [
    "import pandas as pd\n",
    "import numpy as np\n",
    "np.set_printoptions(edgeitems=30, linewidth=100000, \n",
    "    formatter=dict(float=lambda x: \"%.3g\" % x))\n",
    "\n",
    "from sklearn.model_selection import train_test_split\n",
    "from sklearn.feature_extraction.text import CountVectorizer\n",
    "from sklearn.feature_extraction.text import TfidfVectorizer\n",
    "from sklearn.model_selection import KFold\n",
    "from sklearn.metrics import accuracy_score"
   ]
  },
  {
   "cell_type": "code",
   "execution_count": 2,
   "metadata": {},
   "outputs": [
    {
     "name": "stdout",
     "output_type": "stream",
     "text": [
      "/usr/local/bin/notebooks/data/airbnbdata\n",
      "# known zip: 3184\n"
     ]
    },
    {
     "data": {
      "text/html": [
       "<div>\n",
       "<style scoped>\n",
       "    .dataframe tbody tr th:only-of-type {\n",
       "        vertical-align: middle;\n",
       "    }\n",
       "\n",
       "    .dataframe tbody tr th {\n",
       "        vertical-align: top;\n",
       "    }\n",
       "\n",
       "    .dataframe thead th {\n",
       "        text-align: right;\n",
       "    }\n",
       "</style>\n",
       "<table border=\"1\" class=\"dataframe\">\n",
       "  <thead>\n",
       "    <tr style=\"text-align: right;\">\n",
       "      <th></th>\n",
       "      <th>street</th>\n",
       "      <th>zipcode_new</th>\n",
       "    </tr>\n",
       "  </thead>\n",
       "  <tbody>\n",
       "    <tr>\n",
       "      <th>1</th>\n",
       "      <td>brookfield, kimmage, county dublin d12 v769, i...</td>\n",
       "      <td>dublin 12</td>\n",
       "    </tr>\n",
       "    <tr>\n",
       "      <th>2</th>\n",
       "      <td>military rd, dublin, dublin d8, ireland</td>\n",
       "      <td>dublin 8</td>\n",
       "    </tr>\n",
       "    <tr>\n",
       "      <th>3</th>\n",
       "      <td>reuben street, dublin, ireland, dublin d8, ire...</td>\n",
       "      <td>dublin 8</td>\n",
       "    </tr>\n",
       "    <tr>\n",
       "      <th>4</th>\n",
       "      <td>dame street, dublin, dublin 2, ireland</td>\n",
       "      <td>dublin 2</td>\n",
       "    </tr>\n",
       "    <tr>\n",
       "      <th>5</th>\n",
       "      <td>capel street, dublin, county dublin, ireland</td>\n",
       "      <td>dublin 1</td>\n",
       "    </tr>\n",
       "  </tbody>\n",
       "</table>\n",
       "</div>"
      ],
      "text/plain": [
       "                                              street zipcode_new\n",
       "1  brookfield, kimmage, county dublin d12 v769, i...   dublin 12\n",
       "2            military rd, dublin, dublin d8, ireland    dublin 8\n",
       "3  reuben street, dublin, ireland, dublin d8, ire...    dublin 8\n",
       "4             dame street, dublin, dublin 2, ireland    dublin 2\n",
       "5       capel street, dublin, county dublin, ireland    dublin 1"
      ]
     },
     "execution_count": 2,
     "metadata": {},
     "output_type": "execute_result"
    }
   ],
   "source": [
    "%cd ../../data/airbnbdata\n",
    "filename = '201702_listings_preproc.csv' # 15 cols\n",
    "\n",
    "df = pd.read_csv(filename,\n",
    "                       encoding='utf-8',\n",
    "                       sep=',',\n",
    "#                        index_col = 'host_id',\n",
    "                       header=0\n",
    "                       )\n",
    "\n",
    "# Isolate known Zip rows\n",
    "df = df[~pd.isnull(df.zipcode_new)]\n",
    "print('# known zip: {}'.format(len(df)))\n",
    "\n",
    "# select column subset\n",
    "df = df[['street', 'zipcode_new']]\n",
    "df.head()"
   ]
  },
  {
   "cell_type": "code",
   "execution_count": 3,
   "metadata": {},
   "outputs": [
    {
     "data": {
      "text/html": [
       "<div>\n",
       "<style scoped>\n",
       "    .dataframe tbody tr th:only-of-type {\n",
       "        vertical-align: middle;\n",
       "    }\n",
       "\n",
       "    .dataframe tbody tr th {\n",
       "        vertical-align: top;\n",
       "    }\n",
       "\n",
       "    .dataframe thead th {\n",
       "        text-align: right;\n",
       "    }\n",
       "</style>\n",
       "<table border=\"1\" class=\"dataframe\">\n",
       "  <thead>\n",
       "    <tr style=\"text-align: right;\">\n",
       "      <th></th>\n",
       "      <th>street</th>\n",
       "      <th>zipcode_new</th>\n",
       "    </tr>\n",
       "  </thead>\n",
       "  <tbody>\n",
       "    <tr>\n",
       "      <th>1</th>\n",
       "      <td>brookfield</td>\n",
       "      <td>dublin 12</td>\n",
       "    </tr>\n",
       "    <tr>\n",
       "      <th>2</th>\n",
       "      <td>military rd</td>\n",
       "      <td>dublin 8</td>\n",
       "    </tr>\n",
       "    <tr>\n",
       "      <th>3</th>\n",
       "      <td>reuben street</td>\n",
       "      <td>dublin 8</td>\n",
       "    </tr>\n",
       "    <tr>\n",
       "      <th>4</th>\n",
       "      <td>dame street</td>\n",
       "      <td>dublin 2</td>\n",
       "    </tr>\n",
       "    <tr>\n",
       "      <th>5</th>\n",
       "      <td>capel street</td>\n",
       "      <td>dublin 1</td>\n",
       "    </tr>\n",
       "  </tbody>\n",
       "</table>\n",
       "</div>"
      ],
      "text/plain": [
       "          street zipcode_new\n",
       "1     brookfield   dublin 12\n",
       "2    military rd    dublin 8\n",
       "3  reuben street    dublin 8\n",
       "4    dame street    dublin 2\n",
       "5   capel street    dublin 1"
      ]
     },
     "execution_count": 3,
     "metadata": {},
     "output_type": "execute_result"
    }
   ],
   "source": [
    "# keep only street name\n",
    "df['street'] = df['street'].apply(lambda x: x.split(',')[0])\n",
    "df.head()"
   ]
  },
  {
   "cell_type": "markdown",
   "metadata": {},
   "source": [
    "#### train/test split"
   ]
  },
  {
   "cell_type": "code",
   "execution_count": 4,
   "metadata": {},
   "outputs": [
    {
     "data": {
      "text/plain": [
       "(2388, 1)"
      ]
     },
     "execution_count": 4,
     "metadata": {},
     "output_type": "execute_result"
    }
   ],
   "source": [
    "X = df.copy()\n",
    "y = X.pop('zipcode_new')\n",
    "# X.head()\n",
    "# y.head()\n",
    "\n",
    "X_train, X_test, y_train, y_test = train_test_split(X, y)\n",
    "# print(X_train.head())\n",
    "# print(y_train.head())\n",
    "# X_train.shape\n",
    "# X_test.shape\n",
    "\n",
    "# reshape y_train\n",
    "y_train = y_train.values.reshape((len(y_train), 1))\n",
    "y_train.shape"
   ]
  },
  {
   "cell_type": "markdown",
   "metadata": {},
   "source": [
    "#### use X_train to compile Document-Term Matrix X"
   ]
  },
  {
   "cell_type": "code",
   "execution_count": 5,
   "metadata": {},
   "outputs": [
    {
     "name": "stdout",
     "output_type": "stream",
     "text": [
      "Corpus sample: ['mountjoy street middle', 'parnell st', 'brunswick street north', 'howth road', 'a lea road']\n"
     ]
    },
    {
     "data": {
      "text/plain": [
       "matrix([[0, 0, 0, 0, 0, 0, 0, 0, 0, 0, 0, 0, 0, 0, 0, 0, 0, 0, 0, 0, 0, 0, 0, 0, 0, 0, 0, 0, 0, 0, ..., 0, 0, 0, 0, 0, 0, 0, 0, 0, 0, 0, 0, 0, 0, 0, 0, 0, 0, 0, 0, 0, 0, 0, 0, 0, 0, 0, 0, 0, 0],\n",
       "        [0, 0, 0, 0, 0, 0, 0, 0, 0, 0, 0, 0, 0, 0, 0, 0, 0, 0, 0, 0, 0, 0, 0, 0, 0, 0, 0, 0, 0, 0, ..., 0, 0, 0, 0, 0, 0, 0, 0, 0, 0, 0, 0, 0, 0, 0, 0, 0, 0, 0, 0, 0, 0, 0, 0, 0, 0, 0, 0, 0, 0],\n",
       "        [0, 0, 0, 0, 0, 0, 0, 0, 0, 0, 0, 0, 0, 0, 0, 0, 0, 0, 0, 0, 0, 0, 0, 0, 0, 0, 0, 0, 0, 0, ..., 0, 0, 0, 0, 0, 0, 0, 0, 0, 0, 0, 0, 0, 0, 0, 0, 0, 0, 0, 0, 0, 0, 0, 0, 0, 0, 0, 0, 0, 0],\n",
       "        [0, 0, 0, 0, 0, 0, 0, 0, 0, 0, 0, 0, 0, 0, 0, 0, 0, 0, 0, 0, 0, 0, 0, 0, 0, 0, 0, 0, 0, 0, ..., 0, 0, 0, 0, 0, 0, 0, 0, 0, 0, 0, 0, 0, 0, 0, 0, 0, 0, 0, 0, 0, 0, 0, 0, 0, 0, 0, 0, 0, 0],\n",
       "        [0, 0, 0, 0, 0, 0, 0, 0, 0, 0, 0, 0, 0, 0, 0, 0, 0, 0, 0, 0, 0, 0, 0, 0, 0, 0, 0, 0, 0, 0, ..., 0, 0, 0, 0, 0, 0, 0, 0, 0, 0, 0, 0, 0, 0, 0, 0, 0, 0, 0, 0, 0, 0, 0, 0, 0, 0, 0, 0, 0, 0]])"
      ]
     },
     "execution_count": 5,
     "metadata": {},
     "output_type": "execute_result"
    }
   ],
   "source": [
    "# init tf-idf\n",
    "tf = TfidfVectorizer(smooth_idf=False, sublinear_tf=False, norm=None, analyzer='word')\n",
    "\n",
    "corpus = X_train.street.values.tolist()\n",
    "print('Corpus sample: {}'.format(corpus[:5]))\n",
    "\n",
    "# Transforms the data into a bag of words\n",
    "train_vocab = tf.fit(corpus)\n",
    "X = tf.transform(corpus)\n",
    "X.todense()[:5, :]"
   ]
  },
  {
   "cell_type": "markdown",
   "metadata": {},
   "source": [
    "#### use X_test to generate Matrix W"
   ]
  },
  {
   "cell_type": "code",
   "execution_count": 6,
   "metadata": {},
   "outputs": [
    {
     "data": {
      "text/plain": [
       "['carndonagh lawn',\n",
       " 'de courcy square',\n",
       " \"st audeon's terrace\",\n",
       " 'milltown road',\n",
       " 'dangan park']"
      ]
     },
     "execution_count": 6,
     "metadata": {},
     "output_type": "execute_result"
    }
   ],
   "source": [
    "q = X_test.street.values.tolist()\n",
    "q[:5]"
   ]
  },
  {
   "cell_type": "code",
   "execution_count": 7,
   "metadata": {},
   "outputs": [
    {
     "data": {
      "text/plain": [
       "matrix([[0, 0, 0, 0, 0, 0, 0, 0, 0, 0, 0, 0, 0, 0, 0, 0, 0, 0, 0, 0, 0, 0, 0, 0, 0, 0, 0, 0, 0, 0, ..., 0, 0, 0, 0, 0, 0, 0, 0, 0, 0, 0, 0, 0, 0, 0, 0, 0, 0, 0, 0, 0, 0, 0, 0, 0, 0, 0, 0, 0, 0],\n",
       "        [0, 0, 0, 0, 0, 0, 0, 0, 0, 0, 0, 0, 0, 0, 0, 0, 0, 0, 0, 0, 0, 0, 0, 0, 0, 0, 0, 0, 0, 0, ..., 0, 0, 0, 0, 0, 0, 0, 0, 0, 0, 0, 0, 0, 0, 0, 0, 0, 0, 0, 0, 0, 0, 0, 0, 0, 0, 0, 0, 0, 0],\n",
       "        [0, 0, 0, 0, 0, 0, 0, 0, 0, 0, 0, 0, 0, 0, 0, 0, 0, 0, 0, 0, 0, 0, 0, 0, 0, 0, 0, 0, 0, 0, ..., 0, 0, 0, 0, 0, 0, 0, 0, 0, 0, 0, 0, 0, 0, 0, 0, 0, 0, 0, 0, 0, 0, 0, 0, 0, 0, 0, 0, 0, 0],\n",
       "        [0, 0, 0, 0, 0, 0, 0, 0, 0, 0, 0, 0, 0, 0, 0, 0, 0, 0, 0, 0, 0, 0, 0, 0, 0, 0, 0, 0, 0, 0, ..., 0, 0, 0, 0, 0, 0, 0, 0, 0, 0, 0, 0, 0, 0, 0, 0, 0, 0, 0, 0, 0, 0, 0, 0, 0, 0, 0, 0, 0, 0],\n",
       "        [0, 0, 0, 0, 0, 0, 0, 0, 0, 0, 0, 0, 0, 0, 0, 0, 0, 0, 0, 0, 0, 0, 0, 0, 0, 0, 0, 0, 0, 0, ..., 0, 0, 0, 0, 0, 0, 0, 0, 0, 0, 0, 0, 0, 0, 0, 0, 0, 0, 0, 0, 0, 0, 0, 0, 0, 0, 0, 0, 0, 0]])"
      ]
     },
     "execution_count": 7,
     "metadata": {},
     "output_type": "execute_result"
    }
   ],
   "source": [
    "W = tf.transform(q).todense()\n",
    "W[:5, :]"
   ]
  },
  {
   "cell_type": "markdown",
   "metadata": {},
   "source": [
    "#### matrix mult. to get scores"
   ]
  },
  {
   "cell_type": "code",
   "execution_count": 8,
   "metadata": {},
   "outputs": [
    {
     "data": {
      "text/plain": [
       "matrix([[0, 0, 0, 0, 0, 7.75, 0, 7.75, 0, 0, 7.75, 7.75, 7.75, 0, 0, 7.75, 7.75, 0, 0, 0, 0, 0, 0, 7.75, 0, 0, 0, 0, 0, 0, ..., 0, 0, 0, 0, 7.75, 0, 0, 0, 7.75, 0, 0, 0, 0, 0, 0, 0, 0, 0, 0, 7.75, 0, 0, 0, 0, 0, 0, 7.75, 0, 0, 0],\n",
       "        [0, 0, 16.2, 0, 0, 0, 0, 0, 0, 0, 0, 0, 0, 0, 0, 0, 0, 0, 0, 0, 0, 0, 0, 0, 0, 0, 0, 16.2, 0, 0, ..., 0, 0, 0, 0, 0, 0, 0, 16.2, 0, 0, 0, 0, 0, 0, 0, 0, 16.2, 0, 0, 0, 0, 16.2, 0, 0, 0, 0, 0, 0, 0, 0],\n",
       "        [0, 0, 0, 0, 0, 7.75, 0, 7.75, 0, 0, 7.75, 7.75, 7.75, 0, 0, 7.75, 7.75, 0, 0, 0, 0, 0, 0, 7.75, 0, 0, 0, 0, 0, 0, ..., 0, 0, 0, 0, 7.75, 0, 0, 0, 7.75, 0, 0, 0, 0, 0, 0, 0, 0, 24.7, 0, 7.75, 0, 24.7, 0, 0, 0, 0, 7.75, 0, 0, 0],\n",
       "        [0, 0, 0, 6.39, 0, 0, 0, 0, 6.39, 0, 0, 0, 0, 6.39, 0, 0, 0, 6.39, 6.39, 0, 0, 6.39, 0, 0, 6.39, 0, 0, 0, 0, 0, ..., 0, 0, 0, 0, 0, 6.39, 0, 0, 0, 0, 6.39, 0, 6.39, 0, 0, 6.39, 0, 0, 0, 0, 6.39, 0, 6.39, 0, 6.39, 0, 0, 6.39, 6.39, 6.39],\n",
       "        [0, 0, 0, 6.39, 0, 0, 0, 0, 6.39, 0, 0, 0, 0, 6.39, 0, 0, 0, 6.39, 6.39, 0, 0, 6.39, 0, 0, 6.39, 0, 0, 0, 0, 0, ..., 0, 0, 0, 0, 0, 6.39, 0, 0, 0, 0, 6.39, 0, 6.39, 0, 0, 6.39, 0, 0, 0, 0, 6.39, 0, 6.39, 0, 6.39, 0, 0, 6.39, 6.39, 6.39]])"
      ]
     },
     "execution_count": 8,
     "metadata": {},
     "output_type": "execute_result"
    }
   ],
   "source": [
    "R = X @ W.T\n",
    "R[:5, :]"
   ]
  },
  {
   "cell_type": "markdown",
   "metadata": {},
   "source": [
    "#### argmax(): get the index of the largest value in each column of R\n",
    "\n",
    "Each column in R represents the multiplication of the corpus tfidf matrix with the a given vector reprsentation of a query address."
   ]
  },
  {
   "cell_type": "code",
   "execution_count": 9,
   "metadata": {},
   "outputs": [
    {
     "data": {
      "text/plain": [
       "[298, 13, 349, 341, 56, 728, 2328, 595, 29, 2305]"
      ]
     },
     "execution_count": 9,
     "metadata": {},
     "output_type": "execute_result"
    }
   ],
   "source": [
    "ix = np.argmax(R, axis=0) # axis=0 > run through each column\n",
    "\n",
    "# flatten list of lists\n",
    "ix = [item for sublist in ix.tolist() for item in sublist]\n",
    "ix[:10]"
   ]
  },
  {
   "cell_type": "markdown",
   "metadata": {},
   "source": [
    "#### max(): get the largest value in each column of R"
   ]
  },
  {
   "cell_type": "code",
   "execution_count": 10,
   "metadata": {},
   "outputs": [
    {
     "data": {
      "text/plain": [
       "[77.05699669126278,\n",
       " 20.518329146640006,\n",
       " 99.47873887416908,\n",
       " 49.70136698688268,\n",
       " 16.06027145384625]"
      ]
     },
     "execution_count": 10,
     "metadata": {},
     "output_type": "execute_result"
    }
   ],
   "source": [
    "scores = pd.DataFrame(R).max().values.tolist()\n",
    "scores[:5]"
   ]
  },
  {
   "cell_type": "markdown",
   "metadata": {},
   "source": [
    "#### lookup most similar Zipcode\n",
    "\n",
    "* The index of the largest value in R corresponds to the row in X which is most similar to the query address. \n",
    "* Thus we can get the most similar Zipcode from y_train.\n",
    "* Note that we have a prediction for each of the unknown data points."
   ]
  },
  {
   "cell_type": "code",
   "execution_count": 11,
   "metadata": {},
   "outputs": [
    {
     "data": {
      "text/plain": [
       "array(['dublin 13', 'dublin 11', 'dublin 8', 'dublin 6', 'dublin 5'], dtype=object)"
      ]
     },
     "execution_count": 11,
     "metadata": {},
     "output_type": "execute_result"
    }
   ],
   "source": [
    "y_pred = pd.DataFrame(y_train).iloc[ix, 0].values\n",
    "y_pred[:5]"
   ]
  },
  {
   "cell_type": "code",
   "execution_count": 12,
   "metadata": {},
   "outputs": [
    {
     "data": {
      "text/html": [
       "<div>\n",
       "<style scoped>\n",
       "    .dataframe tbody tr th:only-of-type {\n",
       "        vertical-align: middle;\n",
       "    }\n",
       "\n",
       "    .dataframe tbody tr th {\n",
       "        vertical-align: top;\n",
       "    }\n",
       "\n",
       "    .dataframe thead th {\n",
       "        text-align: right;\n",
       "    }\n",
       "</style>\n",
       "<table border=\"1\" class=\"dataframe\">\n",
       "  <thead>\n",
       "    <tr style=\"text-align: right;\">\n",
       "      <th></th>\n",
       "      <th>street</th>\n",
       "      <th>zipcode</th>\n",
       "      <th>zipcode_pred</th>\n",
       "      <th>scores</th>\n",
       "    </tr>\n",
       "  </thead>\n",
       "  <tbody>\n",
       "    <tr>\n",
       "      <th>1749</th>\n",
       "      <td>carndonagh lawn</td>\n",
       "      <td>dublin 13</td>\n",
       "      <td>dublin 13</td>\n",
       "      <td>77.056997</td>\n",
       "    </tr>\n",
       "    <tr>\n",
       "      <th>2320</th>\n",
       "      <td>de courcy square</td>\n",
       "      <td>dublin 11</td>\n",
       "      <td>dublin 11</td>\n",
       "      <td>20.518329</td>\n",
       "    </tr>\n",
       "    <tr>\n",
       "      <th>3963</th>\n",
       "      <td>st audeon's terrace</td>\n",
       "      <td>dublin 8</td>\n",
       "      <td>dublin 8</td>\n",
       "      <td>99.478739</td>\n",
       "    </tr>\n",
       "    <tr>\n",
       "      <th>2344</th>\n",
       "      <td>milltown road</td>\n",
       "      <td>dublin 6</td>\n",
       "      <td>dublin 6</td>\n",
       "      <td>49.701367</td>\n",
       "    </tr>\n",
       "    <tr>\n",
       "      <th>1519</th>\n",
       "      <td>dangan park</td>\n",
       "      <td>dublin 6w</td>\n",
       "      <td>dublin 5</td>\n",
       "      <td>16.060271</td>\n",
       "    </tr>\n",
       "  </tbody>\n",
       "</table>\n",
       "</div>"
      ],
      "text/plain": [
       "                   street    zipcode zipcode_pred     scores\n",
       "1749      carndonagh lawn  dublin 13    dublin 13  77.056997\n",
       "2320     de courcy square  dublin 11    dublin 11  20.518329\n",
       "3963  st audeon's terrace   dublin 8     dublin 8  99.478739\n",
       "2344        milltown road   dublin 6     dublin 6  49.701367\n",
       "1519          dangan park  dublin 6w     dublin 5  16.060271"
      ]
     },
     "execution_count": 12,
     "metadata": {},
     "output_type": "execute_result"
    }
   ],
   "source": [
    "X_test['zipcode'] = y_test\n",
    "X_test['zipcode_pred'] = y_pred\n",
    "X_test['scores'] = scores\n",
    "X_test.head()"
   ]
  },
  {
   "cell_type": "code",
   "execution_count": 13,
   "metadata": {},
   "outputs": [
    {
     "data": {
      "text/plain": [
       "0.7474874371859297"
      ]
     },
     "execution_count": 13,
     "metadata": {},
     "output_type": "execute_result"
    }
   ],
   "source": [
    "accuracy_score(y_true=y_test, y_pred=y_pred)"
   ]
  },
  {
   "cell_type": "code",
   "execution_count": 14,
   "metadata": {},
   "outputs": [
    {
     "data": {
      "text/html": [
       "<div>\n",
       "<style scoped>\n",
       "    .dataframe tbody tr th:only-of-type {\n",
       "        vertical-align: middle;\n",
       "    }\n",
       "\n",
       "    .dataframe tbody tr th {\n",
       "        vertical-align: top;\n",
       "    }\n",
       "\n",
       "    .dataframe thead th {\n",
       "        text-align: right;\n",
       "    }\n",
       "</style>\n",
       "<table border=\"1\" class=\"dataframe\">\n",
       "  <thead>\n",
       "    <tr style=\"text-align: right;\">\n",
       "      <th></th>\n",
       "      <th>street</th>\n",
       "      <th>zipcode</th>\n",
       "      <th>zipcode_pred</th>\n",
       "      <th>scores</th>\n",
       "    </tr>\n",
       "  </thead>\n",
       "  <tbody>\n",
       "    <tr>\n",
       "      <th>2190</th>\n",
       "      <td>winter garden</td>\n",
       "      <td>dublin 2</td>\n",
       "      <td>dublin 7</td>\n",
       "      <td>0.0</td>\n",
       "    </tr>\n",
       "    <tr>\n",
       "      <th>2232</th>\n",
       "      <td>springfield</td>\n",
       "      <td>dublin 7</td>\n",
       "      <td>dublin 7</td>\n",
       "      <td>0.0</td>\n",
       "    </tr>\n",
       "    <tr>\n",
       "      <th>4209</th>\n",
       "      <td>stella townhouse</td>\n",
       "      <td>dublin 4</td>\n",
       "      <td>dublin 7</td>\n",
       "      <td>0.0</td>\n",
       "    </tr>\n",
       "    <tr>\n",
       "      <th>3500</th>\n",
       "      <td>a bóthar bhinn éadair</td>\n",
       "      <td>dublin 5</td>\n",
       "      <td>dublin 7</td>\n",
       "      <td>0.0</td>\n",
       "    </tr>\n",
       "    <tr>\n",
       "      <th>636</th>\n",
       "      <td>islandbridge</td>\n",
       "      <td>dublin 8</td>\n",
       "      <td>dublin 7</td>\n",
       "      <td>0.0</td>\n",
       "    </tr>\n",
       "    <tr>\n",
       "      <th>3988</th>\n",
       "      <td>mountbrown</td>\n",
       "      <td>dublin 8</td>\n",
       "      <td>dublin 7</td>\n",
       "      <td>0.0</td>\n",
       "    </tr>\n",
       "    <tr>\n",
       "      <th>3091</th>\n",
       "      <td>ifsc</td>\n",
       "      <td>dublin 1</td>\n",
       "      <td>dublin 7</td>\n",
       "      <td>0.0</td>\n",
       "    </tr>\n",
       "    <tr>\n",
       "      <th>1938</th>\n",
       "      <td>bettyglen</td>\n",
       "      <td>dublin 5</td>\n",
       "      <td>dublin 7</td>\n",
       "      <td>0.0</td>\n",
       "    </tr>\n",
       "    <tr>\n",
       "      <th>1183</th>\n",
       "      <td>shanagarry</td>\n",
       "      <td>dublin 6</td>\n",
       "      <td>dublin 7</td>\n",
       "      <td>0.0</td>\n",
       "    </tr>\n",
       "    <tr>\n",
       "      <th>2098</th>\n",
       "      <td>brooklands</td>\n",
       "      <td>dublin 4</td>\n",
       "      <td>dublin 7</td>\n",
       "      <td>0.0</td>\n",
       "    </tr>\n",
       "    <tr>\n",
       "      <th>5073</th>\n",
       "      <td>aranmore</td>\n",
       "      <td>dublin 1</td>\n",
       "      <td>dublin 7</td>\n",
       "      <td>0.0</td>\n",
       "    </tr>\n",
       "    <tr>\n",
       "      <th>1592</th>\n",
       "      <td>tenterfields</td>\n",
       "      <td>dublin 8</td>\n",
       "      <td>dublin 7</td>\n",
       "      <td>0.0</td>\n",
       "    </tr>\n",
       "    <tr>\n",
       "      <th>39</th>\n",
       "      <td>a</td>\n",
       "      <td>dublin 8</td>\n",
       "      <td>dublin 7</td>\n",
       "      <td>0.0</td>\n",
       "    </tr>\n",
       "    <tr>\n",
       "      <th>2476</th>\n",
       "      <td>ranalagh</td>\n",
       "      <td>dublin 6</td>\n",
       "      <td>dublin 7</td>\n",
       "      <td>0.0</td>\n",
       "    </tr>\n",
       "    <tr>\n",
       "      <th>3922</th>\n",
       "      <td>churchtown</td>\n",
       "      <td>dublin 14</td>\n",
       "      <td>dublin 7</td>\n",
       "      <td>0.0</td>\n",
       "    </tr>\n",
       "    <tr>\n",
       "      <th>1612</th>\n",
       "      <td>b</td>\n",
       "      <td>dublin 2</td>\n",
       "      <td>dublin 7</td>\n",
       "      <td>0.0</td>\n",
       "    </tr>\n",
       "    <tr>\n",
       "      <th>741</th>\n",
       "      <td>ceannt fort</td>\n",
       "      <td>dublin 8</td>\n",
       "      <td>dublin 7</td>\n",
       "      <td>0.0</td>\n",
       "    </tr>\n",
       "    <tr>\n",
       "      <th>4696</th>\n",
       "      <td>rhodaville</td>\n",
       "      <td>dublin 6</td>\n",
       "      <td>dublin 7</td>\n",
       "      <td>0.0</td>\n",
       "    </tr>\n",
       "  </tbody>\n",
       "</table>\n",
       "</div>"
      ],
      "text/plain": [
       "                     street    zipcode zipcode_pred  scores\n",
       "2190          winter garden   dublin 2     dublin 7     0.0\n",
       "2232            springfield   dublin 7     dublin 7     0.0\n",
       "4209       stella townhouse   dublin 4     dublin 7     0.0\n",
       "3500  a bóthar bhinn éadair   dublin 5     dublin 7     0.0\n",
       "636            islandbridge   dublin 8     dublin 7     0.0\n",
       "3988             mountbrown   dublin 8     dublin 7     0.0\n",
       "3091                   ifsc   dublin 1     dublin 7     0.0\n",
       "1938              bettyglen   dublin 5     dublin 7     0.0\n",
       "1183             shanagarry   dublin 6     dublin 7     0.0\n",
       "2098             brooklands   dublin 4     dublin 7     0.0\n",
       "5073               aranmore   dublin 1     dublin 7     0.0\n",
       "1592           tenterfields   dublin 8     dublin 7     0.0\n",
       "39                        a   dublin 8     dublin 7     0.0\n",
       "2476               ranalagh   dublin 6     dublin 7     0.0\n",
       "3922             churchtown  dublin 14     dublin 7     0.0\n",
       "1612                      b   dublin 2     dublin 7     0.0\n",
       "741             ceannt fort   dublin 8     dublin 7     0.0\n",
       "4696             rhodaville   dublin 6     dublin 7     0.0"
      ]
     },
     "execution_count": 14,
     "metadata": {},
     "output_type": "execute_result"
    }
   ],
   "source": [
    "X_test[X_test.scores==0]"
   ]
  },
  {
   "cell_type": "code",
   "execution_count": 15,
   "metadata": {},
   "outputs": [
    {
     "data": {
      "text/plain": [
       "0.7634961439588689"
      ]
     },
     "execution_count": 15,
     "metadata": {},
     "output_type": "execute_result"
    }
   ],
   "source": [
    "X_test = X_test[X_test.scores!=0]\n",
    "y_test = X_test.zipcode.values.tolist()\n",
    "y_pred = X_test.zipcode_pred.values.tolist()\n",
    "accuracy_score(y_true=y_test, y_pred=y_pred)"
   ]
  }
 ],
 "metadata": {
  "kernelspec": {
   "display_name": "Python 3",
   "language": "python",
   "name": "python3"
  },
  "language_info": {
   "codemirror_mode": {
    "name": "ipython",
    "version": 3
   },
   "file_extension": ".py",
   "mimetype": "text/x-python",
   "name": "python",
   "nbconvert_exporter": "python",
   "pygments_lexer": "ipython3",
   "version": "3.7.0"
  }
 },
 "nbformat": 4,
 "nbformat_minor": 2
}
