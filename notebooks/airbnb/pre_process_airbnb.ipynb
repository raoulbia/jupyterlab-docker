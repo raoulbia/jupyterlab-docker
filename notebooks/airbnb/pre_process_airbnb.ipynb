{
 "cells": [
  {
   "cell_type": "code",
   "execution_count": 1,
   "metadata": {},
   "outputs": [],
   "source": [
    "# https://rstudio-pubs-static.s3.amazonaws.com/407929_afc5ef0f2ad648389447a6ca3f4a7cd4.html"
   ]
  },
  {
   "cell_type": "code",
   "execution_count": 2,
   "metadata": {},
   "outputs": [],
   "source": [
    "# !pip install sklearn\n",
    "# !pip install reverse_geocoder"
   ]
  },
  {
   "cell_type": "code",
   "execution_count": 3,
   "metadata": {},
   "outputs": [],
   "source": [
    "import pandas as pd\n",
    "import numpy as np\n",
    "import csv\n",
    "import re\n",
    "from collections import defaultdict\n",
    "import requests"
   ]
  },
  {
   "cell_type": "markdown",
   "metadata": {},
   "source": [
    "### Read Data"
   ]
  },
  {
   "cell_type": "code",
   "execution_count": 4,
   "metadata": {},
   "outputs": [
    {
     "name": "stdout",
     "output_type": "stream",
     "text": [
      "/usr/local/bin/notebooks/data/airbnbdata\n"
     ]
    }
   ],
   "source": [
    "# Listings\n",
    "\n",
    "%cd ../../data/airbnbdata\n",
    "filename = '201702_listings.csv.gz' # 94 cols\n",
    "# filename = '201702_listings.csv' # 15 cols\n",
    "\n",
    "df_read = pd.read_csv(filename,\n",
    "                       encoding='utf-8',\n",
    "                       compression='gzip',\n",
    "                       sep=',',\n",
    "                       index_col = 0,\n",
    "                       header=0\n",
    "                       )\n",
    "df_read['street'] = df_read['street'].apply(lambda x: x.lower())"
   ]
  },
  {
   "cell_type": "code",
   "execution_count": 5,
   "metadata": {},
   "outputs": [
    {
     "name": "stdout",
     "output_type": "stream",
     "text": [
      "/usr/local/bin/notebooks/data/airbnbdata/geo/regexp\n"
     ]
    }
   ],
   "source": [
    "# Places Names\n",
    "\n",
    "%cd ./geo/regexp\n",
    "\n",
    "f=open(\"pattern.txt\", \"r\")\n",
    "patterns =f.read().replace('\\n','').lower()\n",
    "\n",
    "# patterns\n",
    "# type(patterns)"
   ]
  },
  {
   "cell_type": "code",
   "execution_count": 6,
   "metadata": {},
   "outputs": [],
   "source": [
    "# Area Mapping\n",
    "\n",
    "AreaDict = defaultdict(list)\n",
    "with open(\"area_mapping.txt\") as f:\n",
    "    reader = csv.reader(f, delimiter=':')\n",
    "    for line in reader:\n",
    "         AreaDict[line[0].strip().lower()] = line[1].strip().lower()\n",
    "\n",
    "# print(AreaDict.items())\n",
    "# print(AreaDict['ashtown'])"
   ]
  },
  {
   "cell_type": "markdown",
   "metadata": {},
   "source": [
    "### Pre-processing"
   ]
  },
  {
   "cell_type": "code",
   "execution_count": 7,
   "metadata": {},
   "outputs": [
    {
     "name": "stdout",
     "output_type": "stream",
     "text": [
      "(6729, 94)\n"
     ]
    }
   ],
   "source": [
    "df = df_read.copy()\n",
    "print(df.shape)"
   ]
  },
  {
   "cell_type": "markdown",
   "metadata": {},
   "source": [
    "#### Clean monetary values"
   ]
  },
  {
   "cell_type": "code",
   "execution_count": 8,
   "metadata": {},
   "outputs": [],
   "source": [
    "df['price'] = df['price'].replace('[$,]','',regex=True).astype(float)\n",
    "df['cleaning_fee'] = df['cleaning_fee'].replace('[$,]','',regex=True).astype(float)"
   ]
  },
  {
   "cell_type": "markdown",
   "metadata": {},
   "source": [
    "#### Dublin City only"
   ]
  },
  {
   "cell_type": "code",
   "execution_count": 9,
   "metadata": {},
   "outputs": [
    {
     "name": "stdout",
     "output_type": "stream",
     "text": [
      "['Dublin City' 'South Dublin' 'Fingal' 'Dn Laoghaire-Rathdown']\n"
     ]
    },
    {
     "data": {
      "text/plain": [
       "street                       0\n",
       "zipcode                   4212\n",
       "neighbourhood_cleansed       0\n",
       "dtype: int64"
      ]
     },
     "execution_count": 9,
     "metadata": {},
     "output_type": "execute_result"
    }
   ],
   "source": [
    "print(df.neighbourhood_cleansed.unique())\n",
    "df.neighbourhood_cleansed.describe()\n",
    "df[['street', 'zipcode', 'neighbourhood_cleansed']].isnull().sum(axis = 0)"
   ]
  },
  {
   "cell_type": "code",
   "execution_count": 10,
   "metadata": {},
   "outputs": [
    {
     "name": "stdout",
     "output_type": "stream",
     "text": [
      "(5377, 94)\n",
      "['Dublin City']\n"
     ]
    },
    {
     "data": {
      "text/plain": [
       "street        0\n",
       "zipcode    3305\n",
       "dtype: int64"
      ]
     },
     "execution_count": 10,
     "metadata": {},
     "output_type": "execute_result"
    }
   ],
   "source": [
    "df = df[df.neighbourhood_cleansed == 'Dublin City']\n",
    "print(df.shape)\n",
    "print(df.neighbourhood_cleansed.unique())\n",
    "df.neighbourhood_cleansed.describe()\n",
    "df[['street', 'zipcode']].isnull().sum(axis = 0)"
   ]
  },
  {
   "cell_type": "markdown",
   "metadata": {},
   "source": [
    "#### RegExp: Extract Postcode"
   ]
  },
  {
   "cell_type": "code",
   "execution_count": 11,
   "metadata": {},
   "outputs": [
    {
     "data": {
      "text/html": [
       "<div>\n",
       "<style scoped>\n",
       "    .dataframe tbody tr th:only-of-type {\n",
       "        vertical-align: middle;\n",
       "    }\n",
       "\n",
       "    .dataframe tbody tr th {\n",
       "        vertical-align: top;\n",
       "    }\n",
       "\n",
       "    .dataframe thead th {\n",
       "        text-align: right;\n",
       "    }\n",
       "</style>\n",
       "<table border=\"1\" class=\"dataframe\">\n",
       "  <thead>\n",
       "    <tr style=\"text-align: right;\">\n",
       "      <th></th>\n",
       "      <th>street</th>\n",
       "      <th>zipcode_new</th>\n",
       "    </tr>\n",
       "    <tr>\n",
       "      <th>id</th>\n",
       "      <th></th>\n",
       "      <th></th>\n",
       "    </tr>\n",
       "  </thead>\n",
       "  <tbody>\n",
       "    <tr>\n",
       "      <th>6145042</th>\n",
       "      <td>drumcondra road lower, drumcondra, dublin, ire...</td>\n",
       "      <td></td>\n",
       "    </tr>\n",
       "    <tr>\n",
       "      <th>12246300</th>\n",
       "      <td>sandymount castle park, sandymount, dublin d04...</td>\n",
       "      <td>dublin 4</td>\n",
       "    </tr>\n",
       "    <tr>\n",
       "      <th>8866250</th>\n",
       "      <td>a northbrook lane, ranelagh, dublin, ireland</td>\n",
       "      <td></td>\n",
       "    </tr>\n",
       "    <tr>\n",
       "      <th>14328938</th>\n",
       "      <td>longboat quay, dublin, dublin 2ireland, ireland</td>\n",
       "      <td>dublin 2</td>\n",
       "    </tr>\n",
       "    <tr>\n",
       "      <th>17165247</th>\n",
       "      <td>grosvenor square, rathmines, county dublin d06...</td>\n",
       "      <td>dublin 6</td>\n",
       "    </tr>\n",
       "  </tbody>\n",
       "</table>\n",
       "</div>"
      ],
      "text/plain": [
       "                                                     street zipcode_new\n",
       "id                                                                     \n",
       "6145042   drumcondra road lower, drumcondra, dublin, ire...            \n",
       "12246300  sandymount castle park, sandymount, dublin d04...    dublin 4\n",
       "8866250        a northbrook lane, ranelagh, dublin, ireland            \n",
       "14328938    longboat quay, dublin, dublin 2ireland, ireland    dublin 2\n",
       "17165247  grosvenor square, rathmines, county dublin d06...    dublin 6"
      ]
     },
     "execution_count": 11,
     "metadata": {},
     "output_type": "execute_result"
    }
   ],
   "source": [
    "\"\"\"\n",
    "for reference, eircode regexp: re1 = re.search(r'd\\d{1,2}\\s{0,1}[a-z0-9]{4}', x) # eircode format Dxx xxxx\n",
    "\n",
    "in this particular case however we can achieve the goal by a more general approach\n",
    "\n",
    "below is the breakdown of \\bd\\d{2}|d\\s\\d{2}|d\\d{1}w?|d\\s\\d{1,2}w?|d\\d{1}\\b\n",
    "\n",
    "d\\d{2} >> d01, d10\n",
    "d\\s\\d{2} >> d 10, d 01\n",
    "d\\d{1}w? >> d6w\n",
    "d\\s\\d{1}w? >> d 6w\n",
    "d\\d{1}\\b >>  d1, d3\n",
    "\n",
    "d(ublin)* >> same as above for dublin instad of d\n",
    "\n",
    "\"\"\"\n",
    "def replace(x):\n",
    "    re1 = re.search(r'\\bd\\d{2}|d\\s\\d{2}|d\\d{1}w?|d\\s\\d{1,2}w?|d\\d{1}\\b', x)\n",
    "    re2 = re.search(r'\\bd\\dublin{2}|dublin\\s\\d{2}|dublin\\d{1}w?|dublin\\s\\d{1,2}w?|dublin\\d{1}\\b', x)\n",
    "    x = x.strip()\n",
    "    \n",
    "    if re1:\n",
    "        return 'dublin ' + re1[0][1:] \n",
    "    elif re2:\n",
    "        if isinstance(re2[0][6], int):\n",
    "            return 'dublin ' + re2[0][6:]\n",
    "        else:\n",
    "            return 'dublin ' + re2[0][7:]\n",
    "    else:\n",
    "        return ''\n",
    "\n",
    "df['zipcode_new'] = df['street'].apply(lambda x: replace(x).replace('0', '') if not pd.isnull(x) else np.nan)\n",
    "df['zipcode_new'].unique()\n",
    "# df = df.sample(frac=1)\n",
    "df[['street', 'zipcode_new']].sample(5)"
   ]
  },
  {
   "cell_type": "code",
   "execution_count": 12,
   "metadata": {},
   "outputs": [
    {
     "data": {
      "text/plain": [
       "3194"
      ]
     },
     "execution_count": 12,
     "metadata": {},
     "output_type": "execute_result"
    }
   ],
   "source": [
    "len(df[df.zipcode_new==''])"
   ]
  },
  {
   "cell_type": "markdown",
   "metadata": {},
   "source": [
    "#### RegExp: use place names file to extract core location"
   ]
  },
  {
   "cell_type": "code",
   "execution_count": 13,
   "metadata": {},
   "outputs": [
    {
     "data": {
      "text/html": [
       "<div>\n",
       "<style scoped>\n",
       "    .dataframe tbody tr th:only-of-type {\n",
       "        vertical-align: middle;\n",
       "    }\n",
       "\n",
       "    .dataframe tbody tr th {\n",
       "        vertical-align: top;\n",
       "    }\n",
       "\n",
       "    .dataframe thead th {\n",
       "        text-align: right;\n",
       "    }\n",
       "</style>\n",
       "<table border=\"1\" class=\"dataframe\">\n",
       "  <thead>\n",
       "    <tr style=\"text-align: right;\">\n",
       "      <th></th>\n",
       "      <th>zipcode_new</th>\n",
       "      <th>street_cleansed</th>\n",
       "    </tr>\n",
       "    <tr>\n",
       "      <th>id</th>\n",
       "      <th></th>\n",
       "      <th></th>\n",
       "    </tr>\n",
       "  </thead>\n",
       "  <tbody>\n",
       "    <tr>\n",
       "      <th>10778114</th>\n",
       "      <td>dublin 4</td>\n",
       "      <td>NaN</td>\n",
       "    </tr>\n",
       "    <tr>\n",
       "      <th>14348712</th>\n",
       "      <td></td>\n",
       "      <td>NaN</td>\n",
       "    </tr>\n",
       "    <tr>\n",
       "      <th>15749806</th>\n",
       "      <td></td>\n",
       "      <td>foxrock</td>\n",
       "    </tr>\n",
       "    <tr>\n",
       "      <th>9602076</th>\n",
       "      <td>dublin 2</td>\n",
       "      <td>NaN</td>\n",
       "    </tr>\n",
       "    <tr>\n",
       "      <th>15952233</th>\n",
       "      <td></td>\n",
       "      <td>NaN</td>\n",
       "    </tr>\n",
       "    <tr>\n",
       "      <th>14737754</th>\n",
       "      <td></td>\n",
       "      <td>dorset street</td>\n",
       "    </tr>\n",
       "    <tr>\n",
       "      <th>3592153</th>\n",
       "      <td></td>\n",
       "      <td>ballsbridge</td>\n",
       "    </tr>\n",
       "    <tr>\n",
       "      <th>17230584</th>\n",
       "      <td>dublin 2</td>\n",
       "      <td>NaN</td>\n",
       "    </tr>\n",
       "    <tr>\n",
       "      <th>10932760</th>\n",
       "      <td>dublin 6</td>\n",
       "      <td>NaN</td>\n",
       "    </tr>\n",
       "    <tr>\n",
       "      <th>13168698</th>\n",
       "      <td></td>\n",
       "      <td>NaN</td>\n",
       "    </tr>\n",
       "  </tbody>\n",
       "</table>\n",
       "</div>"
      ],
      "text/plain": [
       "         zipcode_new street_cleansed\n",
       "id                                  \n",
       "10778114    dublin 4             NaN\n",
       "14348712                         NaN\n",
       "15749806                     foxrock\n",
       "9602076     dublin 2             NaN\n",
       "15952233                         NaN\n",
       "14737754               dorset street\n",
       "3592153                  ballsbridge\n",
       "17230584    dublin 2             NaN\n",
       "10932760    dublin 6             NaN\n",
       "13168698                         NaN"
      ]
     },
     "execution_count": 13,
     "metadata": {},
     "output_type": "execute_result"
    }
   ],
   "source": [
    "# df = df_dub.copy()\n",
    "df['street_cleansed'] = df['street'].str.extract(r'('+patterns+')', expand=True)\n",
    "df[['zipcode_new', 'street_cleansed']].head(10)"
   ]
  },
  {
   "cell_type": "markdown",
   "metadata": {},
   "source": [
    "#### use Area mapping file to get postalcode"
   ]
  },
  {
   "cell_type": "code",
   "execution_count": 14,
   "metadata": {},
   "outputs": [],
   "source": [
    "def mapArea(x):\n",
    "    res = AreaDict[x]\n",
    "    if res:\n",
    "        return res\n",
    "    else:\n",
    "        return ''"
   ]
  },
  {
   "cell_type": "code",
   "execution_count": 15,
   "metadata": {},
   "outputs": [
    {
     "data": {
      "text/html": [
       "<div>\n",
       "<style scoped>\n",
       "    .dataframe tbody tr th:only-of-type {\n",
       "        vertical-align: middle;\n",
       "    }\n",
       "\n",
       "    .dataframe tbody tr th {\n",
       "        vertical-align: top;\n",
       "    }\n",
       "\n",
       "    .dataframe thead th {\n",
       "        text-align: right;\n",
       "    }\n",
       "</style>\n",
       "<table border=\"1\" class=\"dataframe\">\n",
       "  <thead>\n",
       "    <tr style=\"text-align: right;\">\n",
       "      <th></th>\n",
       "      <th>street</th>\n",
       "      <th>street_cleansed</th>\n",
       "      <th>zipcode_new</th>\n",
       "    </tr>\n",
       "    <tr>\n",
       "      <th>id</th>\n",
       "      <th></th>\n",
       "      <th></th>\n",
       "      <th></th>\n",
       "    </tr>\n",
       "  </thead>\n",
       "  <tbody>\n",
       "    <tr>\n",
       "      <th>7298739</th>\n",
       "      <td>ward's hill, dublin, dublin 8, ireland</td>\n",
       "      <td>NaN</td>\n",
       "      <td>dublin 8</td>\n",
       "    </tr>\n",
       "    <tr>\n",
       "      <th>6499397</th>\n",
       "      <td>emmet st, dublin, dublin 01, ireland</td>\n",
       "      <td>NaN</td>\n",
       "      <td>dublin 1</td>\n",
       "    </tr>\n",
       "    <tr>\n",
       "      <th>13255271</th>\n",
       "      <td>new row south, dublin, dublin 8, ireland</td>\n",
       "      <td>NaN</td>\n",
       "      <td>dublin 8</td>\n",
       "    </tr>\n",
       "    <tr>\n",
       "      <th>13097361</th>\n",
       "      <td>liffey street west, dublin, dublin, ireland</td>\n",
       "      <td>NaN</td>\n",
       "      <td></td>\n",
       "    </tr>\n",
       "    <tr>\n",
       "      <th>15911654</th>\n",
       "      <td>charleville avenue, dublin, county dublin d03 ...</td>\n",
       "      <td>NaN</td>\n",
       "      <td>dublin 3</td>\n",
       "    </tr>\n",
       "  </tbody>\n",
       "</table>\n",
       "</div>"
      ],
      "text/plain": [
       "                                                     street street_cleansed  \\\n",
       "id                                                                            \n",
       "7298739              ward's hill, dublin, dublin 8, ireland             NaN   \n",
       "6499397                emmet st, dublin, dublin 01, ireland             NaN   \n",
       "13255271           new row south, dublin, dublin 8, ireland             NaN   \n",
       "13097361        liffey street west, dublin, dublin, ireland             NaN   \n",
       "15911654  charleville avenue, dublin, county dublin d03 ...             NaN   \n",
       "\n",
       "         zipcode_new  \n",
       "id                    \n",
       "7298739     dublin 8  \n",
       "6499397     dublin 1  \n",
       "13255271    dublin 8  \n",
       "13097361              \n",
       "15911654    dublin 3  "
      ]
     },
     "execution_count": 15,
     "metadata": {},
     "output_type": "execute_result"
    }
   ],
   "source": [
    "mask = df.zipcode_new==''\n",
    "df.loc[mask, 'zipcode_new'] = df[mask].apply(lambda row: mapArea(row.street_cleansed), axis=1)\n",
    "df.loc[[5201857], ['street', 'street_cleansed', 'zipcode_new']]\n",
    "\n",
    "df = df.sample(frac=1)\n",
    "df[['street', 'street_cleansed', 'zipcode_new']].head()"
   ]
  },
  {
   "cell_type": "code",
   "execution_count": 16,
   "metadata": {},
   "outputs": [
    {
     "data": {
      "text/plain": [
       "2193"
      ]
     },
     "execution_count": 16,
     "metadata": {},
     "output_type": "execute_result"
    }
   ],
   "source": [
    "len(df[df.zipcode_new==''])"
   ]
  },
  {
   "cell_type": "markdown",
   "metadata": {},
   "source": [
    "### Quantify missing Postal code data"
   ]
  },
  {
   "cell_type": "code",
   "execution_count": 17,
   "metadata": {},
   "outputs": [
    {
     "name": "stdout",
     "output_type": "stream",
     "text": [
      "1087\n"
     ]
    },
    {
     "data": {
      "text/html": [
       "<div>\n",
       "<style scoped>\n",
       "    .dataframe tbody tr th:only-of-type {\n",
       "        vertical-align: middle;\n",
       "    }\n",
       "\n",
       "    .dataframe tbody tr th {\n",
       "        vertical-align: top;\n",
       "    }\n",
       "\n",
       "    .dataframe thead th {\n",
       "        text-align: right;\n",
       "    }\n",
       "</style>\n",
       "<table border=\"1\" class=\"dataframe\">\n",
       "  <thead>\n",
       "    <tr style=\"text-align: right;\">\n",
       "      <th></th>\n",
       "      <th>host_id_count</th>\n",
       "    </tr>\n",
       "    <tr>\n",
       "      <th>property_type</th>\n",
       "      <th></th>\n",
       "    </tr>\n",
       "  </thead>\n",
       "  <tbody>\n",
       "    <tr>\n",
       "      <th>Apartment</th>\n",
       "      <td>835</td>\n",
       "    </tr>\n",
       "    <tr>\n",
       "      <th>House</th>\n",
       "      <td>205</td>\n",
       "    </tr>\n",
       "    <tr>\n",
       "      <th>Townhouse</th>\n",
       "      <td>19</td>\n",
       "    </tr>\n",
       "    <tr>\n",
       "      <th>Other</th>\n",
       "      <td>9</td>\n",
       "    </tr>\n",
       "    <tr>\n",
       "      <th>Cabin</th>\n",
       "      <td>8</td>\n",
       "    </tr>\n",
       "  </tbody>\n",
       "</table>\n",
       "</div>"
      ],
      "text/plain": [
       "               host_id_count\n",
       "property_type               \n",
       "Apartment                835\n",
       "House                    205\n",
       "Townhouse                 19\n",
       "Other                      9\n",
       "Cabin                      8"
      ]
     },
     "execution_count": 17,
     "metadata": {},
     "output_type": "execute_result"
    }
   ],
   "source": [
    "df_na = df[df.zipcode_new=='']\n",
    "df_na.columns\n",
    "\n",
    "df_na = (df_na[(df_na.room_type=='Entire home/apt')])\n",
    "print(len(df_na))\n",
    "grouped = df_na.groupby('property_type').agg({'host_id': ['count']})\n",
    "grouped.columns = grouped.columns.map('_'.join)\n",
    "grouped.sort_values(by='host_id_count', ascending=False).head()\n",
    "# df_na.head()"
   ]
  },
  {
   "cell_type": "markdown",
   "metadata": {},
   "source": [
    "### Google Maps API"
   ]
  },
  {
   "cell_type": "code",
   "execution_count": 18,
   "metadata": {},
   "outputs": [],
   "source": [
    "API_KEY = ''\n",
    "BACKOFF_TIME = 30\n",
    "RETURN_FULL_RESULTS = False\n",
    "\n",
    "def get_google_results(address, api_key=None, return_full_response=False):\n",
    "    \n",
    "    geocode_url = \"https://maps.googleapis.com/maps/api/geocode/json?address={}\".format(address)\n",
    "    geocode_url = geocode_url + \"&key={}\".format(api_key)\n",
    "    results = requests.get(geocode_url)\n",
    "    results = results.json()\n",
    "    \n",
    "    # if there's no results or an error, return empty results.\n",
    "    if len(results['results']) == 0:\n",
    "        output = {\n",
    "            \"formatted_address\" : None,\n",
    "            \"latitude\": None,\n",
    "            \"longitude\": None,\n",
    "            \"accuracy\": None,\n",
    "            \"google_place_id\": None,\n",
    "            \"type\": None,\n",
    "            \"postcode\": None\n",
    "        }\n",
    "    else:    \n",
    "        answer = results['results'][0]\n",
    "        output = {\n",
    "            \"formatted_address\" : answer.get('formatted_address'),\n",
    "            \"latitude\": answer.get('geometry').get('location').get('lat'),\n",
    "            \"longitude\": answer.get('geometry').get('location').get('lng'),\n",
    "            \"accuracy\": answer.get('geometry').get('location_type'),\n",
    "            \"google_place_id\": answer.get(\"place_id\"),\n",
    "            \"type\": \",\".join(answer.get('types')),\n",
    "            \"postcode\": \",\".join([x['long_name'] for x in answer.get('address_components') \n",
    "                                  if 'postal_code' in x.get('types')])\n",
    "        }\n",
    "        \n",
    "#     print(output['formatted_address'])\n",
    "    # Append some other details:    \n",
    "    output['input_string'] = address\n",
    "    output['number_of_results'] = len(results['results'])\n",
    "    output['status'] = results.get('status')\n",
    "    if return_full_response is True:\n",
    "        output['response'] = results\n",
    "    \n",
    "    return output\n",
    "\n",
    "def geocode(address):\n",
    "    # While the address geocoding is not finished:\n",
    "    geocoded = False\n",
    "    while geocoded is not True:\n",
    "        # Geocode the address with google\n",
    "        try:\n",
    "            geocode_result = get_google_results(address, API_KEY, return_full_response=RETURN_FULL_RESULTS)\n",
    "        except Exception as e:\n",
    "            logger.exception(e)\n",
    "            logger.error(\"Major error with {}\".format(address))\n",
    "            logger.error(\"Skipping!\")\n",
    "            geocoded = True\n",
    "            \n",
    "        # If we're over the API limit, backoff for a while and try again later.\n",
    "        if geocode_result['status'] == 'OVER_QUERY_LIMIT':\n",
    "            print(\"Hit Query Limit! Backing off for a bit.\")\n",
    "            time.sleep(BACKOFF_TIME * 60) # sleep for 30 minutes\n",
    "            geocoded = False\n",
    "        else:\n",
    "            geocoded = True\n",
    "#     print(geocode_result['formatted_address'])\n",
    "    return geocode_result['formatted_address']\n",
    "\n",
    "#     # Print status every 100 addresses\n",
    "#     if len(results) % 100 == 0:\n",
    "#     \tlogger.info(\"Completed {} of {} address\".format(len(results), len(addresses)))\n",
    "            \n",
    "#     # Every 500 addresses, save progress to file(in case of a failure so you have something!)\n",
    "#     if len(results) % 500 == 0:\n",
    "#         pd.DataFrame(results).to_csv(\"{}_bak\".format(output_filename))\n",
    "\n"
   ]
  },
  {
   "cell_type": "code",
   "execution_count": 19,
   "metadata": {},
   "outputs": [
    {
     "data": {
      "text/html": [
       "<div>\n",
       "<style scoped>\n",
       "    .dataframe tbody tr th:only-of-type {\n",
       "        vertical-align: middle;\n",
       "    }\n",
       "\n",
       "    .dataframe tbody tr th {\n",
       "        vertical-align: top;\n",
       "    }\n",
       "\n",
       "    .dataframe thead th {\n",
       "        text-align: right;\n",
       "    }\n",
       "</style>\n",
       "<table border=\"1\" class=\"dataframe\">\n",
       "  <thead>\n",
       "    <tr style=\"text-align: right;\">\n",
       "      <th></th>\n",
       "      <th>street</th>\n",
       "      <th>street_cleansed</th>\n",
       "      <th>zipcode_new</th>\n",
       "    </tr>\n",
       "    <tr>\n",
       "      <th>id</th>\n",
       "      <th></th>\n",
       "      <th></th>\n",
       "      <th></th>\n",
       "    </tr>\n",
       "  </thead>\n",
       "  <tbody>\n",
       "    <tr>\n",
       "      <th>13097361</th>\n",
       "      <td>Liffey St W, Arran Quay, Dublin, Ireland</td>\n",
       "      <td>NaN</td>\n",
       "      <td></td>\n",
       "    </tr>\n",
       "    <tr>\n",
       "      <th>11269403</th>\n",
       "      <td>Shaw St, Dublin, Ireland</td>\n",
       "      <td>NaN</td>\n",
       "      <td></td>\n",
       "    </tr>\n",
       "    <tr>\n",
       "      <th>11144313</th>\n",
       "      <td>Townsend St, Dublin, Ireland</td>\n",
       "      <td>NaN</td>\n",
       "      <td></td>\n",
       "    </tr>\n",
       "    <tr>\n",
       "      <th>13166732</th>\n",
       "      <td>Townsend St, Dublin, Ireland</td>\n",
       "      <td>NaN</td>\n",
       "      <td></td>\n",
       "    </tr>\n",
       "    <tr>\n",
       "      <th>11765464</th>\n",
       "      <td>Hanover Quay, Grand Canal Dock, Dublin, Ireland</td>\n",
       "      <td>NaN</td>\n",
       "      <td></td>\n",
       "    </tr>\n",
       "    <tr>\n",
       "      <th>14649656</th>\n",
       "      <td>St Kevin's Parade, Wood Quay, Dublin, Ireland</td>\n",
       "      <td>NaN</td>\n",
       "      <td></td>\n",
       "    </tr>\n",
       "    <tr>\n",
       "      <th>8184787</th>\n",
       "      <td>Harold Rd, Arran Quay, Dublin, Ireland</td>\n",
       "      <td>NaN</td>\n",
       "      <td></td>\n",
       "    </tr>\n",
       "    <tr>\n",
       "      <th>7171042</th>\n",
       "      <td>Fitzgerald St, Dublin, Ireland</td>\n",
       "      <td>NaN</td>\n",
       "      <td></td>\n",
       "    </tr>\n",
       "    <tr>\n",
       "      <th>14053545</th>\n",
       "      <td>Mount Argus Way, Harold's Cross, Dublin, Ireland</td>\n",
       "      <td>NaN</td>\n",
       "      <td></td>\n",
       "    </tr>\n",
       "    <tr>\n",
       "      <th>15697664</th>\n",
       "      <td>Cathedral House, Patrick St, Wood Quay, Dublin...</td>\n",
       "      <td>NaN</td>\n",
       "      <td></td>\n",
       "    </tr>\n",
       "  </tbody>\n",
       "</table>\n",
       "</div>"
      ],
      "text/plain": [
       "                                                     street street_cleansed  \\\n",
       "id                                                                            \n",
       "13097361           Liffey St W, Arran Quay, Dublin, Ireland             NaN   \n",
       "11269403                           Shaw St, Dublin, Ireland             NaN   \n",
       "11144313                       Townsend St, Dublin, Ireland             NaN   \n",
       "13166732                       Townsend St, Dublin, Ireland             NaN   \n",
       "11765464    Hanover Quay, Grand Canal Dock, Dublin, Ireland             NaN   \n",
       "14649656      St Kevin's Parade, Wood Quay, Dublin, Ireland             NaN   \n",
       "8184787              Harold Rd, Arran Quay, Dublin, Ireland             NaN   \n",
       "7171042                      Fitzgerald St, Dublin, Ireland             NaN   \n",
       "14053545   Mount Argus Way, Harold's Cross, Dublin, Ireland             NaN   \n",
       "15697664  Cathedral House, Patrick St, Wood Quay, Dublin...             NaN   \n",
       "\n",
       "         zipcode_new  \n",
       "id                    \n",
       "13097361              \n",
       "11269403              \n",
       "11144313              \n",
       "13166732              \n",
       "11765464              \n",
       "14649656              \n",
       "8184787               \n",
       "7171042               \n",
       "14053545              \n",
       "15697664              "
      ]
     },
     "execution_count": 19,
     "metadata": {},
     "output_type": "execute_result"
    }
   ],
   "source": [
    "# get google api data\n",
    "df2 = df[df.zipcode_new=='']\n",
    "df2 = df2.iloc[:10,:]\n",
    "\n",
    "df2['street'] = df2.apply(lambda row: geocode(row.street) if row.zipcode_new=='' else row.street, axis=1)\n",
    "df2[['street', 'street_cleansed', 'zipcode_new']].head(10)"
   ]
  },
  {
   "cell_type": "code",
   "execution_count": 20,
   "metadata": {},
   "outputs": [],
   "source": [
    "# # use place names file to extract core location\n",
    "# df['street_cleansed'] = df['street'].str.extract(r'('+patterns+')', expand=True)\n",
    "# df[['zipcode_new', 'street_cleansed']].head(10)\n",
    "\n",
    "# # use Area mapping file to get postalcode\n",
    "# mask = df.zipcode_new==''\n",
    "# df.loc[mask, 'zipcode_new'] = df[mask].apply(lambda row: mapArea(row.street_cleansed), axis=1)\n",
    "# df[['street', 'street_cleansed', 'zipcode_new']]"
   ]
  },
  {
   "cell_type": "code",
   "execution_count": 21,
   "metadata": {},
   "outputs": [
    {
     "data": {
      "text/html": [
       "<div>\n",
       "<style scoped>\n",
       "    .dataframe tbody tr th:only-of-type {\n",
       "        vertical-align: middle;\n",
       "    }\n",
       "\n",
       "    .dataframe tbody tr th {\n",
       "        vertical-align: top;\n",
       "    }\n",
       "\n",
       "    .dataframe thead th {\n",
       "        text-align: right;\n",
       "    }\n",
       "</style>\n",
       "<table border=\"1\" class=\"dataframe\">\n",
       "  <thead>\n",
       "    <tr style=\"text-align: right;\">\n",
       "      <th></th>\n",
       "      <th>street</th>\n",
       "      <th>street_cleansed</th>\n",
       "      <th>zipcode_new</th>\n",
       "    </tr>\n",
       "    <tr>\n",
       "      <th>id</th>\n",
       "      <th></th>\n",
       "      <th></th>\n",
       "      <th></th>\n",
       "    </tr>\n",
       "  </thead>\n",
       "  <tbody>\n",
       "    <tr>\n",
       "      <th>7276073</th>\n",
       "      <td>george's quay, dublin, dublin, ireland</td>\n",
       "      <td>NaN</td>\n",
       "      <td></td>\n",
       "    </tr>\n",
       "    <tr>\n",
       "      <th>16156397</th>\n",
       "      <td>george's quay, dublin, county dublin, ireland</td>\n",
       "      <td>NaN</td>\n",
       "      <td></td>\n",
       "    </tr>\n",
       "    <tr>\n",
       "      <th>8072359</th>\n",
       "      <td>george's quay, dublin, dublin dublin 2, ireland</td>\n",
       "      <td>NaN</td>\n",
       "      <td>dublin 2</td>\n",
       "    </tr>\n",
       "    <tr>\n",
       "      <th>15978026</th>\n",
       "      <td>george's quay, dublin, county dublin, ireland</td>\n",
       "      <td>NaN</td>\n",
       "      <td></td>\n",
       "    </tr>\n",
       "    <tr>\n",
       "      <th>7784872</th>\n",
       "      <td>george's quay, dublin, dublin 2, ireland</td>\n",
       "      <td>NaN</td>\n",
       "      <td>dublin 2</td>\n",
       "    </tr>\n",
       "  </tbody>\n",
       "</table>\n",
       "</div>"
      ],
      "text/plain": [
       "                                                   street street_cleansed  \\\n",
       "id                                                                          \n",
       "7276073            george's quay, dublin, dublin, ireland             NaN   \n",
       "16156397    george's quay, dublin, county dublin, ireland             NaN   \n",
       "8072359   george's quay, dublin, dublin dublin 2, ireland             NaN   \n",
       "15978026    george's quay, dublin, county dublin, ireland             NaN   \n",
       "7784872          george's quay, dublin, dublin 2, ireland             NaN   \n",
       "\n",
       "         zipcode_new  \n",
       "id                    \n",
       "7276073               \n",
       "16156397              \n",
       "8072359     dublin 2  \n",
       "15978026              \n",
       "7784872     dublin 2  "
      ]
     },
     "execution_count": 21,
     "metadata": {},
     "output_type": "execute_result"
    }
   ],
   "source": [
    "# len(df[df.zipcode_new==''])\n",
    "tmp = df.copy()\n",
    "# tmp = tmp[tmp.street.str.contains(\"george's quay\")]\n",
    "# tmp = tmp[tmp.street.str.contains(\"terenure\")]\n",
    "tmp = tmp[tmp.street.str.contains(\"george's quay\")]\n",
    "tmp[['street', 'street_cleansed', 'zipcode_new']].head()"
   ]
  },
  {
   "cell_type": "markdown",
   "metadata": {},
   "source": [
    "### Write to file"
   ]
  },
  {
   "cell_type": "code",
   "execution_count": 22,
   "metadata": {},
   "outputs": [],
   "source": [
    "# %cd ../../\n",
    "# df.to_csv('201702_listings_preproc.csv', index=False)"
   ]
  }
 ],
 "metadata": {
  "kernelspec": {
   "display_name": "Python 3",
   "language": "python",
   "name": "python3"
  },
  "language_info": {
   "codemirror_mode": {
    "name": "ipython",
    "version": 3
   },
   "file_extension": ".py",
   "mimetype": "text/x-python",
   "name": "python",
   "nbconvert_exporter": "python",
   "pygments_lexer": "ipython3",
   "version": "3.7.0"
  }
 },
 "nbformat": 4,
 "nbformat_minor": 2
}
