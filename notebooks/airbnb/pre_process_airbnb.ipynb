{
 "cells": [
  {
   "cell_type": "code",
   "execution_count": 1,
   "metadata": {},
   "outputs": [],
   "source": [
    "# https://rstudio-pubs-static.s3.amazonaws.com/407929_afc5ef0f2ad648389447a6ca3f4a7cd4.html"
   ]
  },
  {
   "cell_type": "code",
   "execution_count": 2,
   "metadata": {},
   "outputs": [],
   "source": [
    "# !pip install sklearn\n",
    "# !pip install reverse_geocoder"
   ]
  },
  {
   "cell_type": "code",
   "execution_count": 3,
   "metadata": {},
   "outputs": [],
   "source": [
    "import pandas as pd\n",
    "import numpy as np\n",
    "import csv\n",
    "from sklearn import preprocessing\n",
    "# import reverse as rg \n",
    "import pprint \n",
    "import re\n",
    "from collections import defaultdict"
   ]
  },
  {
   "cell_type": "code",
   "execution_count": 4,
   "metadata": {},
   "outputs": [
    {
     "name": "stdout",
     "output_type": "stream",
     "text": [
      "/usr/local/bin/notebooks/data/airbnbdata\n",
      "201702_calendar.csv\t\t    201811_listings.csv\n",
      "201702_calendar.csv.gz\t\t    201811_listings.csv.gz\n",
      "201702_listings.csv\t\t    201811_neighbourhoods.csv\n",
      "201702_listings.csv.gz\t\t    201811_reviews.csv\n",
      "201702_listings_preproc.csv\t    201811_reviews.csv.gz\n",
      "201702_listings_to_be_geocoded.csv  column_names.txt\n",
      "201702_neighbourhoods.csv\t    core\n",
      "201702_reviews.csv\t\t    df_na_geocoded.csv\n",
      "201702_reviews.csv.gz\t\t    geo\n",
      "201811_calendar.csv\t\t    housing\n",
      "201811_calendar.csv.gz\n"
     ]
    }
   ],
   "source": [
    "%cd ../../data/airbnbdata\n",
    "!ls"
   ]
  },
  {
   "cell_type": "code",
   "execution_count": 5,
   "metadata": {},
   "outputs": [],
   "source": [
    "filename = '201702_listings.csv.gz' # 94 cols\n",
    "# filename = '201702_listings.csv' # 15 cols\n",
    "\n",
    "df_read = pd.read_csv(filename,\n",
    "                       encoding='utf-8',\n",
    "                       compression='gzip',\n",
    "                       sep=',',\n",
    "                       index_col = 0,\n",
    "                       header=0\n",
    "                       )"
   ]
  },
  {
   "cell_type": "code",
   "execution_count": 6,
   "metadata": {},
   "outputs": [
    {
     "name": "stdout",
     "output_type": "stream",
     "text": [
      "(6728, 94)\n"
     ]
    }
   ],
   "source": [
    "df = df_read.copy()\n",
    "# remove datapoint w/753 min nights\n",
    "df = df.drop([4745260])\n",
    "\n",
    "print(df.shape)\n",
    "# df.head(1)\n",
    "# df.columns"
   ]
  },
  {
   "cell_type": "markdown",
   "metadata": {},
   "source": [
    "#### clean monetary values"
   ]
  },
  {
   "cell_type": "code",
   "execution_count": 7,
   "metadata": {},
   "outputs": [],
   "source": [
    "df['price'] = df['price'].replace('[$,]','',regex=True).astype(float)\n",
    "df['cleaning_fee'] = df['cleaning_fee'].replace('[$,]','',regex=True).astype(float)"
   ]
  },
  {
   "cell_type": "markdown",
   "metadata": {},
   "source": [
    "#### Geo"
   ]
  },
  {
   "cell_type": "code",
   "execution_count": 8,
   "metadata": {},
   "outputs": [
    {
     "name": "stdout",
     "output_type": "stream",
     "text": [
      "['Dublin City' 'South Dublin' 'Fingal' 'Dn Laoghaire-Rathdown']\n"
     ]
    },
    {
     "data": {
      "text/plain": [
       "street                       0\n",
       "zipcode                   4212\n",
       "neighbourhood_cleansed       0\n",
       "dtype: int64"
      ]
     },
     "execution_count": 8,
     "metadata": {},
     "output_type": "execute_result"
    }
   ],
   "source": [
    "print(df.neighbourhood_cleansed.unique())\n",
    "df.neighbourhood_cleansed.describe()\n",
    "df[['street', 'zipcode', 'neighbourhood_cleansed']].isnull().sum(axis = 0)"
   ]
  },
  {
   "cell_type": "code",
   "execution_count": 9,
   "metadata": {},
   "outputs": [
    {
     "name": "stdout",
     "output_type": "stream",
     "text": [
      "(5376, 94)\n",
      "['Dublin City']\n"
     ]
    },
    {
     "data": {
      "text/plain": [
       "street        0\n",
       "zipcode    3305\n",
       "dtype: int64"
      ]
     },
     "execution_count": 9,
     "metadata": {},
     "output_type": "execute_result"
    }
   ],
   "source": [
    "# Dublin City only\n",
    "df_dub = df[df.neighbourhood_cleansed == 'Dublin City']\n",
    "print(df_dub.shape)\n",
    "print(df_dub.neighbourhood_cleansed.unique())\n",
    "df_dub.neighbourhood_cleansed.describe()\n",
    "df_dub[['street', 'zipcode']].isnull().sum(axis = 0)"
   ]
  },
  {
   "cell_type": "markdown",
   "metadata": {},
   "source": [
    "'\n",
    "#### read pattern.txt"
   ]
  },
  {
   "cell_type": "code",
   "execution_count": 10,
   "metadata": {},
   "outputs": [
    {
     "name": "stdout",
     "output_type": "stream",
     "text": [
      "/usr/local/bin/notebooks/data/airbnbdata/geo/regexp\n",
      "area_mapping.txt  pattern.txt\n"
     ]
    },
    {
     "data": {
      "text/plain": [
       "str"
      ]
     },
     "execution_count": 10,
     "metadata": {},
     "output_type": "execute_result"
    }
   ],
   "source": [
    "%cd ./geo/regexp\n",
    "!ls\n",
    "f=open(\"pattern.txt\", \"r\")\n",
    "patterns =f.read().replace('\\n','').lower()\n",
    "patterns\n",
    "type(patterns)"
   ]
  },
  {
   "cell_type": "markdown",
   "metadata": {},
   "source": [
    "#### new zipcode column - part 1: use regexp and pattern file"
   ]
  },
  {
   "cell_type": "code",
   "execution_count": 11,
   "metadata": {},
   "outputs": [
    {
     "data": {
      "text/plain": [
       "id\n",
       "10778114    dublin 4\n",
       "14348712         NaN\n",
       "15749806     foxrock\n",
       "9602076     dublin 2\n",
       "15952233         NaN\n",
       "Name: zipcode_new, dtype: object"
      ]
     },
     "execution_count": 11,
     "metadata": {},
     "output_type": "execute_result"
    }
   ],
   "source": [
    "df = df_dub.copy()\n",
    "df['street'] = df['street'].str.lower()\n",
    "df['zipcode_new'] = df['street'].str.extract(r'('+patterns+')', expand=True)\n",
    "df['zipcode_new'].head()"
   ]
  },
  {
   "cell_type": "markdown",
   "metadata": {},
   "source": [
    "#### new zipcode column - part 2: look for zipcodes that could be used\n",
    "\n",
    "for all NaN values in the new zipcode column, use its corresponding zipcode\n",
    "Note: before/after shows that all NaNs also have no zipcode, so this step is not adding anything for this dataset"
   ]
  },
  {
   "cell_type": "code",
   "execution_count": 12,
   "metadata": {},
   "outputs": [
    {
     "name": "stdout",
     "output_type": "stream",
     "text": [
      "zipcode_new    2141\n",
      "zipcode        3305\n",
      "dtype: int64\n",
      "zipcode_new    1875\n",
      "dtype: int64\n"
     ]
    }
   ],
   "source": [
    "# before\n",
    "print(df[['zipcode_new', 'zipcode']].isnull().sum(axis = 0))\n",
    "\n",
    "mask = pd.isnull(df['zipcode_new'])\n",
    "df['zipcode_new'] = np.where(mask, \n",
    "                                 df['zipcode'], \n",
    "                                 df['zipcode_new'])\n",
    "\n",
    "# after\n",
    "print(df[['zipcode_new']].isnull().sum(axis = 0))"
   ]
  },
  {
   "cell_type": "markdown",
   "metadata": {},
   "source": [
    "#### new zipcode column - part 3: use regexp and are mapping file"
   ]
  },
  {
   "cell_type": "code",
   "execution_count": 13,
   "metadata": {},
   "outputs": [],
   "source": [
    "# setup dict\n",
    "AreaDict = defaultdict(list)\n",
    "with open(\"area_mapping.txt\") as f:\n",
    "    reader = csv.reader(f, delimiter=':')\n",
    "    for line in reader:\n",
    "         AreaDict[line[0].strip().lower()] = line[1].strip().lower()\n",
    "\n",
    "# print(AreaDict.items())\n",
    "# print(AreaDict['ashtown'])"
   ]
  },
  {
   "cell_type": "code",
   "execution_count": 14,
   "metadata": {},
   "outputs": [],
   "source": [
    "# regexp function\n",
    "\n",
    "def replace(x):\n",
    "    if not pd.isnull(x):\n",
    "        x = x.strip()\n",
    "        tmp = re.search(r'[d]\\d{1,2}\\s{0,1}[a-z,0-9]{4}', x)\n",
    "        if tmp:\n",
    "            return 'dublin ' + tmp[0][2]    \n",
    "    \n",
    "        tmp = re.search(r'(0\\d{1})', x)\n",
    "        if tmp:\n",
    "            return 'dublin ' + tmp[0][1:]\n",
    "            \n",
    "        tmp = re.search(r'(dublin\\d{1,2})', x)\n",
    "        if tmp:\n",
    "            return 'dublin ' + tmp[0][6:]\n",
    "        tmp = re.search(r'(d\\d{1,2})', x)\n",
    "        if tmp:\n",
    "            return 'dublin ' + tmp[0][1:]\n",
    "\n",
    "        tmp = re.search(r'(\\d{1,2}w*)', x)\n",
    "        if tmp:\n",
    "            if tmp[0][0]=='0':\n",
    "                return 'dublin ' + tmp[0][1:]\n",
    "            else: \n",
    "                return 'dublin ' + tmp[0]\n",
    "        try: \n",
    "            return AreaDict[x].lower() \n",
    "        except:\n",
    "            return np.nan\n",
    "    \n",
    "    else: return np.nan\n"
   ]
  },
  {
   "cell_type": "code",
   "execution_count": 15,
   "metadata": {},
   "outputs": [
    {
     "data": {
      "text/plain": [
       "array(['dublin 4', 'dublin 1', 'dublin 18', 'dublin 2', nan, 'dublin 8',\n",
       "       'dublin 6', 'dublin 3', 'dublin 11', 'dublin 9', 'dublin 7',\n",
       "       'dublin 5', 'dublin 12', 'dublin 13', 'dublin 15', 'dublin 14',\n",
       "       'dublin 10', 'dublin 20', 'dublin 35', 'dublin 6w', 'dublin 17',\n",
       "       'dublin 0', 'dublin 16'], dtype=object)"
      ]
     },
     "execution_count": 15,
     "metadata": {},
     "output_type": "execute_result"
    }
   ],
   "source": [
    "df['zipcode_new'] = df['zipcode_new'].map(lambda x: replace(x))\n",
    "df['zipcode_new'].unique()\n"
   ]
  },
  {
   "cell_type": "code",
   "execution_count": 16,
   "metadata": {},
   "outputs": [],
   "source": [
    "# NaNs\n",
    "# print(df_dub.shape)\n",
    "# print(len(df[pd.isnull(df.zipcode_new)]))\n",
    "# df = df[['street', 'zipcode_new']]\n",
    "# df[pd.isnull(df.zipcode_new)].tail(10)"
   ]
  },
  {
   "cell_type": "code",
   "execution_count": 17,
   "metadata": {},
   "outputs": [
    {
     "name": "stdout",
     "output_type": "stream",
     "text": [
      "1139\n"
     ]
    },
    {
     "data": {
      "text/html": [
       "<div>\n",
       "<style scoped>\n",
       "    .dataframe tbody tr th:only-of-type {\n",
       "        vertical-align: middle;\n",
       "    }\n",
       "\n",
       "    .dataframe tbody tr th {\n",
       "        vertical-align: top;\n",
       "    }\n",
       "\n",
       "    .dataframe thead th {\n",
       "        text-align: right;\n",
       "    }\n",
       "</style>\n",
       "<table border=\"1\" class=\"dataframe\">\n",
       "  <thead>\n",
       "    <tr style=\"text-align: right;\">\n",
       "      <th></th>\n",
       "      <th>host_id_count</th>\n",
       "    </tr>\n",
       "    <tr>\n",
       "      <th>property_type</th>\n",
       "      <th></th>\n",
       "    </tr>\n",
       "  </thead>\n",
       "  <tbody>\n",
       "    <tr>\n",
       "      <th>Apartment</th>\n",
       "      <td>879</td>\n",
       "    </tr>\n",
       "    <tr>\n",
       "      <th>House</th>\n",
       "      <td>206</td>\n",
       "    </tr>\n",
       "    <tr>\n",
       "      <th>Townhouse</th>\n",
       "      <td>20</td>\n",
       "    </tr>\n",
       "    <tr>\n",
       "      <th>Other</th>\n",
       "      <td>13</td>\n",
       "    </tr>\n",
       "    <tr>\n",
       "      <th>Cabin</th>\n",
       "      <td>8</td>\n",
       "    </tr>\n",
       "  </tbody>\n",
       "</table>\n",
       "</div>"
      ],
      "text/plain": [
       "               host_id_count\n",
       "property_type               \n",
       "Apartment                879\n",
       "House                    206\n",
       "Townhouse                 20\n",
       "Other                     13\n",
       "Cabin                      8"
      ]
     },
     "execution_count": 17,
     "metadata": {},
     "output_type": "execute_result"
    }
   ],
   "source": [
    "df_na = df[pd.isnull(df.zipcode_new)]\n",
    "df_na.columns\n",
    "\n",
    "df_na = (df_na[(df_na.room_type=='Entire home/apt')])\n",
    "print(len(df_na))\n",
    "grouped = df_na.groupby('property_type').agg({'host_id': ['count']})\n",
    "grouped.columns = grouped.columns.map('_'.join)\n",
    "grouped.sort_values(by='host_id_count', ascending=False).head()\n",
    "# df_na.head()"
   ]
  },
  {
   "cell_type": "code",
   "execution_count": 18,
   "metadata": {},
   "outputs": [
    {
     "name": "stdout",
     "output_type": "stream",
     "text": [
      "/usr/local/bin/notebooks/data/airbnbdata\n",
      "201702_calendar.csv\t\t    201811_listings.csv\n",
      "201702_calendar.csv.gz\t\t    201811_listings.csv.gz\n",
      "201702_listings.csv\t\t    201811_neighbourhoods.csv\n",
      "201702_listings.csv.gz\t\t    201811_reviews.csv\n",
      "201702_listings_preproc.csv\t    201811_reviews.csv.gz\n",
      "201702_listings_to_be_geocoded.csv  column_names.txt\n",
      "201702_neighbourhoods.csv\t    core\n",
      "201702_reviews.csv\t\t    df_na_geocoded.csv\n",
      "201702_reviews.csv.gz\t\t    geo\n",
      "201811_calendar.csv\t\t    housing\n",
      "201811_calendar.csv.gz\n"
     ]
    }
   ],
   "source": [
    "%cd ../../\n",
    "!ls"
   ]
  },
  {
   "cell_type": "markdown",
   "metadata": {},
   "source": [
    "#### write to file"
   ]
  },
  {
   "cell_type": "code",
   "execution_count": 19,
   "metadata": {},
   "outputs": [],
   "source": [
    "df.to_csv('201702_listings_preproc.csv', index=False)"
   ]
  }
 ],
 "metadata": {
  "kernelspec": {
   "display_name": "Python 3",
   "language": "python",
   "name": "python3"
  },
  "language_info": {
   "codemirror_mode": {
    "name": "ipython",
    "version": 3
   },
   "file_extension": ".py",
   "mimetype": "text/x-python",
   "name": "python",
   "nbconvert_exporter": "python",
   "pygments_lexer": "ipython3",
   "version": "3.7.0"
  }
 },
 "nbformat": 4,
 "nbformat_minor": 2
}
