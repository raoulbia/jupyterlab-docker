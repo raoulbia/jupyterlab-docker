{
 "cells": [
  {
   "cell_type": "markdown",
   "metadata": {},
   "source": [
    "* clean monetary values\n",
    "* select Dublin only\n",
    "* RegExp: Extract Postcode\n",
    "* RegExp: Area Mapping\n",
    "  * use place names file to extract core location\n",
    "  * use Area mapping file to get postalcode\n",
    "  \n",
    "<br>\n",
    "Results:\n",
    "\n",
    "* total nbr rows: 5377\n",
    "* regexp part 1\n",
    "  * nbr rows w/extrated regexp part 1: 2183\n",
    "  * nbr rows remaining w/unknown zipcode_new: 3194\n",
    "* regexp part 2\n",
    "  * nbr rows w/unknown zipcode_new after regexp part 2: 2193\n",
    "    * nbr rows completed through area mapping: 1001\n",
    "    * Entire home/apt nbr rows w/unknown zipcode_new: 1087"
   ]
  },
  {
   "cell_type": "code",
   "execution_count": 1,
   "metadata": {},
   "outputs": [],
   "source": [
    "import pandas as pd\n",
    "import numpy as np\n",
    "import csv\n",
    "import re\n",
    "from collections import defaultdict\n",
    "import requests\n",
    "\n",
    "pd.set_option('display.expand_frame_repr', False)"
   ]
  },
  {
   "cell_type": "markdown",
   "metadata": {},
   "source": [
    "### Read Data"
   ]
  },
  {
   "cell_type": "code",
   "execution_count": 2,
   "metadata": {},
   "outputs": [
    {
     "data": {
      "text/html": [
       "<div>\n",
       "<style scoped>\n",
       "    .dataframe tbody tr th:only-of-type {\n",
       "        vertical-align: middle;\n",
       "    }\n",
       "\n",
       "    .dataframe tbody tr th {\n",
       "        vertical-align: top;\n",
       "    }\n",
       "\n",
       "    .dataframe thead th {\n",
       "        text-align: right;\n",
       "    }\n",
       "</style>\n",
       "<table border=\"1\" class=\"dataframe\">\n",
       "  <thead>\n",
       "    <tr style=\"text-align: right;\">\n",
       "      <th></th>\n",
       "      <th>listing_url</th>\n",
       "      <th>scrape_id</th>\n",
       "      <th>last_scraped</th>\n",
       "      <th>name</th>\n",
       "      <th>summary</th>\n",
       "      <th>space</th>\n",
       "      <th>description</th>\n",
       "      <th>experiences_offered</th>\n",
       "      <th>neighborhood_overview</th>\n",
       "      <th>notes</th>\n",
       "      <th>...</th>\n",
       "      <th>review_scores_value</th>\n",
       "      <th>requires_license</th>\n",
       "      <th>license</th>\n",
       "      <th>jurisdiction_names</th>\n",
       "      <th>instant_bookable</th>\n",
       "      <th>cancellation_policy</th>\n",
       "      <th>require_guest_profile_picture</th>\n",
       "      <th>require_guest_phone_verification</th>\n",
       "      <th>calculated_host_listings_count</th>\n",
       "      <th>reviews_per_month</th>\n",
       "    </tr>\n",
       "    <tr>\n",
       "      <th>id</th>\n",
       "      <th></th>\n",
       "      <th></th>\n",
       "      <th></th>\n",
       "      <th></th>\n",
       "      <th></th>\n",
       "      <th></th>\n",
       "      <th></th>\n",
       "      <th></th>\n",
       "      <th></th>\n",
       "      <th></th>\n",
       "      <th></th>\n",
       "      <th></th>\n",
       "      <th></th>\n",
       "      <th></th>\n",
       "      <th></th>\n",
       "      <th></th>\n",
       "      <th></th>\n",
       "      <th></th>\n",
       "      <th></th>\n",
       "      <th></th>\n",
       "      <th></th>\n",
       "    </tr>\n",
       "  </thead>\n",
       "  <tbody>\n",
       "    <tr>\n",
       "      <th>10778114</th>\n",
       "      <td>https://www.airbnb.com/rooms/10778114</td>\n",
       "      <td>20170218121908</td>\n",
       "      <td>2017-02-18</td>\n",
       "      <td>1 Bedroom Apartment For Short Term</td>\n",
       "      <td>Contact for more info</td>\n",
       "      <td>- Kitchen - Wifi - PS4</td>\n",
       "      <td>Contact for more info - Kitchen - Wifi - PS4 1...</td>\n",
       "      <td>none</td>\n",
       "      <td>NaN</td>\n",
       "      <td>NaN</td>\n",
       "      <td>...</td>\n",
       "      <td>NaN</td>\n",
       "      <td>f</td>\n",
       "      <td>NaN</td>\n",
       "      <td>NaN</td>\n",
       "      <td>f</td>\n",
       "      <td>flexible</td>\n",
       "      <td>f</td>\n",
       "      <td>f</td>\n",
       "      <td>1</td>\n",
       "      <td>NaN</td>\n",
       "    </tr>\n",
       "  </tbody>\n",
       "</table>\n",
       "<p>1 rows × 94 columns</p>\n",
       "</div>"
      ],
      "text/plain": [
       "                                    listing_url       scrape_id last_scraped                                name                summary                   space                                        description experiences_offered neighborhood_overview notes  ... review_scores_value requires_license license jurisdiction_names instant_bookable cancellation_policy require_guest_profile_picture require_guest_phone_verification  calculated_host_listings_count reviews_per_month\n",
       "id                                                                                                                                                                                                                                                                  ...                                                                                                                                                                                                                      \n",
       "10778114  https://www.airbnb.com/rooms/10778114  20170218121908   2017-02-18  1 Bedroom Apartment For Short Term  Contact for more info  - Kitchen - Wifi - PS4  Contact for more info - Kitchen - Wifi - PS4 1...                none                   NaN   NaN  ...                 NaN                f     NaN                NaN                f            flexible                             f                                f                               1               NaN\n",
       "\n",
       "[1 rows x 94 columns]"
      ]
     },
     "execution_count": 2,
     "metadata": {},
     "output_type": "execute_result"
    }
   ],
   "source": [
    "# Listings\n",
    "\n",
    "# %cd ../../data/airbnbdata\n",
    "# filename = '201702_listings.csv.gz'\n",
    "# filename = '201702_listings.csv'\n",
    "filename = 'http://data.insideairbnb.com/ireland/leinster/dublin/2017-02-18/data/listings.csv.gz'\n",
    "df_read = pd.read_csv(filename,\n",
    "                       encoding='utf-8',\n",
    "                       compression='gzip',\n",
    "                       sep=',',\n",
    "                       index_col = 0,\n",
    "                       header=0\n",
    "                       )\n",
    "df_read['street'] = df_read['street'].apply(lambda x: x.lower())\n",
    "df_read.head(1)"
   ]
  },
  {
   "cell_type": "markdown",
   "metadata": {},
   "source": [
    "### Load resource files"
   ]
  },
  {
   "cell_type": "code",
   "execution_count": 3,
   "metadata": {},
   "outputs": [
    {
     "data": {
      "text/plain": [
       "'/usr/local/bin/notebooks/notebooks/airbnb'"
      ]
     },
     "execution_count": 3,
     "metadata": {},
     "output_type": "execute_result"
    }
   ],
   "source": [
    "%pwd"
   ]
  },
  {
   "cell_type": "code",
   "execution_count": 4,
   "metadata": {},
   "outputs": [
    {
     "name": "stdout",
     "output_type": "stream",
     "text": [
      "/usr/local/bin/notebooks/data/airbnbdata/geo/regexp\n"
     ]
    }
   ],
   "source": [
    "# Places Names\n",
    "\n",
    "%cd ../../data/airbnbdata/geo/regexp\n",
    "\n",
    "f=open(\"pattern.txt\", \"r\")\n",
    "patterns =f.read().replace('\\n','').lower()\n",
    "\n",
    "# patterns\n",
    "# type(patterns)"
   ]
  },
  {
   "cell_type": "code",
   "execution_count": 5,
   "metadata": {},
   "outputs": [],
   "source": [
    "# Area Mapping\n",
    "\n",
    "AreaDict = defaultdict(list)\n",
    "with open(\"area_mapping.txt\") as f:\n",
    "    reader = csv.reader(f, delimiter=':')\n",
    "    for line in reader:\n",
    "         AreaDict[line[0].strip().lower()] = line[1].strip().lower()\n",
    "\n",
    "# print(AreaDict.items())\n",
    "# print(AreaDict['ashtown'])"
   ]
  },
  {
   "cell_type": "markdown",
   "metadata": {},
   "source": [
    "### Pre-processing"
   ]
  },
  {
   "cell_type": "code",
   "execution_count": 6,
   "metadata": {},
   "outputs": [
    {
     "name": "stdout",
     "output_type": "stream",
     "text": [
      "(6729, 94)\n"
     ]
    }
   ],
   "source": [
    "df = df_read.copy()\n",
    "print(df.shape)"
   ]
  },
  {
   "cell_type": "markdown",
   "metadata": {},
   "source": [
    "#### Clean monetary values"
   ]
  },
  {
   "cell_type": "code",
   "execution_count": 7,
   "metadata": {},
   "outputs": [],
   "source": [
    "df['price'] = df['price'].replace('[$,]','',regex=True).astype(float)\n",
    "df['cleaning_fee'] = df['cleaning_fee'].replace('[$,]','',regex=True).astype(float)"
   ]
  },
  {
   "cell_type": "markdown",
   "metadata": {},
   "source": [
    "#### Dublin City only"
   ]
  },
  {
   "cell_type": "code",
   "execution_count": 8,
   "metadata": {},
   "outputs": [
    {
     "name": "stdout",
     "output_type": "stream",
     "text": [
      "['Dublin City' 'South Dublin' 'Fingal' 'Dn Laoghaire-Rathdown']\n"
     ]
    },
    {
     "data": {
      "text/plain": [
       "street                       0\n",
       "zipcode                   4212\n",
       "neighbourhood_cleansed       0\n",
       "dtype: int64"
      ]
     },
     "execution_count": 8,
     "metadata": {},
     "output_type": "execute_result"
    }
   ],
   "source": [
    "print(df.neighbourhood_cleansed.unique())\n",
    "df.neighbourhood_cleansed.describe()\n",
    "df[['street', 'zipcode', 'neighbourhood_cleansed']].isnull().sum(axis = 0)"
   ]
  },
  {
   "cell_type": "code",
   "execution_count": 9,
   "metadata": {},
   "outputs": [
    {
     "name": "stdout",
     "output_type": "stream",
     "text": [
      "(5377, 94)\n",
      "['Dublin City']\n"
     ]
    },
    {
     "data": {
      "text/plain": [
       "street        0\n",
       "zipcode    3305\n",
       "dtype: int64"
      ]
     },
     "execution_count": 9,
     "metadata": {},
     "output_type": "execute_result"
    }
   ],
   "source": [
    "df = df[df.neighbourhood_cleansed == 'Dublin City']\n",
    "print(df.shape)\n",
    "print(df.neighbourhood_cleansed.unique())\n",
    "df.neighbourhood_cleansed.describe()\n",
    "df[['street', 'zipcode']].isnull().sum(axis = 0)"
   ]
  },
  {
   "cell_type": "markdown",
   "metadata": {},
   "source": [
    "#### RegExp: Extract Postcode"
   ]
  },
  {
   "cell_type": "code",
   "execution_count": 10,
   "metadata": {},
   "outputs": [
    {
     "data": {
      "text/plain": [
       "array(['dublin 4', nan, 'dublin 2', 'dublin 6', 'dublin 8', 'dublin 1',\n",
       "       'dublin 11', 'dublin 6w', 'dublin 3', 'dublin 7', 'dublin 5',\n",
       "       'dublin', 'dublin 9', 'dublin 13', 'dublin 12', 'dublin 24',\n",
       "       'dublin 15', 'dublin 17', 'dublin 35'], dtype=object)"
      ]
     },
     "execution_count": 10,
     "metadata": {},
     "output_type": "execute_result"
    }
   ],
   "source": [
    "\"\"\"\n",
    "for reference, eircode regexp: re1 = re.search(r'd\\d{1,2}\\s{0,1}[a-z0-9]{4}', x) # eircode format Dxx xxxx\n",
    "\n",
    "in this particular case however we can achieve the goal by a more general approach\n",
    "\n",
    "below is the breakdown of \\bd\\d{2}|d\\s\\d{2}|d\\d{1}w?|d\\s\\d{1,2}w?|d\\d{1}\\b\n",
    "\n",
    "d\\d{2} >> d01, d10\n",
    "d\\s\\d{2} >> d 10, d 01\n",
    "d\\d{1}w? >> d6w\n",
    "d\\s\\d{1}w? >> d 6w\n",
    "d\\d{1}\\b >>  d1, d3\n",
    "\n",
    "d(ublin)* >> same as above for dublin instead of d\n",
    "\n",
    "\"\"\"\n",
    "def replace(x):\n",
    "    re1 = re.search(r'\\bd\\d{2}|d\\s\\d{2}|d\\d{1}w?|d\\s\\d{1,2}w?|d\\d{1}\\b', x)\n",
    "    re2 = re.search(r'\\bd\\dublin{2}|dublin\\s\\d{2}|dublin\\d{1}w?|dublin\\s\\d{1,2}w?|dublin\\d{1}\\b', x)\n",
    "#     x = x.strip()\n",
    "    \n",
    "    if re1:\n",
    "        return 'dublin ' + re1[0][1:] \n",
    "    elif re2:\n",
    "        if isinstance(re2[0][6], int):\n",
    "            return 'dublin ' + re2[0][6:]\n",
    "        else:\n",
    "            return 'dublin ' + re2[0][7:]\n",
    "    else:\n",
    "        return ''\n",
    "\n",
    "df['zipcode_new'] = (df['street'].apply(lambda x: replace(x)\n",
    "                                        .replace('0', '')\n",
    "                                        .replace('  ', ' ')\n",
    "                                        .strip()))# if not pd.isnull(x) else np.nan))\n",
    "\n",
    "df['zipcode_new'] = df['zipcode_new'].apply(lambda x: np.nan if x=='' else x)\n",
    "df['zipcode_new'].unique()\n",
    "# df = df.sample(frac=1)\n",
    "# df[['street', 'zipcode_new']].sample(5)"
   ]
  },
  {
   "cell_type": "code",
   "execution_count": 11,
   "metadata": {},
   "outputs": [
    {
     "name": "stdout",
     "output_type": "stream",
     "text": [
      "total nbr rows: 5377\n",
      "nbr rows w/extrated regexp part 1: 2183\n",
      "nbr rows remaining w/unknown zipcode_new: 3194\n"
     ]
    }
   ],
   "source": [
    "print('total nbr rows: {}'.format(len(df)))\n",
    "print('nbr rows w/extrated regexp part 1: {}'.format(len(df[~pd.isnull(df.zipcode_new)])))\n",
    "\n",
    "regexp1 = len(df[pd.isnull(df.zipcode_new)])\n",
    "print('nbr rows remaining w/unknown zipcode_new: {}'.format(regexp1))"
   ]
  },
  {
   "cell_type": "markdown",
   "metadata": {},
   "source": [
    "#### RegExp Resource Files\n",
    "\n",
    "- Step 1: use place names file to extract core location\n",
    "- Step 2: use Area mapping file to get postalcode\n"
   ]
  },
  {
   "cell_type": "code",
   "execution_count": 12,
   "metadata": {},
   "outputs": [
    {
     "data": {
      "text/html": [
       "<div>\n",
       "<style scoped>\n",
       "    .dataframe tbody tr th:only-of-type {\n",
       "        vertical-align: middle;\n",
       "    }\n",
       "\n",
       "    .dataframe tbody tr th {\n",
       "        vertical-align: top;\n",
       "    }\n",
       "\n",
       "    .dataframe thead th {\n",
       "        text-align: right;\n",
       "    }\n",
       "</style>\n",
       "<table border=\"1\" class=\"dataframe\">\n",
       "  <thead>\n",
       "    <tr style=\"text-align: right;\">\n",
       "      <th></th>\n",
       "      <th>street</th>\n",
       "      <th>street_cleansed</th>\n",
       "      <th>zipcode_new</th>\n",
       "    </tr>\n",
       "    <tr>\n",
       "      <th>id</th>\n",
       "      <th></th>\n",
       "      <th></th>\n",
       "      <th></th>\n",
       "    </tr>\n",
       "  </thead>\n",
       "  <tbody>\n",
       "    <tr>\n",
       "      <th>10778114</th>\n",
       "      <td>south lotts road, dublin, dublin dublin 4, ire...</td>\n",
       "      <td>NaN</td>\n",
       "      <td>dublin 4</td>\n",
       "    </tr>\n",
       "    <tr>\n",
       "      <th>14348712</th>\n",
       "      <td>dublin, leinster 1, ireland</td>\n",
       "      <td>NaN</td>\n",
       "      <td>NaN</td>\n",
       "    </tr>\n",
       "    <tr>\n",
       "      <th>15749806</th>\n",
       "      <td>pinehurst, hainault road, foxrock, county dubl...</td>\n",
       "      <td>foxrock</td>\n",
       "      <td>dublin 18</td>\n",
       "    </tr>\n",
       "    <tr>\n",
       "      <th>9602076</th>\n",
       "      <td>erne house, dublin, dublin 2, ireland</td>\n",
       "      <td>NaN</td>\n",
       "      <td>dublin 2</td>\n",
       "    </tr>\n",
       "    <tr>\n",
       "      <th>15952233</th>\n",
       "      <td>gardiner street lower, dublin, county dublin, ...</td>\n",
       "      <td>NaN</td>\n",
       "      <td>NaN</td>\n",
       "    </tr>\n",
       "  </tbody>\n",
       "</table>\n",
       "</div>"
      ],
      "text/plain": [
       "                                                     street street_cleansed zipcode_new\n",
       "id                                                                                     \n",
       "10778114  south lotts road, dublin, dublin dublin 4, ire...             NaN    dublin 4\n",
       "14348712                        dublin, leinster 1, ireland             NaN         NaN\n",
       "15749806  pinehurst, hainault road, foxrock, county dubl...         foxrock   dublin 18\n",
       "9602076               erne house, dublin, dublin 2, ireland             NaN    dublin 2\n",
       "15952233  gardiner street lower, dublin, county dublin, ...             NaN         NaN"
      ]
     },
     "execution_count": 12,
     "metadata": {},
     "output_type": "execute_result"
    }
   ],
   "source": [
    "def mapArea(x):\n",
    "    res = AreaDict[x]\n",
    "    if res:\n",
    "        return res\n",
    "    else:\n",
    "        return np.nan\n",
    "    \n",
    "df = df.copy()\n",
    "\n",
    "# create new column with extracted pattern (area name) if found\n",
    "df['street_cleansed'] = df['street'].str.extract(r'('+patterns+')')\n",
    "\n",
    "# get row id's of rows with unknown zipcode\n",
    "mask = pd.isnull(df.zipcode_new) # boolean value will be set to true if isnull() \n",
    "\n",
    "# map extracted area name to get corresponding zipcode from resource file\n",
    "df.loc[mask, 'zipcode_new'] = df[mask].apply(lambda row: mapArea(row.street_cleansed), axis=1)\n",
    "\n",
    "df[['street', 'street_cleansed', 'zipcode_new']].head()"
   ]
  },
  {
   "cell_type": "code",
   "execution_count": 18,
   "metadata": {},
   "outputs": [
    {
     "name": "stdout",
     "output_type": "stream",
     "text": [
      "nbr rows w/unknown zipcode_new after regexp part 2: 2193\n",
      "nbr rows completed through area mapping: 1001\n",
      "Entire home/apt nbr rows w/unknown zipcode_new: 1087\n"
     ]
    }
   ],
   "source": [
    "regexp2 = len(df[pd.isnull(df.zipcode_new)])\n",
    "print('nbr rows w/unknown zipcode_new after regexp part 2: {}'.format(regexp2))\n",
    "print('nbr rows completed through area mapping: {}'.format(regexp1-regexp2))\n",
    "\n",
    "# Quantify missing Postal code data for room_type=='Entire home/apt'\n",
    "df_na = df[pd.isnull(df.zipcode_new)]\n",
    "df_na = (df_na[(df_na.room_type=='Entire home/apt')])\n",
    "print('Entire home/apt nbr rows w/unknown zipcode_new: {}'.format(len(df_na)))"
   ]
  },
  {
   "cell_type": "code",
   "execution_count": 14,
   "metadata": {},
   "outputs": [],
   "source": [
    "# see breakdown\n",
    "# grouped = df_na.groupby('property_type').agg({'host_id': ['count']})\n",
    "# grouped.columns = grouped.columns.map('_'.join)\n",
    "# grouped.sort_values(by='host_id_count', ascending=False)"
   ]
  },
  {
   "cell_type": "markdown",
   "metadata": {},
   "source": [
    "#### Write to file"
   ]
  },
  {
   "cell_type": "code",
   "execution_count": 15,
   "metadata": {},
   "outputs": [],
   "source": [
    "# %cd ../../\n",
    "# df.to_csv('201702_listings_preproc.csv', index=False)"
   ]
  },
  {
   "cell_type": "markdown",
   "metadata": {},
   "source": [
    "#### Links"
   ]
  },
  {
   "cell_type": "code",
   "execution_count": 16,
   "metadata": {},
   "outputs": [],
   "source": [
    "# https://rstudio-pubs-static.s3.amazonaws.com/407929_afc5ef0f2ad648389447a6ca3f4a7cd4.html"
   ]
  }
 ],
 "metadata": {
  "kernelspec": {
   "display_name": "Python 3",
   "language": "python",
   "name": "python3"
  },
  "language_info": {
   "codemirror_mode": {
    "name": "ipython",
    "version": 3
   },
   "file_extension": ".py",
   "mimetype": "text/x-python",
   "name": "python",
   "nbconvert_exporter": "python",
   "pygments_lexer": "ipython3",
   "version": "3.7.0"
  }
 },
 "nbformat": 4,
 "nbformat_minor": 2
}
