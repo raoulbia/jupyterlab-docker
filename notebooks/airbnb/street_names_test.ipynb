{
 "cells": [
  {
   "cell_type": "code",
   "execution_count": 33,
   "metadata": {},
   "outputs": [
    {
     "data": {
      "text/plain": [
       "'\\nNew area is the five administrative areas within Dublin City Council \\n-1-Central, 2-North West, 3-North West, 4-South Central and 5-South East\\n'"
      ]
     },
     "execution_count": 33,
     "metadata": {},
     "output_type": "execute_result"
    }
   ],
   "source": [
    "# https://github.com/karthikvijayakumar/Kaggle/blob/master/AirBnB_Seattle/Seattle_AirBnB_exploration.ipynb\n",
    "# https://www.citypopulation.de/php/ireland-dublin.php\n",
    "# https://data.gov.ie/dataset/dublin-city-roads-and-streets\n",
    "# https://www.geopostcodes.com/Dublin_10_Dublin\n",
    "\n",
    "\"\"\"\n",
    "New area is the five administrative areas within Dublin City Council \n",
    "-1-Central, 2-North West, 3-North West, 4-South Central and 5-South East\n",
    "\"\"\""
   ]
  },
  {
   "cell_type": "code",
   "execution_count": 15,
   "metadata": {},
   "outputs": [],
   "source": [
    "# !pip install sklearn\n",
    "# !pip install xlrd"
   ]
  },
  {
   "cell_type": "code",
   "execution_count": 3,
   "metadata": {},
   "outputs": [],
   "source": [
    "import pandas as pd\n",
    "import numpy as np\n",
    "import csv\n",
    "import re\n",
    "pd.set_option('display.max_colwidth', -1)"
   ]
  },
  {
   "cell_type": "code",
   "execution_count": 13,
   "metadata": {},
   "outputs": [
    {
     "name": "stdout",
     "output_type": "stream",
     "text": [
      "[Errno 2] No such file or directory: '../../data/airbnbdata/geo'\n",
      "/usr/local/bin/notebooks/data/airbnbdata/geo\n"
     ]
    }
   ],
   "source": [
    "%cd ../../data/airbnbdata/geo\n",
    "# !ls"
   ]
  },
  {
   "cell_type": "code",
   "execution_count": 32,
   "metadata": {},
   "outputs": [
    {
     "name": "stdout",
     "output_type": "stream",
     "text": [
      "(4771, 13)\n"
     ]
    },
    {
     "data": {
      "text/html": [
       "<div>\n",
       "<style scoped>\n",
       "    .dataframe tbody tr th:only-of-type {\n",
       "        vertical-align: middle;\n",
       "    }\n",
       "\n",
       "    .dataframe tbody tr th {\n",
       "        vertical-align: top;\n",
       "    }\n",
       "\n",
       "    .dataframe thead th {\n",
       "        text-align: right;\n",
       "    }\n",
       "</style>\n",
       "<table border=\"1\" class=\"dataframe\">\n",
       "  <thead>\n",
       "    <tr style=\"text-align: right;\">\n",
       "      <th></th>\n",
       "      <th>street_name</th>\n",
       "      <th>street_class_code</th>\n",
       "      <th>new_area_code</th>\n",
       "      <th>surface_type_code</th>\n",
       "      <th>Subarea</th>\n",
       "      <th>Subarea EA</th>\n",
       "      <th>line_length</th>\n",
       "      <th>route_no</th>\n",
       "      <th>year_built</th>\n",
       "      <th>os_sheets</th>\n",
       "      <th>road_start</th>\n",
       "      <th>road_finish</th>\n",
       "      <th>Irish</th>\n",
       "    </tr>\n",
       "  </thead>\n",
       "  <tbody>\n",
       "    <tr>\n",
       "      <th>1250</th>\n",
       "      <td>donnybrook castle</td>\n",
       "      <td>5.0</td>\n",
       "      <td>5</td>\n",
       "      <td>1.0</td>\n",
       "      <td>12</td>\n",
       "      <td>25</td>\n",
       "      <td>0.0</td>\n",
       "      <td>NaN</td>\n",
       "      <td>1995.0</td>\n",
       "      <td>332908.0</td>\n",
       "      <td>STILLORGAN ROAD</td>\n",
       "      <td>NaN</td>\n",
       "      <td>Caisleán Domnach Broc</td>\n",
       "    </tr>\n",
       "  </tbody>\n",
       "</table>\n",
       "</div>"
      ],
      "text/plain": [
       "            street_name  street_class_code  new_area_code  surface_type_code  \\\n",
       "1250  donnybrook castle  5.0                5              1.0                 \n",
       "\n",
       "     Subarea Subarea EA  line_length route_no  year_built  os_sheets  \\\n",
       "1250  12      25         0.0          NaN      1995.0      332908.0    \n",
       "\n",
       "           road_start road_finish                  Irish  \n",
       "1250  STILLORGAN ROAD  NaN         Caisleán Domnach Broc  "
      ]
     },
     "execution_count": 32,
     "metadata": {},
     "output_type": "execute_result"
    }
   ],
   "source": [
    "filename = 'DCC_DublincityRoadsandStreets.csv' # 15 cols\n",
    "streets = pd.read_csv(filename,\n",
    "                       encoding='latin-1',\n",
    "#                        compression='gzip',\n",
    "                       sep=',',\n",
    "#                        index_col = 'host_id',\n",
    "                       header=0\n",
    "                       )\n",
    "\n",
    "print(streets.shape)\n",
    "# streets = streets[['street_name', 'new_area_code']]\n",
    "streets['street_name'] = streets['street_name'].str.lower()\n",
    "streets.head(1)\n",
    "streets[streets.street_name.str.contains('donnybrook castle')]"
   ]
  },
  {
   "cell_type": "code",
   "execution_count": 25,
   "metadata": {},
   "outputs": [
    {
     "name": "stdout",
     "output_type": "stream",
     "text": [
      "(4771, 14)\n"
     ]
    },
    {
     "data": {
      "text/html": [
       "<div>\n",
       "<style scoped>\n",
       "    .dataframe tbody tr th:only-of-type {\n",
       "        vertical-align: middle;\n",
       "    }\n",
       "\n",
       "    .dataframe tbody tr th {\n",
       "        vertical-align: top;\n",
       "    }\n",
       "\n",
       "    .dataframe thead th {\n",
       "        text-align: right;\n",
       "    }\n",
       "</style>\n",
       "<table border=\"1\" class=\"dataframe\">\n",
       "  <thead>\n",
       "    <tr style=\"text-align: right;\">\n",
       "      <th></th>\n",
       "      <th>street_name</th>\n",
       "      <th>street_class_code</th>\n",
       "      <th>new_area_code</th>\n",
       "      <th>surface_type_code</th>\n",
       "      <th>Subarea</th>\n",
       "      <th>Subarea EA</th>\n",
       "      <th>line_length</th>\n",
       "      <th>route_no</th>\n",
       "      <th>year_built</th>\n",
       "      <th>in_charge</th>\n",
       "      <th>os_sheets</th>\n",
       "      <th>road_start</th>\n",
       "      <th>road_finish</th>\n",
       "      <th>Irish</th>\n",
       "    </tr>\n",
       "  </thead>\n",
       "  <tbody>\n",
       "    <tr>\n",
       "      <th>4047</th>\n",
       "      <td>vernon drive</td>\n",
       "      <td>6.0</td>\n",
       "      <td>3</td>\n",
       "      <td>2.0</td>\n",
       "      <td>15</td>\n",
       "      <td>15</td>\n",
       "      <td>196.0</td>\n",
       "      <td>NaN</td>\n",
       "      <td>NaN</td>\n",
       "      <td>Y</td>\n",
       "      <td>319906.0</td>\n",
       "      <td>CASTLE AVENUE</td>\n",
       "      <td>NaN</td>\n",
       "      <td>Céide Bhearnon</td>\n",
       "    </tr>\n",
       "  </tbody>\n",
       "</table>\n",
       "</div>"
      ],
      "text/plain": [
       "       street_name  street_class_code  new_area_code  surface_type_code  \\\n",
       "4047  vernon drive  6.0                3              2.0                 \n",
       "\n",
       "     Subarea Subarea EA  line_length route_no  year_built in_charge  \\\n",
       "4047  15      15         196.0        NaN     NaN          Y          \n",
       "\n",
       "      os_sheets     road_start road_finish           Irish  \n",
       "4047  319906.0   CASTLE AVENUE  NaN         Céide Bhearnon  "
      ]
     },
     "execution_count": 25,
     "metadata": {},
     "output_type": "execute_result"
    }
   ],
   "source": [
    "filename = 'dcc-dublincityroadsandstreetsp20120619-1146.xls' # 15 cols\n",
    "streets = pd.read_excel(filename)\n",
    "\n",
    "print(streets.shape)\n",
    "# streets = streets[['street_name', 'new_area_code']]\n",
    "streets['street_name'] = streets['street_name'].str.lower()\n",
    "streets.head(1)\n",
    "streets[streets.street_name=='vernon drive']"
   ]
  },
  {
   "cell_type": "code",
   "execution_count": null,
   "metadata": {},
   "outputs": [],
   "source": []
  }
 ],
 "metadata": {
  "kernelspec": {
   "display_name": "Python 3",
   "language": "python",
   "name": "python3"
  },
  "language_info": {
   "codemirror_mode": {
    "name": "ipython",
    "version": 3
   },
   "file_extension": ".py",
   "mimetype": "text/x-python",
   "name": "python",
   "nbconvert_exporter": "python",
   "pygments_lexer": "ipython3",
   "version": "3.7.0"
  }
 },
 "nbformat": 4,
 "nbformat_minor": 2
}
