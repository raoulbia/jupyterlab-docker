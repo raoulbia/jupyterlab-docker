{
 "cells": [
  {
   "cell_type": "code",
   "execution_count": 134,
   "metadata": {},
   "outputs": [],
   "source": [
    "# https://rstudio-pubs-static.s3.amazonaws.com/407929_afc5ef0f2ad648389447a6ca3f4a7cd4.html"
   ]
  },
  {
   "cell_type": "code",
   "execution_count": null,
   "metadata": {},
   "outputs": [],
   "source": [
    "# !pip install sklearn\n",
    "# !pip install reverse_geocoder"
   ]
  },
  {
   "cell_type": "code",
   "execution_count": 81,
   "metadata": {},
   "outputs": [],
   "source": [
    "import pandas as pd\n",
    "import csv\n",
    "from sklearn import preprocessing\n",
    "import reverse_geocoder as rg \n",
    "import pprint "
   ]
  },
  {
   "cell_type": "code",
   "execution_count": 99,
   "metadata": {},
   "outputs": [
    {
     "name": "stdout",
     "output_type": "stream",
     "text": [
      "201702_calendar.csv.gz\t       201811_neighbourhoods.csv\n",
      "201702_listings.csv\t       201811_reviews.csv\n",
      "201702_listings.csv.gz\t       201811_reviews.csv.gz\n",
      "201702_listings_geocoded.csv   PPR-ALL.zip\n",
      "201702_neighbourhoods.csv      airbnbdata.zip\n",
      "201702_neighbourhoods.geojson  cso.csv\n",
      "201702_reviews.csv\t       dublin_tim_lee.zip\n",
      "201702_reviews.csv.gz\t       neighbourhoods.geojson\n",
      "201811_calendar.csv.gz\t       ppr_data_encoded.csv.zip\n",
      "201811_listings.csv\t       prtb-rents-ctdt.csv\n",
      "201811_listings.csv.gz\n"
     ]
    }
   ],
   "source": [
    "# %cd ../../data/airbnbdata\n",
    "!ls"
   ]
  },
  {
   "cell_type": "code",
   "execution_count": 109,
   "metadata": {},
   "outputs": [
    {
     "name": "stdout",
     "output_type": "stream",
     "text": [
      "(5376, 7)\n",
      "<class 'pandas.core.frame.DataFrame'>\n",
      "RangeIndex: 5376 entries, 0 to 5375\n",
      "Data columns (total 7 columns):\n",
      "street       5376 non-null object\n",
      "city         5364 non-null object\n",
      "state        5240 non-null object\n",
      "zipcode      2071 non-null object\n",
      "longitude    5376 non-null float64\n",
      "latitude     5376 non-null float64\n",
      "geocoded     5376 non-null object\n",
      "dtypes: float64(2), object(5)\n",
      "memory usage: 294.1+ KB\n"
     ]
    }
   ],
   "source": [
    "filename = '201702_listings_geocoded.csv' # 94 cols\n",
    "# filename = '201702_listings.csv' # 15 cols\n",
    "\n",
    "df = pd.read_csv(filename,\n",
    "                       encoding='utf-8',\n",
    "#                        compression='gzip',\n",
    "                       sep=',',\n",
    "#                        index_col = 0,\n",
    "                       header=0\n",
    "                       )\n",
    "\n",
    "# already removed:\n",
    "# - datapoint w/753 min nights\n",
    "# - non- Dublin City\n",
    "print(df.shape)\n",
    "df.head(1)\n",
    "# df.columns\n",
    "df.info()"
   ]
  },
  {
   "cell_type": "code",
   "execution_count": 112,
   "metadata": {},
   "outputs": [
    {
     "data": {
      "text/html": [
       "<div>\n",
       "<style scoped>\n",
       "    .dataframe tbody tr th:only-of-type {\n",
       "        vertical-align: middle;\n",
       "    }\n",
       "\n",
       "    .dataframe tbody tr th {\n",
       "        vertical-align: top;\n",
       "    }\n",
       "\n",
       "    .dataframe thead th {\n",
       "        text-align: right;\n",
       "    }\n",
       "</style>\n",
       "<table border=\"1\" class=\"dataframe\">\n",
       "  <thead>\n",
       "    <tr style=\"text-align: right;\">\n",
       "      <th></th>\n",
       "      <th>street</th>\n",
       "      <th>city</th>\n",
       "      <th>state</th>\n",
       "      <th>zipcode</th>\n",
       "      <th>longitude</th>\n",
       "      <th>latitude</th>\n",
       "      <th>geocoded</th>\n",
       "    </tr>\n",
       "  </thead>\n",
       "  <tbody>\n",
       "    <tr>\n",
       "      <th>0</th>\n",
       "      <td>South Lotts Road, Dublin, Dublin Dublin 4, Ire...</td>\n",
       "      <td>Dublin</td>\n",
       "      <td>Dublin</td>\n",
       "      <td>Dublin 4</td>\n",
       "      <td>-6.234601</td>\n",
       "      <td>53.338696</td>\n",
       "      <td>Ringsend Leinster</td>\n",
       "    </tr>\n",
       "    <tr>\n",
       "      <th>1</th>\n",
       "      <td>Dublin, Leinster 1, Ireland</td>\n",
       "      <td>Dublin</td>\n",
       "      <td>Leinster</td>\n",
       "      <td>1</td>\n",
       "      <td>-6.260862</td>\n",
       "      <td>53.348744</td>\n",
       "      <td>Dublin Leinster Dublin City</td>\n",
       "    </tr>\n",
       "    <tr>\n",
       "      <th>2</th>\n",
       "      <td>Pinehurst, Hainault Road, Foxrock, County Dubl...</td>\n",
       "      <td>Foxrock</td>\n",
       "      <td>County Dublin</td>\n",
       "      <td>NaN</td>\n",
       "      <td>-6.296731</td>\n",
       "      <td>53.359833</td>\n",
       "      <td>Cabra Leinster</td>\n",
       "    </tr>\n",
       "    <tr>\n",
       "      <th>3</th>\n",
       "      <td>Erne House, Dublin, Dublin 2, Ireland</td>\n",
       "      <td>Dublin</td>\n",
       "      <td>Dublin</td>\n",
       "      <td>2</td>\n",
       "      <td>-6.243730</td>\n",
       "      <td>53.342410</td>\n",
       "      <td>Dublin Leinster Dublin City</td>\n",
       "    </tr>\n",
       "    <tr>\n",
       "      <th>4</th>\n",
       "      <td>Gardiner Street Lower, Dublin, County Dublin, ...</td>\n",
       "      <td>Dublin</td>\n",
       "      <td>County Dublin</td>\n",
       "      <td>NaN</td>\n",
       "      <td>-6.257875</td>\n",
       "      <td>53.354777</td>\n",
       "      <td>Drumcondra Leinster</td>\n",
       "    </tr>\n",
       "    <tr>\n",
       "      <th>5</th>\n",
       "      <td>Dorset Street Upper, Dublin, County Dublin, Ir...</td>\n",
       "      <td>Dublin</td>\n",
       "      <td>County Dublin</td>\n",
       "      <td>NaN</td>\n",
       "      <td>-6.262746</td>\n",
       "      <td>53.352532</td>\n",
       "      <td>Drumcondra Leinster</td>\n",
       "    </tr>\n",
       "    <tr>\n",
       "      <th>6</th>\n",
       "      <td>Ballsbridge Terrace, Ballsbridge, Dublin, Ireland</td>\n",
       "      <td>Ballsbridge</td>\n",
       "      <td>Dublin</td>\n",
       "      <td>NaN</td>\n",
       "      <td>-6.227409</td>\n",
       "      <td>53.331988</td>\n",
       "      <td>Ringsend Leinster</td>\n",
       "    </tr>\n",
       "    <tr>\n",
       "      <th>7</th>\n",
       "      <td>Tara Street, Dublin, County Dublin 02, Ireland</td>\n",
       "      <td>Dublin</td>\n",
       "      <td>County Dublin</td>\n",
       "      <td>02</td>\n",
       "      <td>-6.254482</td>\n",
       "      <td>53.346811</td>\n",
       "      <td>Dublin Leinster Dublin City</td>\n",
       "    </tr>\n",
       "    <tr>\n",
       "      <th>8</th>\n",
       "      <td>cherry field Ave lower, Dublin 6, Dublin, Ireland</td>\n",
       "      <td>Dublin 6</td>\n",
       "      <td>Dublin</td>\n",
       "      <td>NaN</td>\n",
       "      <td>-6.244353</td>\n",
       "      <td>53.320850</td>\n",
       "      <td>Milltown</td>\n",
       "    </tr>\n",
       "    <tr>\n",
       "      <th>9</th>\n",
       "      <td>Foley Street, Dublin, Dublin, Ireland</td>\n",
       "      <td>Dublin</td>\n",
       "      <td>Dublin</td>\n",
       "      <td>NaN</td>\n",
       "      <td>-6.249698</td>\n",
       "      <td>53.353068</td>\n",
       "      <td>Fairview</td>\n",
       "    </tr>\n",
       "  </tbody>\n",
       "</table>\n",
       "</div>"
      ],
      "text/plain": [
       "                                              street         city  \\\n",
       "0  South Lotts Road, Dublin, Dublin Dublin 4, Ire...       Dublin   \n",
       "1                        Dublin, Leinster 1, Ireland       Dublin   \n",
       "2  Pinehurst, Hainault Road, Foxrock, County Dubl...      Foxrock   \n",
       "3              Erne House, Dublin, Dublin 2, Ireland       Dublin   \n",
       "4  Gardiner Street Lower, Dublin, County Dublin, ...       Dublin   \n",
       "5  Dorset Street Upper, Dublin, County Dublin, Ir...       Dublin   \n",
       "6  Ballsbridge Terrace, Ballsbridge, Dublin, Ireland  Ballsbridge   \n",
       "7     Tara Street, Dublin, County Dublin 02, Ireland       Dublin   \n",
       "8  cherry field Ave lower, Dublin 6, Dublin, Ireland     Dublin 6   \n",
       "9              Foley Street, Dublin, Dublin, Ireland       Dublin   \n",
       "\n",
       "           state   zipcode  longitude   latitude                     geocoded  \n",
       "0         Dublin  Dublin 4  -6.234601  53.338696           Ringsend Leinster   \n",
       "1       Leinster         1  -6.260862  53.348744  Dublin Leinster Dublin City  \n",
       "2  County Dublin       NaN  -6.296731  53.359833              Cabra Leinster   \n",
       "3         Dublin         2  -6.243730  53.342410  Dublin Leinster Dublin City  \n",
       "4  County Dublin       NaN  -6.257875  53.354777         Drumcondra Leinster   \n",
       "5  County Dublin       NaN  -6.262746  53.352532         Drumcondra Leinster   \n",
       "6         Dublin       NaN  -6.227409  53.331988           Ringsend Leinster   \n",
       "7  County Dublin        02  -6.254482  53.346811  Dublin Leinster Dublin City  \n",
       "8         Dublin       NaN  -6.244353  53.320850                   Milltown    \n",
       "9         Dublin       NaN  -6.249698  53.353068                   Fairview    "
      ]
     },
     "execution_count": 112,
     "metadata": {},
     "output_type": "execute_result"
    }
   ],
   "source": [
    "df_geo = df.copy()\n",
    "df_geo = df_geo[['street', 'city', 'state', 'zipcode', 'longitude', 'latitude', 'geocoded']]\n",
    "df_geo.head(10)"
   ]
  },
  {
   "cell_type": "code",
   "execution_count": 113,
   "metadata": {},
   "outputs": [],
   "source": [
    "# # split street column on comma\n",
    "# df_tmp = df_geo['street'].str.split(',', expand=True)\n",
    "# print(df_tmp.count())\n",
    "# df_tmp.head()\n",
    "\n"
   ]
  },
  {
   "cell_type": "code",
   "execution_count": 114,
   "metadata": {},
   "outputs": [
    {
     "data": {
      "text/plain": [
       "street       5376\n",
       "city         5364\n",
       "state        5240\n",
       "zipcode      2071\n",
       "longitude    5376\n",
       "latitude     5376\n",
       "geocoded     5376\n",
       "dtype: int64"
      ]
     },
     "execution_count": 114,
     "metadata": {},
     "output_type": "execute_result"
    }
   ],
   "source": [
    "# Check for missing values\n",
    "df_geo.count()"
   ]
  }
 ],
 "metadata": {
  "kernelspec": {
   "display_name": "Python 3",
   "language": "python",
   "name": "python3"
  },
  "language_info": {
   "codemirror_mode": {
    "name": "ipython",
    "version": 3
   },
   "file_extension": ".py",
   "mimetype": "text/x-python",
   "name": "python",
   "nbconvert_exporter": "python",
   "pygments_lexer": "ipython3",
   "version": "3.7.0"
  }
 },
 "nbformat": 4,
 "nbformat_minor": 2
}
