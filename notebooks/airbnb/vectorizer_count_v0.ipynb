{
 "cells": [
  {
   "cell_type": "code",
   "execution_count": 1,
   "metadata": {},
   "outputs": [],
   "source": [
    "# https://www.kaggle.com/adamschroeder/countvectorizer-tfidfvectorizer-predict-comments\n",
    "# !pip install sklearn"
   ]
  },
  {
   "cell_type": "code",
   "execution_count": 2,
   "metadata": {},
   "outputs": [],
   "source": [
    "import pandas as pd\n",
    "import numpy as np\n",
    "# np.set_printoptions(precision=3)\n",
    "np.set_printoptions(edgeitems=30, linewidth=100000, \n",
    "    formatter=dict(float=lambda x: \"%.3g\" % x))\n",
    "\n",
    "from sklearn.feature_extraction.text import CountVectorizer\n",
    "from sklearn.feature_extraction.text import TfidfVectorizer"
   ]
  },
  {
   "cell_type": "code",
   "execution_count": 3,
   "metadata": {},
   "outputs": [
    {
     "data": {
      "text/plain": [
       "['He is ::having a great Time, at the park time?',\n",
       " \"She, unlike most women, is a big player on the park's grass.\",\n",
       " \"she can't be going\"]"
      ]
     },
     "execution_count": 3,
     "metadata": {},
     "output_type": "execute_result"
    }
   ],
   "source": [
    "\"\"\"\n",
    "CountVectorizer can lowercase letters, disregard punctuation and stopwords, \n",
    "but it can't LEMMATIZE or STEM\n",
    "\"\"\"\n",
    "txt = [\"He is ::having a great Time, at the park time?\",\n",
    "       \"She, unlike most women, is a big player on the park's grass.\",\n",
    "       \"she can't be going\"]\n",
    "txt"
   ]
  },
  {
   "cell_type": "code",
   "execution_count": 4,
   "metadata": {},
   "outputs": [],
   "source": [
    "# Compile Document-Term Matrix\n",
    "\n",
    "# init\n",
    "# count_vec = CountVectorizer(stop_words=\"english\", analyzer='word', \n",
    "#                             ngram_range=(1, 1), max_df=1.0, min_df=1, max_features=None)\n",
    "\n",
    "tf = TfidfVectorizer(smooth_idf=False, sublinear_tf=False, norm=None, analyzer='word')\n",
    "\n",
    "# Transforms the data into a bag of words\n",
    "count_train = tf.fit(txt)\n",
    "bag_of_words = tf.transform(txt)"
   ]
  },
  {
   "cell_type": "code",
   "execution_count": 5,
   "metadata": {},
   "outputs": [
    {
     "name": "stdout",
     "output_type": "stream",
     "text": [
      "Every feature:\n",
      "['at', 'be', 'big', 'can', 'going', 'grass', 'great', 'having', 'he', 'is', 'most', 'on', 'park', 'player', 'she', 'the', 'time', 'unlike', 'women']\n",
      "Bag of Words:\n",
      " [[2.1 0 0 0 0 0 2.1 2.1 2.1 1.41 0 0 1.41 0 0 1.41 4.2 0 0]\n",
      " [0 0 2.1 0 0 2.1 0 0 0 1.41 2.1 2.1 1.41 2.1 1.41 1.41 0 2.1 2.1]\n",
      " [0 2.1 0 2.1 2.1 0 0 0 0 0 0 0 0 0 1.41 0 0 0 0]]\n"
     ]
    },
    {
     "data": {
      "text/plain": [
       "matrix([[2.1, 0, 0, 0, 0, 0, 2.1, 2.1, 2.1, 1.41, 0, 0, 1.41, 0, 0, 1.41, 4.2, 0, 0]])"
      ]
     },
     "execution_count": 5,
     "metadata": {},
     "output_type": "execute_result"
    }
   ],
   "source": [
    "# Print the first 10 features of the count_vec\n",
    "print(\"Every feature:\\n{}\".format(tf.get_feature_names()))\n",
    "# print(\"\\nEvery 3rd feature:\\n{}\".format(tf.get_feature_names()[::3]))\n",
    "print('Bag of Words:\\n {}'.format(bag_of_words.todense()))\n",
    "# type(bag_of_words)\n",
    "vecs = bag_of_words.todense()\n",
    "vecs[0]"
   ]
  },
  {
   "cell_type": "code",
   "execution_count": 6,
   "metadata": {},
   "outputs": [
    {
     "name": "stdout",
     "output_type": "stream",
     "text": [
      "Vocabulary size: 19\n",
      "Vocabulary content:\n",
      " {'he': 8, 'is': 9, 'having': 7, 'great': 6, 'time': 16, 'at': 0, 'the': 15, 'park': 12, 'she': 14, 'unlike': 17, 'most': 10, 'women': 18, 'big': 2, 'player': 13, 'on': 11, 'grass': 5, 'can': 3, 'be': 1, 'going': 4}\n"
     ]
    }
   ],
   "source": [
    "# Vocabulary and vocabulary ID\n",
    "print(\"Vocabulary size: {}\".format(len(count_train.vocabulary_)))\n",
    "print(\"Vocabulary content:\\n {}\".format(count_train.vocabulary_))"
   ]
  },
  {
   "cell_type": "markdown",
   "metadata": {},
   "source": [
    "### Test Unseen data"
   ]
  },
  {
   "cell_type": "code",
   "execution_count": 7,
   "metadata": {},
   "outputs": [
    {
     "data": {
      "text/plain": [
       "matrix([[0, 0, 0, 0, 0, 0, 0, 0, 0, 0, 0, 0, 0, 0, 0, 0, 0, 0, 0]])"
      ]
     },
     "execution_count": 7,
     "metadata": {},
     "output_type": "execute_result"
    }
   ],
   "source": [
    "tf.transform(['lets go for a swim today']).todense()"
   ]
  },
  {
   "cell_type": "markdown",
   "metadata": {},
   "source": [
    "#### Matrix mult."
   ]
  },
  {
   "cell_type": "code",
   "execution_count": 8,
   "metadata": {},
   "outputs": [
    {
     "data": {
      "text/plain": [
       "matrix([[41.2, 5.93, 0],\n",
       "        [5.93, 38.7, 1.98],\n",
       "        [0, 1.98, 15.2]])"
      ]
     },
     "execution_count": 8,
     "metadata": {},
     "output_type": "execute_result"
    }
   ],
   "source": [
    "vecs @ vecs.T"
   ]
  },
  {
   "cell_type": "markdown",
   "metadata": {},
   "source": [
    "### Addresses"
   ]
  },
  {
   "cell_type": "code",
   "execution_count": 9,
   "metadata": {},
   "outputs": [
    {
     "name": "stdout",
     "output_type": "stream",
     "text": [
      "/usr/local/bin/notebooks/data/airbnbdata\n"
     ]
    },
    {
     "data": {
      "text/html": [
       "<div>\n",
       "<style scoped>\n",
       "    .dataframe tbody tr th:only-of-type {\n",
       "        vertical-align: middle;\n",
       "    }\n",
       "\n",
       "    .dataframe tbody tr th {\n",
       "        vertical-align: top;\n",
       "    }\n",
       "\n",
       "    .dataframe thead th {\n",
       "        text-align: right;\n",
       "    }\n",
       "</style>\n",
       "<table border=\"1\" class=\"dataframe\">\n",
       "  <thead>\n",
       "    <tr style=\"text-align: right;\">\n",
       "      <th></th>\n",
       "      <th>street</th>\n",
       "      <th>zipcode_new</th>\n",
       "    </tr>\n",
       "  </thead>\n",
       "  <tbody>\n",
       "    <tr>\n",
       "      <th>0</th>\n",
       "      <td>north strand road, dublin, dublin, ireland</td>\n",
       "      <td>NaN</td>\n",
       "    </tr>\n",
       "    <tr>\n",
       "      <th>1</th>\n",
       "      <td>brookfield, kimmage, county dublin d12 v769, i...</td>\n",
       "      <td>dublin 12</td>\n",
       "    </tr>\n",
       "    <tr>\n",
       "      <th>2</th>\n",
       "      <td>military rd, dublin, dublin d8, ireland</td>\n",
       "      <td>dublin 8</td>\n",
       "    </tr>\n",
       "    <tr>\n",
       "      <th>3</th>\n",
       "      <td>reuben street, dublin, ireland, dublin d8, ire...</td>\n",
       "      <td>dublin 8</td>\n",
       "    </tr>\n",
       "    <tr>\n",
       "      <th>4</th>\n",
       "      <td>dame street, dublin, dublin 2, ireland</td>\n",
       "      <td>dublin 2</td>\n",
       "    </tr>\n",
       "  </tbody>\n",
       "</table>\n",
       "</div>"
      ],
      "text/plain": [
       "                                              street zipcode_new\n",
       "0         north strand road, dublin, dublin, ireland         NaN\n",
       "1  brookfield, kimmage, county dublin d12 v769, i...   dublin 12\n",
       "2            military rd, dublin, dublin d8, ireland    dublin 8\n",
       "3  reuben street, dublin, ireland, dublin d8, ire...    dublin 8\n",
       "4             dame street, dublin, dublin 2, ireland    dublin 2"
      ]
     },
     "execution_count": 9,
     "metadata": {},
     "output_type": "execute_result"
    }
   ],
   "source": [
    "%cd ../../data/airbnbdata\n",
    "filename = '201702_listings_preproc.csv' # 15 cols\n",
    "\n",
    "df_read = pd.read_csv(filename,\n",
    "                       encoding='utf-8',\n",
    "                       sep=',',\n",
    "                       index_col = 'host_id',\n",
    "                       header=0\n",
    "                       )\n",
    "\n",
    "df_read = df_read.reset_index()\n",
    "df_read = df_read[['street', 'zipcode_new']].head()\n",
    "df_read"
   ]
  },
  {
   "cell_type": "code",
   "execution_count": 10,
   "metadata": {},
   "outputs": [
    {
     "data": {
      "text/plain": [
       "['north strand road, dublin, dublin, ireland',\n",
       " 'brookfield, kimmage, county dublin d12 v769, ireland',\n",
       " 'military rd, dublin, dublin d8, ireland',\n",
       " 'reuben street, dublin, ireland, dublin d8, ireland',\n",
       " 'dame street, dublin, dublin 2, ireland']"
      ]
     },
     "execution_count": 10,
     "metadata": {},
     "output_type": "execute_result"
    }
   ],
   "source": [
    "streets_list = df_read.street.values.tolist()\n",
    "streets_list"
   ]
  },
  {
   "cell_type": "code",
   "execution_count": 11,
   "metadata": {},
   "outputs": [
    {
     "name": "stdout",
     "output_type": "stream",
     "text": [
      "Vocabulary index:\n",
      " {'north': 9, 'strand': 13, 'road': 12, 'dublin': 5, 'ireland': 6, 'brookfield': 0, 'kimmage': 7, 'county': 1, 'd12': 2, 'v769': 15, 'military': 8, 'rd': 10, 'd8': 3, 'reuben': 11, 'street': 14, 'dame': 4}\n"
     ]
    },
    {
     "data": {
      "text/plain": [
       "matrix([[0, 0, 0, 0, 0, 2, 1, 0, 0, 2.61, 0, 0, 2.61, 2.61, 0, 0],\n",
       "        [2.61, 2.61, 2.61, 0, 0, 1, 1, 2.61, 0, 0, 0, 0, 0, 0, 0, 2.61],\n",
       "        [0, 0, 0, 1.92, 0, 2, 1, 0, 2.61, 0, 2.61, 0, 0, 0, 0, 0],\n",
       "        [0, 0, 0, 1.92, 0, 2, 2, 0, 0, 0, 0, 2.61, 0, 0, 1.92, 0],\n",
       "        [0, 0, 0, 0, 2.61, 2, 1, 0, 0, 0, 0, 0, 0, 0, 1.92, 0]])"
      ]
     },
     "execution_count": 11,
     "metadata": {},
     "output_type": "execute_result"
    }
   ],
   "source": [
    "# Learn a vocabulary dictionary of all tokens in the raw documents.\n",
    "train_vocab = tf.fit(streets_list)\n",
    "print(\"Vocabulary index:\\n {}\".format(train_vocab.vocabulary_))\n",
    "\n",
    "train_data_matrix = tf.transform(streets_list)\n",
    "train_data_matrix.todense()"
   ]
  },
  {
   "cell_type": "code",
   "execution_count": 12,
   "metadata": {},
   "outputs": [
    {
     "data": {
      "text/plain": [
       "matrix([[0, 0, 0, 0, 0, 0, 0, 0, 0, 0, 0, 0, 0, 0, 0, 0],\n",
       "        [0, 0, 0, 0, 0, 0, 0, 0, 0, 0, 0, 0, 2.61, 0, 0, 0]])"
      ]
     },
     "execution_count": 12,
     "metadata": {},
     "output_type": "execute_result"
    }
   ],
   "source": [
    "q = ['dermot hurley avenue, dublin']\n",
    "q = ['dermot hurley avenue', 'effra road, rathgar']\n",
    "\n",
    "q_vector = tf.transform(q).todense()\n",
    "q_vector"
   ]
  },
  {
   "cell_type": "code",
   "execution_count": 13,
   "metadata": {},
   "outputs": [
    {
     "data": {
      "text/plain": [
       "matrix([[0, 6.81],\n",
       "        [0, 0],\n",
       "        [0, 0],\n",
       "        [0, 0],\n",
       "        [0, 0]])"
      ]
     },
     "execution_count": 13,
     "metadata": {},
     "output_type": "execute_result"
    }
   ],
   "source": [
    "res = train_data_matrix.todense() @ q_vector.T\n",
    "res"
   ]
  },
  {
   "cell_type": "markdown",
   "metadata": {},
   "source": [
    "#### argmax"
   ]
  },
  {
   "cell_type": "code",
   "execution_count": 14,
   "metadata": {},
   "outputs": [
    {
     "data": {
      "text/plain": [
       "[0, 0]"
      ]
     },
     "execution_count": 14,
     "metadata": {},
     "output_type": "execute_result"
    }
   ],
   "source": [
    "ix = np.argmax(res, axis=0) # axis=0 > run through each column\n",
    "ix = [item for sublist in ix.tolist() for item in sublist]\n",
    "ix"
   ]
  },
  {
   "cell_type": "code",
   "execution_count": 15,
   "metadata": {},
   "outputs": [],
   "source": [
    "# df_read.iloc[[0, 0], :]\n",
    "# df_read.iloc[ix, :]"
   ]
  },
  {
   "cell_type": "markdown",
   "metadata": {},
   "source": [
    "#### max()"
   ]
  },
  {
   "cell_type": "code",
   "execution_count": 16,
   "metadata": {},
   "outputs": [
    {
     "data": {
      "text/plain": [
       "[0.0, 6.8091662188484365]"
      ]
     },
     "execution_count": 16,
     "metadata": {},
     "output_type": "execute_result"
    }
   ],
   "source": [
    "scores = pd.DataFrame(res).max().values.tolist()\n",
    "scores"
   ]
  },
  {
   "cell_type": "markdown",
   "metadata": {},
   "source": [
    "#### select argmax in df of interest"
   ]
  },
  {
   "cell_type": "code",
   "execution_count": 18,
   "metadata": {},
   "outputs": [
    {
     "data": {
      "text/html": [
       "<div>\n",
       "<style scoped>\n",
       "    .dataframe tbody tr th:only-of-type {\n",
       "        vertical-align: middle;\n",
       "    }\n",
       "\n",
       "    .dataframe tbody tr th {\n",
       "        vertical-align: top;\n",
       "    }\n",
       "\n",
       "    .dataframe thead th {\n",
       "        text-align: right;\n",
       "    }\n",
       "</style>\n",
       "<table border=\"1\" class=\"dataframe\">\n",
       "  <thead>\n",
       "    <tr style=\"text-align: right;\">\n",
       "      <th></th>\n",
       "      <th>street</th>\n",
       "      <th>zipcode_new</th>\n",
       "      <th>scores</th>\n",
       "    </tr>\n",
       "  </thead>\n",
       "  <tbody>\n",
       "    <tr>\n",
       "      <th>0</th>\n",
       "      <td>north strand road, dublin, dublin, ireland</td>\n",
       "      <td>NaN</td>\n",
       "      <td>0.000000</td>\n",
       "    </tr>\n",
       "    <tr>\n",
       "      <th>0</th>\n",
       "      <td>north strand road, dublin, dublin, ireland</td>\n",
       "      <td>NaN</td>\n",
       "      <td>6.809166</td>\n",
       "    </tr>\n",
       "  </tbody>\n",
       "</table>\n",
       "</div>"
      ],
      "text/plain": [
       "                                       street zipcode_new    scores\n",
       "0  north strand road, dublin, dublin, ireland         NaN  0.000000\n",
       "0  north strand road, dublin, dublin, ireland         NaN  6.809166"
      ]
     },
     "execution_count": 18,
     "metadata": {},
     "output_type": "execute_result"
    }
   ],
   "source": [
    "tmp = df_read.iloc[ix, :].copy()\n",
    "tmp['scores'] = scores\n",
    "tmp"
   ]
  }
 ],
 "metadata": {
  "kernelspec": {
   "display_name": "Python 3",
   "language": "python",
   "name": "python3"
  },
  "language_info": {
   "codemirror_mode": {
    "name": "ipython",
    "version": 3
   },
   "file_extension": ".py",
   "mimetype": "text/x-python",
   "name": "python",
   "nbconvert_exporter": "python",
   "pygments_lexer": "ipython3",
   "version": "3.7.0"
  }
 },
 "nbformat": 4,
 "nbformat_minor": 2
}
